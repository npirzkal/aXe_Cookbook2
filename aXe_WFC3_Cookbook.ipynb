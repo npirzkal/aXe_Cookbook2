{
 "cells": [
  {
   "cell_type": "markdown",
   "metadata": {},
   "source": [
    "<h2>HSTaXe Installation</h2>"
   ]
  },
  {
   "cell_type": "markdown",
   "metadata": {},
   "source": [
    "<li>conda create --name hstaxe python=3 \n",
    "<li>conda activate hstaxe\n",
    "<li>git clone https://github.com/spacetelescope/hstaxe.git\n",
    "<li>conda install numpy astropy gsl cfitsio wcstools stwcs stsci.imagestats drizzle drizzlepac jupyter\n",
    "<li>cd hstaxe\n",
    "<li>python setup.py install"
   ]
  },
  {
   "cell_type": "markdown",
   "metadata": {},
   "source": [
    "<h2> Load a few Python modules"
   ]
  },
  {
   "cell_type": "code",
   "execution_count": 1,
   "metadata": {},
   "outputs": [
    {
     "name": "stdout",
     "output_type": "stream",
     "text": [
      "\n",
      "\n",
      "The following task in the stsci.skypac package can be run with TEAL:\n",
      "                                    skymatch                                    \n",
      "The following tasks in the drizzlepac package can be run with TEAL:\n",
      "    astrodrizzle       config_testbed      imagefindpars           mapreg       \n",
      "       photeq            pixreplace           pixtopix            pixtosky      \n",
      "  refimagefindpars       resetbits          runastrodriz          skytopix      \n",
      "     tweakback            tweakreg           updatenpol\n",
      "Saving hstaxe logging to 'axe_output.log'\n",
      "\n",
      "*********************************************************************\n",
      "* Welcome to hstaxe!\n",
      "This version is independent of IRAF and PyRAF. *\n",
      "*********************************************************************\n",
      "\n",
      "AXE_IMAGE_PATH already exists, using.\n",
      "AXE_OUTPUT_PATH already exists, using.\n",
      "AXE_CONFIG_PATH already exists, using.\n",
      "AXE_DRIZZLE_PATH already exists, using.\n",
      "AXE_SIMDATA_PATH already exists, using.\n",
      "AXE_OUTSIM_PATH already exists, using.\n",
      "AXE_DRZTMP_LOC already exists, using.\n"
     ]
    }
   ],
   "source": [
    "from astropy.io import fits\n",
    "import numpy as np\n",
    "import os, shutil\n",
    "import matplotlib.pyplot as plt\n",
    "%matplotlib inline\n",
    "\n",
    "from drizzlepac import astrodrizzle\n",
    "\n",
    "from hstaxe import axetasks\n",
    "\n",
    "\n"
   ]
  },
  {
   "cell_type": "markdown",
   "metadata": {},
   "source": [
    "We save the current working directory"
   ]
  },
  {
   "cell_type": "code",
   "execution_count": 2,
   "metadata": {},
   "outputs": [
    {
     "name": "stdout",
     "output_type": "stream",
     "text": [
      "We are in /Users/npirzkal/aXe_WFC3_Cookbook\n"
     ]
    }
   ],
   "source": [
    "cwd = os.getcwd()\n",
    "print(\"We are in %s\" % (cwd))"
   ]
  },
  {
   "cell_type": "markdown",
   "metadata": {},
   "source": [
    "<H2>Preparing the G141 data"
   ]
  },
  {
   "cell_type": "markdown",
   "metadata": {},
   "source": [
    "We will create a G141 subdirectory to copy all of the G141 files into. This where we will prepare the G141 data"
   ]
  },
  {
   "cell_type": "markdown",
   "metadata": {},
   "source": [
    "Creating the directory, removing any existing one"
   ]
  },
  {
   "cell_type": "code",
   "execution_count": 3,
   "metadata": {},
   "outputs": [],
   "source": [
    "os.chdir(cwd)\n",
    "if os.path.isdir(\"G141\"):\n",
    "    shutil.rmtree(\"G141\")\n",
    "os.mkdir(\"G141\")"
   ]
  },
  {
   "cell_type": "markdown",
   "metadata": {},
   "source": [
    "Copying the G141 data (which we grab from our cookbook_data directory)"
   ]
  },
  {
   "cell_type": "code",
   "execution_count": 4,
   "metadata": {},
   "outputs": [
    {
     "data": {
      "text/plain": [
       "0"
      ]
     },
     "execution_count": 4,
     "metadata": {},
     "output_type": "execute_result"
    }
   ],
   "source": [
    "os.system(\"cp cookbook_data/G141/*flt.fits G141/\")\n",
    "os.system(\"cp cookbook_data/G141/G141.lis G141/\")"
   ]
  },
  {
   "cell_type": "markdown",
   "metadata": {},
   "source": [
    "We move into the G141 directory and check the content of the G141.lis file"
   ]
  },
  {
   "cell_type": "code",
   "execution_count": 5,
   "metadata": {},
   "outputs": [
    {
     "name": "stdout",
     "output_type": "stream",
     "text": [
      "ib6o23rsq_flt.fits\r\n",
      "ib6o23ruq_flt.fits\r\n",
      "ib6o23ryq_flt.fits\r\n",
      "ib6o23s0q_flt.fits"
     ]
    }
   ],
   "source": [
    "os.chdir(cwd)\n",
    "os.chdir(\"G141\")\n",
    "!cat G141.lis"
   ]
  },
  {
   "cell_type": "markdown",
   "metadata": {},
   "source": [
    "We now create a G141 mosaic using the G141 data"
   ]
  },
  {
   "cell_type": "markdown",
   "metadata": {},
   "source": [
    "This mosaic will be used to set up the proper astrometry for each individual FLT files. We can only extract G141 spectra from FLT files which have been used to make this mosaic"
   ]
  },
  {
   "cell_type": "code",
   "execution_count": 6,
   "metadata": {},
   "outputs": [
    {
     "name": "stdout",
     "output_type": "stream",
     "text": [
      "Setting up logfile :  astrodrizzle.log\n",
      "AstroDrizzle Version 3.1.8 (2020-07-27 10:34:52 -0400) started at: 10:58:24.951 (03/11/2020)\n",
      "\n",
      "==== Processing Step  Initialization  started at  10:58:24.955 (03/11/2020)\n",
      "\n",
      "Preserving original of:  ib6o23rsq_flt.fits as  OrIg_files/ib6o23rsq_flt.fits\n",
      "Preserving original of:  ib6o23ruq_flt.fits as  OrIg_files/ib6o23ruq_flt.fits\n",
      "Preserving original of:  ib6o23ryq_flt.fits as  OrIg_files/ib6o23ryq_flt.fits\n",
      "Preserving original of:  ib6o23s0q_flt.fits as  OrIg_files/ib6o23s0q_flt.fits\n",
      "WCS Keywords\n",
      "\n",
      "Number of WCS axes: 2\n",
      "CTYPE : 'RA---TAN'  'DEC--TAN'  \n",
      "CRVAL : 53.07112904468524  -27.709598577512786  \n",
      "CRPIX : 620.0  519.0  \n",
      "CD1_1 CD1_2  : 3.4259876358475255e-05  9.767371884309525e-06  \n",
      "CD2_1 CD2_2  : 9.767371884309525e-06  -3.4259876358475255e-05  \n",
      "NAXIS : 1240  1038\n",
      "********************************************************************************\n",
      "*\n",
      "*  Estimated memory usage:  up to 90 Mb.\n",
      "*  Output image size:       1240 X 1038 pixels. \n",
      "*  Output image file:       ~ 14 Mb. \n",
      "*  Cores available:         4\n",
      "*\n",
      "********************************************************************************\n",
      "==== Processing Step Initialization finished at 10:58:26.118 (03/11/2020)\n",
      "==== Processing Step  Static Mask  started at  10:58:26.124 (03/11/2020)\n",
      "\n",
      "==== Processing Step Static Mask finished at 10:58:26.295 (03/11/2020)\n",
      "==== Processing Step  Subtract Sky  started at  10:58:26.296 (03/11/2020)\n",
      "\n",
      "***** skymatch started on 2020-11-03 10:58:26.407118\n",
      "      Version 1.0.5\n",
      "\n",
      "'skymatch' task will apply computed sky differences to input image file(s).\n",
      "\n",
      "NOTE: Computed sky values WILL NOT be subtracted from image data ('subtractsky'=False).\n",
      "'MDRIZSKY' header keyword will represent sky value *computed* from data.\n",
      "\n",
      "-----  User specified keywords:  -----\n",
      "       Sky Value Keyword:  'MDRIZSKY'\n",
      "       Data Units Keyword: 'BUNIT'\n",
      "\n",
      "\n",
      "-----  Input file list:  -----\n",
      "\n",
      "   **  Input image: 'ib6o23rsq_flt.fits'\n",
      "       EXT: 'SCI',1;\tMASK: ib6o23rsq_skymatch_mask_sci1.fits[0]\n",
      "\n",
      "   **  Input image: 'ib6o23ruq_flt.fits'\n",
      "       EXT: 'SCI',1;\tMASK: ib6o23ruq_skymatch_mask_sci1.fits[0]\n",
      "\n",
      "   **  Input image: 'ib6o23ryq_flt.fits'\n",
      "       EXT: 'SCI',1;\tMASK: ib6o23ryq_skymatch_mask_sci1.fits[0]\n",
      "\n",
      "   **  Input image: 'ib6o23s0q_flt.fits'\n",
      "       EXT: 'SCI',1;\tMASK: ib6o23s0q_skymatch_mask_sci1.fits[0]\n",
      "\n",
      "-----  Sky statistics parameters:  -----\n",
      "       statistics function: 'median'\n",
      "       lower = None\n",
      "       upper = None\n",
      "       nclip = 5\n",
      "       lsigma = 4.0\n",
      "       usigma = 4.0\n",
      "       binwidth = 0.1\n",
      "\n",
      "-----  Data->Brightness conversion parameters for input files:  -----\n",
      "\n",
      "   *   Image: ib6o23rsq_flt.fits\n",
      "       EXT = 'SCI',1\n",
      "             Data units type: COUNT-RATE\n",
      "             Conversion factor (data->brightness):  60.797431635711504\n",
      "\n",
      "   *   Image: ib6o23ruq_flt.fits\n",
      "       EXT = 'SCI',1\n",
      "             Data units type: COUNT-RATE\n",
      "             Conversion factor (data->brightness):  60.797431635711504\n",
      "\n",
      "   *   Image: ib6o23ryq_flt.fits\n",
      "       EXT = 'SCI',1\n",
      "             Data units type: COUNT-RATE\n",
      "             Conversion factor (data->brightness):  60.797431635711504\n",
      "\n",
      "   *   Image: ib6o23s0q_flt.fits\n",
      "       EXT = 'SCI',1\n",
      "             Data units type: COUNT-RATE\n",
      "             Conversion factor (data->brightness):  60.797431635711504\n",
      "\n",
      "\n",
      "-----  Computing sky values requested image extensions (detector chips):  -----\n",
      "\n",
      "   *   Image:   'ib6o23rsq_flt.fits['SCI',1]'  --  SKY = 53.426407801462396 (brightness units)\n",
      "       Sky change (data units):\n",
      "      - EXT = 'SCI',1   delta(MDRIZSKY) = 0.878761   NEW MDRIZSKY = 0.878761\n",
      "   *   Image:   'ib6o23ruq_flt.fits['SCI',1]'  --  SKY = 57.519145290461516 (brightness units)\n",
      "       Sky change (data units):\n",
      "      - EXT = 'SCI',1   delta(MDRIZSKY) = 0.946079   NEW MDRIZSKY = 0.946079\n",
      "   *   Image:   'ib6o23ryq_flt.fits['SCI',1]'  --  SKY = 54.33502725409457 (brightness units)\n",
      "       Sky change (data units):\n",
      "      - EXT = 'SCI',1   delta(MDRIZSKY) = 0.893706   NEW MDRIZSKY = 0.893706\n",
      "   *   Image:   'ib6o23s0q_flt.fits['SCI',1]'  --  SKY = 53.914020335391626 (brightness units)\n",
      "       Sky change (data units):\n",
      "      - EXT = 'SCI',1   delta(MDRIZSKY) = 0.886781   NEW MDRIZSKY = 0.886781\n",
      "***** skymatch ended on 2020-11-03 10:58:26.838787\n",
      "TOTAL RUN TIME: 0:00:00.431669\n",
      "==== Processing Step Subtract Sky finished at 10:58:26.964 (03/11/2020)\n",
      "==== Processing Step  Separate Drizzle  started at  10:58:26.96 (03/11/2020)\n",
      "\n",
      "WCS Keywords\n",
      "\n",
      "Number of WCS axes: 2\n",
      "CTYPE : 'RA---TAN'  'DEC--TAN'  \n",
      "CRVAL : 53.07112904468524  -27.709598577512786  \n",
      "CRPIX : 620.0  519.0  \n",
      "CD1_1 CD1_2  : 3.4259876358475255e-05  9.767371884309525e-06  \n",
      "CD2_1 CD2_2  : 9.767371884309525e-06  -3.4259876358475255e-05  \n",
      "NAXIS : 1240  1038\n",
      "-Generating simple FITS output: ib6o23rsq_single_sci.fits\n",
      "-Generating simple FITS output: ib6o23ruq_single_sci.fits\n",
      "-Generating simple FITS output: ib6o23s0q_single_sci.fits\n",
      "-Generating simple FITS output: ib6o23ryq_single_sci.fits\n",
      "Writing out image to disk: ib6o23rsq_single_sci.fits\n",
      "Writing out image to disk: ib6o23ruq_single_sci.fits\n",
      "Writing out image to disk: ib6o23s0q_single_sci.fits\n",
      "Writing out image to disk: ib6o23ryq_single_sci.fits\n",
      "Writing out image to disk: ib6o23rsq_single_wht.fits\n",
      "Writing out image to disk: ib6o23ruq_single_wht.fits\n",
      "Writing out image to disk: ib6o23s0q_single_wht.fits\n",
      "Writing out image to disk: ib6o23ryq_single_wht.fits\n",
      "==== Processing Step Separate Drizzle finished at 10:58:28.011 (03/11/2020)\n",
      "==== Processing Step  Create Median  started at  10:58:28.015 (03/11/2020)\n",
      "\n",
      "reference sky value for image 'ib6o23rsq_flt.fits' is 969.2167784956323\n",
      "reference sky value for image 'ib6o23ruq_flt.fits' is 948.8556237788974\n",
      "reference sky value for image 'ib6o23ryq_flt.fits' is 985.7001853911735\n",
      "reference sky value for image 'ib6o23s0q_flt.fits' is 889.3842413240719\n",
      "Saving output median image to: 'G141_med.fits'\n",
      "==== Processing Step Create Median finished at 10:58:28.616 (03/11/2020)\n",
      "==== Processing Step  Blot  started at  10:58:28.618 (03/11/2020)\n",
      "\n",
      "    Blot: creating blotted image:  ib6o23rsq_flt.fits[sci,1]\n",
      "Using default C-based coordinate transformation...\n",
      "-Generating simple FITS output: ib6o23rsq_sci1_blt.fits\n",
      "Writing out image to disk: ib6o23rsq_sci1_blt.fits\n",
      "    Blot: creating blotted image:  ib6o23ruq_flt.fits[sci,1]\n",
      "Using default C-based coordinate transformation...\n",
      "-Generating simple FITS output: ib6o23ruq_sci1_blt.fits\n",
      "Writing out image to disk: ib6o23ruq_sci1_blt.fits\n",
      "    Blot: creating blotted image:  ib6o23ryq_flt.fits[sci,1]\n",
      "Using default C-based coordinate transformation...\n",
      "-Generating simple FITS output: ib6o23ryq_sci1_blt.fits\n",
      "Writing out image to disk: ib6o23ryq_sci1_blt.fits\n",
      "    Blot: creating blotted image:  ib6o23s0q_flt.fits[sci,1]\n",
      "Using default C-based coordinate transformation...\n",
      "-Generating simple FITS output: ib6o23s0q_sci1_blt.fits\n",
      "Writing out image to disk: ib6o23s0q_sci1_blt.fits\n",
      "==== Processing Step Blot finished at 10:58:30.145 (03/11/2020)\n",
      "==== Processing Step  Driz_CR  started at  10:58:30.147 (03/11/2020)\n",
      "\n",
      "Creating output: ib6o23rsq_sci1_crmask.fits\n",
      "Creating output: ib6o23ryq_sci1_crmask.fits\n",
      "Creating output: ib6o23s0q_sci1_crmask.fits\n",
      "Creating output: ib6o23ruq_sci1_crmask.fits\n",
      "==== Processing Step Driz_CR finished at 10:58:31.279 (03/11/2020)\n",
      "==== Processing Step  Final Drizzle  started at  10:58:31.292 (03/11/2020)\n",
      "\n",
      "WCS Keywords\n",
      "\n",
      "Number of WCS axes: 2\n",
      "CTYPE : 'RA---TAN'  'DEC--TAN'  \n",
      "CRVAL : 53.07112904468524  -27.709598577512786  \n",
      "CRPIX : 620.0  519.0  \n",
      "CD1_1 CD1_2  : 3.4259876358475255e-05  9.767371884309525e-06  \n",
      "CD2_1 CD2_2  : 9.767371884309525e-06  -3.4259876358475255e-05  \n",
      "NAXIS : 1240  1038\n",
      "-Generating multi-extension output file:  G141_drz.fits\n",
      "Writing out to disk: G141_drz.fits\n",
      "==== Processing Step Final Drizzle finished at 10:58:34.605 (03/11/2020)\n",
      "\n",
      "AstroDrizzle Version 3.1.8 is finished processing at 10:58:34.608 (03/11/2020).\n",
      "\n",
      "\n",
      "\n",
      "   --------------------          --------------------\n",
      "                   Step          Elapsed time\n",
      "   --------------------          --------------------\n",
      "\n",
      "         Initialization          1.1631 sec.\n",
      "            Static Mask          0.1713 sec.\n",
      "           Subtract Sky          0.6672 sec.\n",
      "       Separate Drizzle          1.0460 sec.\n",
      "          Create Median          0.6015 sec.\n",
      "                   Blot          1.5273 sec.\n"
     ]
    },
    {
     "name": "stdout",
     "output_type": "stream",
     "text": [
      "                Driz_CR          1.1326 sec.\n",
      "          Final Drizzle          3.3129 sec.\n",
      "   ====================          ====================\n",
      "                  Total          9.6219 sec.\n",
      "\n",
      "Trailer file written to:  astrodrizzle.log\n"
     ]
    }
   ],
   "source": [
    "astrodrizzle.AstroDrizzle(\"@G141.lis\",output=\"G141\",build=True)"
   ]
  },
  {
   "cell_type": "markdown",
   "metadata": {},
   "source": [
    "We now prepare the F140W Imaging data"
   ]
  },
  {
   "cell_type": "markdown",
   "metadata": {},
   "source": [
    "We already created a mosaic of all the G141 data for astrometric purposes, and we now create an F140W mosaic using the G141 mosaic as the astrometric reference frame. This will ensure that the G141 and F140W mosaics have pixels with the same RA and DEC. \n",
    "The process is similar to what we did with the G141 data and we do this in a F140W sub-directory. The F140W mosaic is generated with the same WCS as the G141 mosaic we already generated."
   ]
  },
  {
   "cell_type": "markdown",
   "metadata": {},
   "source": [
    "Creating the directory, removing any existing one"
   ]
  },
  {
   "cell_type": "code",
   "execution_count": 7,
   "metadata": {},
   "outputs": [],
   "source": [
    "os.chdir(cwd)\n",
    "\n",
    "if os.path.isdir(\"F140W\"):\n",
    "    shutil.rmtree(\"F140W\")\n",
    "\n",
    "os.mkdir(\"F140W\")\n"
   ]
  },
  {
   "cell_type": "markdown",
   "metadata": {},
   "source": [
    "Copy the F140W data (which we grab from our cookbook_data directory)"
   ]
  },
  {
   "cell_type": "code",
   "execution_count": 8,
   "metadata": {},
   "outputs": [
    {
     "data": {
      "text/plain": [
       "0"
      ]
     },
     "execution_count": 8,
     "metadata": {},
     "output_type": "execute_result"
    }
   ],
   "source": [
    "os.system(\"cp cookbook_data/F140W/*flt.fits F140W/\")\n",
    "os.system(\"cp cookbook_data/F140W/F140W.lis F140W/\")"
   ]
  },
  {
   "cell_type": "markdown",
   "metadata": {},
   "source": [
    "We move into the F140W directory and check the content of the F140W.lis file"
   ]
  },
  {
   "cell_type": "code",
   "execution_count": 9,
   "metadata": {},
   "outputs": [
    {
     "name": "stdout",
     "output_type": "stream",
     "text": [
      "ib6o23rtq_flt.fits\r\n",
      "ib6o23rwq_flt.fits\r\n",
      "ib6o23rzq_flt.fits\r\n",
      "ib6o23s2q_flt.fits\r\n"
     ]
    }
   ],
   "source": [
    "os.chdir(cwd)\n",
    "os.chdir(\"F140W\")\n",
    "!cat F140W.lis"
   ]
  },
  {
   "cell_type": "markdown",
   "metadata": {},
   "source": [
    "We create a F140W mosaic using the F140W data and the G141 mosaic as a reference"
   ]
  },
  {
   "cell_type": "code",
   "execution_count": 10,
   "metadata": {},
   "outputs": [
    {
     "name": "stdout",
     "output_type": "stream",
     "text": [
      "Setting up logfile :  astrodrizzle.log\n",
      "AstroDrizzle Version 3.1.8 (2020-07-27 10:34:52 -0400) started at: 10:58:34.985 (03/11/2020)\n",
      "\n",
      "==== Processing Step  Initialization  started at  10:58:34.989 (03/11/2020)\n",
      "\n",
      "Preserving original of:  ib6o23rtq_flt.fits as  OrIg_files/ib6o23rtq_flt.fits\n",
      "Preserving original of:  ib6o23rwq_flt.fits as  OrIg_files/ib6o23rwq_flt.fits\n",
      "Preserving original of:  ib6o23rzq_flt.fits as  OrIg_files/ib6o23rzq_flt.fits\n",
      "Preserving original of:  ib6o23s2q_flt.fits as  OrIg_files/ib6o23s2q_flt.fits\n",
      "Creating OUTPUT WCS from ../G141/G141_drz.fits[1]\n",
      "WCS Keywords\n",
      "\n",
      "CD_11  CD_12: 3.42598763584752e-05 9.76737188430952e-06\n",
      "CD_21  CD_22: 9.76737188430952e-06 -3.4259876358475e-05\n",
      "CRVAL    : 53.07112904468524 -27.70959857751279\n",
      "CRPIX    : 620.0 519.0\n",
      "NAXIS    : 1240 1038\n",
      "Plate Scale : 0.1282500028610227\n",
      "ORIENTAT : 164.08733290095458\n",
      "********************************************************************************\n",
      "*\n",
      "*  Estimated memory usage:  up to 90 Mb.\n",
      "*  Output image size:       1240 X 1038 pixels. \n",
      "*  Output image file:       ~ 14 Mb. \n",
      "*  Cores available:         4\n",
      "*\n",
      "********************************************************************************\n",
      "==== Processing Step Initialization finished at 10:58:36.172 (03/11/2020)\n",
      "==== Processing Step  Static Mask  started at  10:58:36.178 (03/11/2020)\n",
      "\n",
      "==== Processing Step Static Mask finished at 10:58:36.404 (03/11/2020)\n",
      "==== Processing Step  Subtract Sky  started at  10:58:36.40 (03/11/2020)\n",
      "\n",
      "***** skymatch started on 2020-11-03 10:58:36.513211\n",
      "      Version 1.0.5\n",
      "\n",
      "'skymatch' task will apply computed sky differences to input image file(s).\n",
      "\n",
      "NOTE: Computed sky values WILL NOT be subtracted from image data ('subtractsky'=False).\n",
      "'MDRIZSKY' header keyword will represent sky value *computed* from data.\n",
      "\n",
      "-----  User specified keywords:  -----\n",
      "       Sky Value Keyword:  'MDRIZSKY'\n",
      "       Data Units Keyword: 'BUNIT'\n",
      "\n",
      "\n",
      "-----  Input file list:  -----\n",
      "\n",
      "   **  Input image: 'ib6o23rtq_flt.fits'\n",
      "       EXT: 'SCI',1;\tMASK: ib6o23rtq_skymatch_mask_sci1.fits[0]\n",
      "\n",
      "   **  Input image: 'ib6o23rwq_flt.fits'\n",
      "       EXT: 'SCI',1;\tMASK: ib6o23rwq_skymatch_mask_sci1.fits[0]\n",
      "\n",
      "   **  Input image: 'ib6o23rzq_flt.fits'\n",
      "       EXT: 'SCI',1;\tMASK: ib6o23rzq_skymatch_mask_sci1.fits[0]\n",
      "\n",
      "   **  Input image: 'ib6o23s2q_flt.fits'\n",
      "       EXT: 'SCI',1;\tMASK: ib6o23s2q_skymatch_mask_sci1.fits[0]\n",
      "\n",
      "-----  Sky statistics parameters:  -----\n",
      "       statistics function: 'median'\n",
      "       lower = None\n",
      "       upper = None\n",
      "       nclip = 5\n",
      "       lsigma = 4.0\n",
      "       usigma = 4.0\n",
      "       binwidth = 0.1\n",
      "\n",
      "-----  Data->Brightness conversion parameters for input files:  -----\n",
      "\n",
      "   *   Image: ib6o23rtq_flt.fits\n",
      "       EXT = 'SCI',1\n",
      "             Data units type: COUNT-RATE\n",
      "             Conversion factor (data->brightness):  60.797431635711504\n",
      "\n",
      "   *   Image: ib6o23rwq_flt.fits\n",
      "       EXT = 'SCI',1\n",
      "             Data units type: COUNT-RATE\n",
      "             Conversion factor (data->brightness):  60.797431635711504\n",
      "\n",
      "   *   Image: ib6o23rzq_flt.fits\n",
      "       EXT = 'SCI',1\n",
      "             Data units type: COUNT-RATE\n",
      "             Conversion factor (data->brightness):  60.797431635711504\n",
      "\n",
      "   *   Image: ib6o23s2q_flt.fits\n",
      "       EXT = 'SCI',1\n",
      "             Data units type: COUNT-RATE\n",
      "             Conversion factor (data->brightness):  60.797431635711504\n",
      "\n",
      "\n",
      "-----  Computing sky values requested image extensions (detector chips):  -----\n",
      "\n",
      "   *   Image:   'ib6o23rtq_flt.fits['SCI',1]'  --  SKY = 38.825598101051476 (brightness units)\n",
      "       Sky change (data units):\n",
      "      - EXT = 'SCI',1   delta(MDRIZSKY) = 0.638606   NEW MDRIZSKY = 0.638606\n",
      "   *   Image:   'ib6o23rwq_flt.fits['SCI',1]'  --  SKY = 42.938052736538424 (brightness units)\n",
      "       Sky change (data units):\n",
      "      - EXT = 'SCI',1   delta(MDRIZSKY) = 0.706248   NEW MDRIZSKY = 0.706248\n",
      "   *   Image:   'ib6o23rzq_flt.fits['SCI',1]'  --  SKY = 39.11018309424795 (brightness units)\n",
      "       Sky change (data units):\n",
      "      - EXT = 'SCI',1   delta(MDRIZSKY) = 0.643287   NEW MDRIZSKY = 0.643287\n",
      "   *   Image:   'ib6o23s2q_flt.fits['SCI',1]'  --  SKY = 39.28027020829916 (brightness units)\n",
      "       Sky change (data units):\n",
      "      - EXT = 'SCI',1   delta(MDRIZSKY) = 0.646084   NEW MDRIZSKY = 0.646084\n",
      "***** skymatch ended on 2020-11-03 10:58:36.945942\n",
      "TOTAL RUN TIME: 0:00:00.432731\n",
      "==== Processing Step Subtract Sky finished at 10:58:37.073 (03/11/2020)\n",
      "==== Processing Step  Separate Drizzle  started at  10:58:37.075 (03/11/2020)\n",
      "\n",
      "WCS Keywords\n",
      "\n",
      "CD_11  CD_12: 3.42598763584752e-05 9.76737188430952e-06\n",
      "CD_21  CD_22: 9.76737188430952e-06 -3.4259876358475e-05\n",
      "CRVAL    : 53.07112904468524 -27.70959857751279\n",
      "CRPIX    : 620.0 519.0\n",
      "NAXIS    : 1240 1038\n",
      "Plate Scale : 0.1282500028610227\n",
      "ORIENTAT : 164.08733290095458\n",
      "-Generating simple FITS output: ib6o23rtq_single_sci.fits\n",
      "-Generating simple FITS output: ib6o23rwq_single_sci.fits\n",
      "-Generating simple FITS output: ib6o23rzq_single_sci.fits\n",
      "-Generating simple FITS output: ib6o23s2q_single_sci.fits\n",
      "Writing out image to disk: ib6o23rtq_single_sci.fits\n",
      "Writing out image to disk: ib6o23rwq_single_sci.fits\n",
      "Writing out image to disk: ib6o23s2q_single_sci.fits\n",
      "Writing out image to disk: ib6o23rzq_single_sci.fits\n",
      "Writing out image to disk: ib6o23rtq_single_wht.fits\n",
      "Writing out image to disk: ib6o23rwq_single_wht.fits\n",
      "Writing out image to disk: ib6o23s2q_single_wht.fits\n",
      "Writing out image to disk: ib6o23rzq_single_wht.fits\n",
      "==== Processing Step Separate Drizzle finished at 10:58:38.121 (03/11/2020)\n",
      "==== Processing Step  Create Median  started at  10:58:38.1 (03/11/2020)\n",
      "\n",
      "reference sky value for image 'ib6o23rtq_flt.fits' is 129.5941598035537\n",
      "reference sky value for image 'ib6o23rwq_flt.fits' is 143.32093103909398\n",
      "reference sky value for image 'ib6o23rzq_flt.fits' is 130.5440628286148\n",
      "reference sky value for image 'ib6o23s2q_flt.fits' is 131.11178870321714\n",
      "Saving output median image to: 'F140W_med.fits'\n",
      "==== Processing Step Create Median finished at 10:58:38.749 (03/11/2020)\n",
      "==== Processing Step  Blot  started at  10:58:38.751 (03/11/2020)\n",
      "\n",
      "    Blot: creating blotted image:  ib6o23rtq_flt.fits[sci,1]\n",
      "Using default C-based coordinate transformation...\n",
      "-Generating simple FITS output: ib6o23rtq_sci1_blt.fits\n",
      "Writing out image to disk: ib6o23rtq_sci1_blt.fits\n",
      "    Blot: creating blotted image:  ib6o23rwq_flt.fits[sci,1]\n",
      "Using default C-based coordinate transformation...\n",
      "-Generating simple FITS output: ib6o23rwq_sci1_blt.fits\n",
      "Writing out image to disk: ib6o23rwq_sci1_blt.fits\n",
      "    Blot: creating blotted image:  ib6o23rzq_flt.fits[sci,1]\n",
      "Using default C-based coordinate transformation...\n",
      "-Generating simple FITS output: ib6o23rzq_sci1_blt.fits\n",
      "Writing out image to disk: ib6o23rzq_sci1_blt.fits\n",
      "    Blot: creating blotted image:  ib6o23s2q_flt.fits[sci,1]\n",
      "Using default C-based coordinate transformation...\n",
      "-Generating simple FITS output: ib6o23s2q_sci1_blt.fits\n",
      "Writing out image to disk: ib6o23s2q_sci1_blt.fits\n",
      "==== Processing Step Blot finished at 10:58:40.219 (03/11/2020)\n",
      "==== Processing Step  Driz_CR  started at  10:58:40.221 (03/11/2020)\n",
      "\n",
      "Creating output: ib6o23rwq_sci1_crmask.fits\n",
      "Creating output: ib6o23rtq_sci1_crmask.fits\n",
      "Creating output: ib6o23s2q_sci1_crmask.fits\n",
      "Creating output: ib6o23rzq_sci1_crmask.fits\n",
      "Created CR corrected file: 'ib6o23rwq_crclean.fits'\n",
      "Created CR corrected file: 'ib6o23rtq_crclean.fits'\n",
      "Created CR corrected file: 'ib6o23s2q_crclean.fits'\n",
      "Created CR corrected file: 'ib6o23rzq_crclean.fits'\n",
      "==== Processing Step Driz_CR finished at 10:58:41.345 (03/11/2020)\n",
      "==== Processing Step  Final Drizzle  started at  10:58:41.357 (03/11/2020)\n",
      "\n",
      "WCS Keywords\n",
      "\n",
      "CD_11  CD_12: 3.42598763584752e-05 9.76737188430952e-06\n",
      "CD_21  CD_22: 9.76737188430952e-06 -3.4259876358475e-05\n",
      "CRVAL    : 53.07112904468524 -27.70959857751279\n",
      "CRPIX    : 620.0 519.0\n",
      "NAXIS    : 1240 1038\n",
      "Plate Scale : 0.1282500028610227\n",
      "ORIENTAT : 164.08733290095458\n",
      "-Generating multi-extension output file:  F140W_drz.fits\n",
      "Writing out to disk: F140W_drz.fits\n",
      "==== Processing Step Final Drizzle finished at 10:58:44.710 (03/11/2020)\n",
      "\n",
      "AstroDrizzle Version 3.1.8 is finished processing at 10:58:44.714 (03/11/2020).\n",
      "\n",
      "\n",
      "\n",
      "   --------------------          --------------------\n",
      "                   Step          Elapsed time\n",
      "   --------------------          --------------------\n"
     ]
    },
    {
     "name": "stdout",
     "output_type": "stream",
     "text": [
      "\n",
      "         Initialization          1.1838 sec.\n",
      "            Static Mask          0.2262 sec.\n",
      "           Subtract Sky          0.6671 sec.\n",
      "       Separate Drizzle          1.0463 sec.\n",
      "          Create Median          0.6244 sec.\n",
      "                   Blot          1.4686 sec.\n",
      "                Driz_CR          1.1237 sec.\n",
      "          Final Drizzle          3.3533 sec.\n",
      "   ====================          ====================\n",
      "                  Total          9.6933 sec.\n",
      "\n",
      "Trailer file written to:  astrodrizzle.log\n"
     ]
    }
   ],
   "source": [
    "ref = \"../G141/G141_drz.fits[1]\"\n",
    "astrodrizzle.AstroDrizzle(\"@F140W.lis\",output=\"F140W\",in_memory=False,skysub=\"yes\",build=True,driz_cr_corr=True,driz_cr=True,final_wcs=True,driz_separate=True,driz_sep_wcs=True,driz_sep_refimage=ref,final_refimage=ref)"
   ]
  },
  {
   "cell_type": "markdown",
   "metadata": {},
   "source": [
    "The F140W and G141 should be aligned and bright objects should generate bright spectra in the expected position. We should see very liittle offset in the y-direction for WFC3 IR grism data"
   ]
  },
  {
   "cell_type": "code",
   "execution_count": 11,
   "metadata": {
    "scrolled": true
   },
   "outputs": [
    {
     "data": {
      "image/png": "[encoded data removed]",
      "text/plain": [
       "<Figure size 720x504 with 2 Axes>"
      ]
     },
     "metadata": {
      "needs_background": "light"
     },
     "output_type": "display_data"
    }
   ],
   "source": [
    "plt.rcParams[\"figure.figsize\"] = (10,7)\n",
    "plt.subplot(1,2,1)\n",
    "d = fits.open(\"F140W_drz.fits\")[1].data\n",
    "im1 = plt.imshow(d,origin=\"lower\")\n",
    "im1.set_clim(0,.2)\n",
    "\n",
    "plt.subplot(1,2,2)\n",
    "d = fits.open(\"../G141/G141_drz.fits\")[1].data\n",
    "im1 = plt.imshow(d,origin=\"lower\")\n",
    "im1.set_clim(0,.2)"
   ]
  },
  {
   "cell_type": "markdown",
   "metadata": {},
   "source": [
    "We create an object catalog using sextractor"
   ]
  },
  {
   "cell_type": "markdown",
   "metadata": {},
   "source": [
    "This is one step that needs to be done carefully as several things can go wrong.\n",
    "- Make sure you set the magnitude zeropoint properly for the image you are using\n",
    "- One can generate a simple catalog using:\n",
    "\n",
    "    sex -c aXe.sex F140W_drz.fits[1] -DETECT_THRESH 5 -MAG_ZEROPOINT 26.4525\n",
    "    \n",
    "    \n",
    "- See aXe.param for the required parameters that aXe will be looking for\n",
    "- Check the resulting catalog to make sure that all objects have good magnitudes (i.e. no mag of 99.)\n",
    "- Edit cookbook.cat and rename column MAG_ISO with MAG_F1392, or you will get an \"aXeError: Catalogue: test.cat does not contain any magnitude column!\" error when running iolprep"
   ]
  },
  {
   "cell_type": "markdown",
   "metadata": {},
   "source": [
    "This catalog, when doing a simple extraction, will be used to compute the SED of each sources. These SEDs will be used to compute our contamination models. In this example, we used a single band, F140W, but we could have added information in other bands such as F125W for example. This requires running Sextractor in matched photometry mode, and the creation of a catalog where magnitudes in multiple bands are properly listed"
   ]
  },
  {
   "cell_type": "markdown",
   "metadata": {},
   "source": [
    "For simplicity, here, we copy an already generated catalog:"
   ]
  },
  {
   "cell_type": "code",
   "execution_count": 12,
   "metadata": {},
   "outputs": [
    {
     "name": "stdout",
     "output_type": "stream",
     "text": [
      "#   1 X_IMAGE                Object position along x                                    [pixel]\r\n",
      "#   2 Y_IMAGE                Object position along y                                    [pixel]\r\n",
      "#   3 NUMBER                 Running object number                                     \r\n",
      "#   4 X_WORLD                Barycenter position along world x axis                     [deg]\r\n",
      "#   5 Y_WORLD                Barycenter position along world y axis                     [deg]\r\n",
      "#   6 A_IMAGE                Profile RMS along major axis                               [pixel]\r\n",
      "#   7 B_IMAGE                Profile RMS along minor axis                               [pixel]\r\n",
      "#   8 THETA_IMAGE            Position angle (CCW/x)                                     [deg]\r\n",
      "#   9 A_WORLD                Profile RMS along major axis (world units)                 [deg]\r\n",
      "#  10 B_WORLD                Profile RMS along minor axis (world units)                 [deg]\r\n",
      "#  11 THETA_WORLD            Position angle (CCW/world-x)                               [deg]\r\n",
      "#  12 FLUX_RADIUS            Fraction-of-light radii                                    [pixel]\r\n",
      "#  13 MAG_F1392                Isophotal magnitude                                        [mag]\r\n",
      "#  14 MAGERR_ISO             RMS error for isophotal magnitude                          [mag]\r\n",
      "  1043.2776     60.9059          1   5.3082447643e+01  -2.7689782535e+01     5.418     5.093 -46.20 0.0001923394 0.0001821672  54.95      4.942  18.2418   0.0008\r\n",
      "  1154.4778     29.8423          2   5.3086407126e+01  -2.7687631790e+01     2.143     1.754 -55.77 7.516255e-05 6.389128e-05  66.53      3.442  23.0020   0.0165\r\n",
      "   294.4587     23.6249          3   5.3053062940e+01  -2.7695818561e+01     2.839     1.092 -69.88 9.744577e-05 4.739824e-05  84.92      3.088  22.9591   0.0147\r\n",
      "   499.9916     18.3361          4   5.3060957492e+01  -2.7693630655e+01     1.682     1.548  41.11 5.959357e-05  5.54857e-05 -31.99      2.045  21.9116   0.0064\r\n",
      "  1033.7672     13.4493          5   5.3081556056e+01  -2.7688249639e+01     2.732     1.647 -27.50 9.786946e-05  5.77736e-05  37.40      3.346  22.1319   0.0086\r\n",
      "  1188.7592     13.8247          6   5.3087556661e+01  -2.7686748060e+01     0.716     0.653 -50.10 2.534721e-05 2.342576e-05  59.45      0.593  24.2546   0.0242\r\n",
      "   854.5079      6.6320          7   5.3074545300e+01  -2.7689767316e+01     2.009     1.985 -50.91 7.148926e-05 7.077317e-05  60.42      2.270  21.2924   0.0046\r\n",
      "  1143.7135      4.3907          8   5.3085709811e+01  -2.7686865034e+01     2.192     1.210  43.84 7.644219e-05 4.596022e-05 -35.10      2.647  23.1654   0.0162\r\n",
      "   168.7740      5.6050          9   5.3048000909e+01  -2.7696428063e+01     1.855     1.387  36.13 6.480296e-05 5.109603e-05 -25.92      3.396  23.3591   0.0192\r\n",
      "   218.2638      5.0915         10   5.3049910261e+01  -2.7695927390e+01     0.824     0.706  12.65 2.913695e-05 2.541107e-05   3.66      0.593  23.6564   0.0134\r\n",
      "  1218.6991      2.7470         11   5.3088592732e+01  -2.7686075977e+01     1.522     0.816 -45.80 5.306981e-05 3.110524e-05  54.51      1.953  22.7464   0.0076\r\n",
      "   189.0217      3.1018         12   5.3048756802e+01  -2.7696144658e+01     0.687     0.302  -0.33  2.44837e-05 1.074078e-05  16.19      1.132  25.2322   0.0344\r\n",
      "  1074.9161      2.3147         13   5.3083025215e+01  -2.7687466135e+01     0.680     0.631 -14.27 2.426443e-05 2.241492e-05  27.25      0.571  24.5797   0.0250\r\n",
      "   359.4591      1.3422         14   5.3055332400e+01  -2.7694420555e+01     0.501     0.472 -16.60 1.786768e-05 1.678116e-05  28.99      0.061  24.8459   0.0241\r\n",
      "   148.0148     12.6311         15   5.3047275076e+01  -2.7696871416e+01     0.740     0.622  -1.97 2.638386e-05 2.211577e-05  17.57      1.042  24.8269   0.0314\r\n",
      "   888.5502     29.1786         16   5.3076111150e+01  -2.7690207210e+01     1.444     1.257 -53.46 5.091683e-05 4.540298e-05  63.58      2.572  23.0128   0.0130\r\n",
      "  1068.4430    146.5424         17   5.3084366266e+01  -2.7692470462e+01    12.022     6.073 -44.89 0.0004194649  0.000233003  53.51     11.381  18.2713   0.0011\r\n",
      "   433.5935     20.8244         18   5.3058415764e+01  -2.7694364232e+01     0.739     0.448  69.95 2.661165e-05 1.550132e-05 -58.40      1.315  25.6802   0.0582\r\n",
      "   393.4693     31.6280         19   5.3056982335e+01  -2.7695126131e+01     1.379     1.149 -50.73 4.852801e-05 4.162722e-05  60.20      2.319  23.4271   0.0173\r\n",
      "    23.0439     24.9809         20   5.3042575332e+01  -2.7698514269e+01     0.727     0.706 -30.90 2.589591e-05 2.513071e-05  40.19      0.451  23.7178   0.0128\r\n",
      "   539.4753    994.0096         21   5.3073248517e+01  -2.7726671813e+01     0.786     0.317 -57.53 2.685258e-05 1.377442e-05  68.82      1.446  25.9100   0.0643\r\n",
      "   188.0880   1037.6752         22   5.3060129755e+01  -2.7731599498e+01     0.715     0.468  -0.00 2.546501e-05 1.668401e-05  15.91      0.516  23.4719   0.0083\r\n",
      "   178.4809   1037.6700         23   5.3059757840e+01  -2.7731693131e+01     3.709     0.545  -1.31  0.000132467 1.709432e-05  17.03      3.233  20.1524   0.0009\r\n",
      "   167.7570   1037.6445         24   5.3059342469e+01  -2.7731796966e+01     1.345     0.577   1.20  4.78361e-05 2.078539e-05  14.86      0.877  21.1285   0.0016\r\n",
      "    44.0040   1037.8236         25   5.3054554305e+01  -2.7733011353e+01     0.655     0.381   0.14 2.331655e-05  1.35847e-05  15.78      0.440  25.3018   0.0367\r\n",
      "    33.0071   1037.6654         26   5.3054126892e+01  -2.7733113291e+01     0.710     0.472  -0.46 2.531976e-05 1.678982e-05  16.30      0.466  22.9715   0.0053\r\n",
      "    21.4381   1037.3171         27   5.3053675241e+01  -2.7733214302e+01     2.262     2.143  35.53 8.020001e-05 7.673135e-05 -25.16      2.282  19.4959   0.0007\r\n",
      "     2.9346   1032.9043         28   5.3052910336e+01  -2.7733243750e+01     3.786     2.232 -56.24 0.0001307352 8.616146e-05  67.12      2.450  18.7488   0.0004\r\n",
      "     2.2786   1027.5615         29   5.3052826020e+01  -2.7733067104e+01     1.407     0.614 -80.71  4.92728e-05 2.369476e-05 -82.79      1.160  20.1025   0.0006\r\n",
      "     6.3378   1026.0231         30   5.3052966175e+01  -2.7732974770e+01     1.469     0.481  61.79 5.267075e-05 1.600982e-05 -52.04      1.482  20.6504   0.0008\r\n",
      "     2.6352   1022.6228         31   5.3052785353e+01  -2.7732894416e+01     2.149     1.307 -50.84  7.46458e-05 4.955502e-05  60.33      1.595  19.5424   0.0006\r\n",
      "    17.4681   1035.4951         32   5.3053501474e+01  -2.7733190636e+01     1.670     1.002 -59.88 5.762305e-05 3.865124e-05  71.90      1.745  19.6987   0.0005\r\n",
      "    12.2216   1031.0999         33   5.3053249916e+01  -2.7733091265e+01     3.239     1.715  80.44  0.000116541 5.885004e-05 -66.35      3.291  18.7349   0.0004\r\n",
      "    10.6593   1025.3236         34   5.3053125735e+01  -2.7732908618e+01     1.259     0.921  31.62 4.383421e-05 3.414159e-05 -20.09      1.416  20.1275   0.0007\r\n",
      "  1224.3934   1034.7712         35   5.3100205938e+01  -2.7721375441e+01     1.358     0.428   0.34 4.833335e-05 1.535122e-05  15.64      2.087  22.9664   0.0077\r\n",
      "  1237.5192   1014.4838         36   5.3100489864e+01  -2.7720552129e+01     0.795     0.694  67.34 2.841033e-05   2.4628e-05 -56.39      0.802  24.5035   0.0264\r\n",
      "  1239.6442   1017.5126         37   5.3100605547e+01  -2.7720635115e+01     1.158     0.586 -86.86 4.106956e-05 2.127001e-05 -76.85      0.730  23.8115   0.0147\r\n",
      "  1230.0806   1034.5743         38   5.3100423855e+01  -2.7721313100e+01     1.114     0.858   6.26 3.945433e-05 3.083002e-05  10.24      1.431  21.8496   0.0033\r\n",
      "  1231.6674   1030.1666         39   5.3100436586e+01  -2.7721146589e+01     2.084     0.752  70.45 7.531786e-05 2.366175e-05 -58.77      2.212  21.6052   0.0032\r\n",
      "  1238.6309   1034.0323         40   5.3100748758e+01  -2.7721210950e+01     1.903     0.989  14.94 6.614337e-05 3.823295e-05   1.14      1.765  20.5751   0.0012\r\n",
      "  1235.6449   1027.5215         41   5.3100561306e+01  -2.7721017090e+01     2.701     1.866 -69.27 9.402611e-05 6.954597e-05  84.18      3.823  20.2494   0.0016\r\n",
      "  1074.5132   1035.0000         42   5.3094408097e+01  -2.7722848302e+01     1.075     0.289   0.00 3.827974e-05 1.028405e-05  15.92      5.887  28.6178   0.8702\r\n",
      "  1069.0839   1035.0000         43   5.3094197978e+01  -2.7722901367e+01     1.015     0.289   0.00  3.61498e-05 1.028405e-05  15.92      4.187  26.8793   0.2220\r\n",
      "   640.5649   1035.0000         44   5.3077613416e+01  -2.7727088627e+01     0.986     0.289   0.00 3.514174e-05 1.028405e-05  15.92      5.919  28.1414   0.5611\r\n",
      "   662.9077   1035.0000         45   5.3078478159e+01  -2.7726870354e+01     0.984     0.289   0.00 3.506621e-05 1.028405e-05  15.92      5.400  30.9548   6.6981\r\n",
      "   657.6859   1035.0000         46   5.3078276054e+01  -2.7726921369e+01     2.304     0.289   0.00 8.207631e-05 1.028405e-05  15.92      9.794  28.0704   0.7051\r\n",
      "   647.7274   1035.0000         47   5.3077890630e+01  -2.7727018655e+01     1.099     0.289   0.00 3.915166e-05 1.028405e-05  15.92      1.218  27.5629   0.4166\r\n",
      "   627.7246   1035.0000         49   5.3077116449e+01  -2.7727214065e+01     1.139     0.289   0.00 4.057906e-05 1.028405e-05  15.92      1.805  27.7989   0.4093\r\n",
      "   542.9080   1032.3798         50   5.3073804797e+01  -2.7727952835e+01     0.871     0.685  68.29 3.120665e-05 2.417853e-05 -57.13      1.388  24.8756   0.0372\r\n",
      "   116.5455   1033.4786         51   5.3057314274e+01  -2.7732154256e+01     0.501     0.496 -54.19 1.784267e-05 1.769176e-05  64.48      0.812  25.3462   0.0382\r\n",
      "   477.0723   1029.3367         52   5.3071223086e+01  -2.7728491646e+01     1.483     1.336  68.91 5.299119e-05 4.743081e-05 -57.61      2.819  23.2831   0.0167\r\n",
      "    88.8927   1030.1787         53   5.3056207511e+01  -2.7732311181e+01     0.763     0.646  49.21 2.704519e-05 2.318697e-05 -40.78      0.693  24.8008   0.0327\r\n",
      "   134.9997   1024.0079         54   5.3057924111e+01  -2.7731649602e+01     0.709     0.707 -63.84 2.524108e-05 2.519879e-05  77.15      0.415  21.7218   0.0020\r\n",
      "    27.0308   1022.5477         55   5.3053728822e+01  -2.7732653685e+01     0.930     0.732   5.56 3.298778e-05  2.62783e-05  10.88      0.757  23.5502   0.0137\r\n",
      "   469.5097   1022.5265         56   5.3070855232e+01  -2.7728332195e+01     0.502     0.498  40.80 1.786164e-05 1.773475e-05 -31.62      2.217  26.0302   0.0718\r\n",
      "  1105.2178    991.0023         57   5.3095110580e+01  -2.7721040922e+01     1.211     0.509 -25.12 4.357837e-05  1.70861e-05  35.52      2.639  25.0427   0.0479\r\n",
      "    36.3220    989.9836         58   5.3053729298e+01  -2.7731447292e+01     1.190     0.863 -36.93 4.219485e-05 3.099626e-05  45.51      1.008  22.1597   0.0050\r\n",
      "   669.1141    984.3276         59   5.3078159116e+01  -2.7725073722e+01     3.092     1.771 -26.70 0.0001108927 6.181841e-05  36.76      4.923  22.4442   0.0122\r\n",
      "   144.0319    988.0020         60   5.3057876549e+01  -2.7730327819e+01     0.725     0.705  -1.75 2.584279e-05 2.512665e-05  17.39      0.419  22.2104   0.0034\r\n",
      "    51.6073    987.2616         61   5.3054290927e+01  -2.7731204809e+01     0.882     0.823  10.96 3.132485e-05 2.941729e-05   5.48      0.792  23.7426   0.0163\r\n",
      "   775.4208    987.0241         62   5.3082303205e+01  -2.7724127495e+01     1.082     0.634 -27.95 3.875745e-05 2.223111e-05  37.77      2.044  25.0077   0.0443\r\n",
      "  1092.5316    984.4095         63   5.3094546835e+01  -2.7720939062e+01     0.499     0.492  -0.00 1.777685e-05 1.751845e-05  15.92      0.812  25.3817   0.0395\r\n",
      "    27.3507    978.9440         64   5.3053260284e+01  -2.7731156643e+01     0.855     0.794  -5.41 3.049098e-05 2.825801e-05  20.39      0.660  22.7641   0.0069\r\n",
      "    69.6894    975.5893         65   5.3054862087e+01  -2.7730628371e+01     0.876     0.875  13.05 3.121046e-05 3.115982e-05   3.23      0.782  22.4636   0.0054\r\n",
      "  1202.5720    966.1512         66   5.3098603728e+01  -2.7719237989e+01     1.311     1.047 -19.73 4.697721e-05 3.693763e-05  31.37      1.565  23.3111   0.0144\r\n",
      "    70.0503    966.9812         67   5.3054781113e+01  -2.7730329923e+01     0.590     0.579   4.46 2.100375e-05  2.06458e-05  11.92      0.471  25.3842   0.0443\r\n",
      "    23.4660    966.3400         68   5.3052970908e+01  -2.7730762735e+01     0.814     0.474  -0.39 2.900785e-05 1.684954e-05  16.24      0.838  24.9730   0.0332\r\n",
      "   313.8640    961.3795         69   5.3064156343e+01  -2.7727757379e+01     1.650     1.224 -49.03 5.782002e-05  4.48634e-05  58.18      2.164  22.8278   0.0117\r\n",
      "   375.5638    959.6716         70   5.3066525577e+01  -2.7727096323e+01     1.001     0.687 -55.21 3.481085e-05 2.568776e-05  65.80      2.887  25.2505   0.0525\r\n",
      "    16.7083    959.2019         71   5.3052630611e+01  -2.7730584146e+01     0.960     0.789 -73.90 3.379916e-05 2.858445e-05  89.77      0.902  23.8415   0.0179\r\n",
      "  1008.2136    957.6127         72   5.3090987876e+01  -2.7720845124e+01     0.760     0.446 -18.59 2.738492e-05 1.536164e-05  30.51      2.006  25.8482   0.0679\r\n",
      "   664.3737    956.8363         73   5.3077672250e+01  -2.7724178197e+01     0.764     0.442 -71.68 2.648272e-05 1.694074e-05  87.14      1.878  25.8568   0.0684\r\n",
      "  1239.6698    954.5891         74   5.3099911685e+01  -2.7718479258e+01     1.140     0.470  89.92 4.063424e-05  1.67418e-05 -74.01      1.051  21.9342   0.0026\r\n",
      "  1239.7064    938.2859         75   5.3099733075e+01  -2.7717920394e+01     0.835     0.459  85.44 2.989828e-05  1.60635e-05 -70.27      0.651  23.6094   0.0102\r\n",
      "  1239.6044    947.1121         76   5.3099826590e+01  -2.7718223756e+01     1.035     0.671  87.33 3.699428e-05 2.374479e-05 -71.82      0.846  22.5192   0.0051\r\n",
      "  1239.5057    942.4736         77   5.3099771555e+01  -2.7718065817e+01     1.040     0.649  84.05 3.725948e-05 2.274759e-05 -69.16      0.778  23.8461   0.0159\r\n",
      "   394.1323    946.5730         78   5.3067099741e+01  -2.7726466218e+01     1.021     0.939 -23.93 3.645829e-05 3.336633e-05  34.58      1.611  24.1123   0.0238\r\n",
      "   295.3499    946.8600         79   5.3063279574e+01  -2.7727440733e+01     0.868     0.690  20.41  3.04396e-05 2.518006e-05  -5.44      1.488  24.9911   0.0414\r\n",
      "   519.7161    941.1684         80   5.3071900675e+01  -2.7725054492e+01     1.524     1.012  34.89 5.289596e-05 3.806622e-05 -24.33      2.744  24.0526   0.0279\r\n",
      "   323.7570    929.0142         81   5.3064182184e+01  -2.7726551922e+01     0.678     0.429  89.28 2.415625e-05 1.524707e-05 -73.47      1.297  26.0164   0.0709\r\n",
      "   245.6029    922.6335         82   5.3061086858e+01  -2.7727096491e+01     1.579     1.236  71.07 5.659864e-05 4.355314e-05 -59.25      1.874  22.6541   0.0100\r\n",
      "   288.8361    920.2769         83   5.3062734197e+01  -2.7726593588e+01     1.927     1.851  -8.22 6.871212e-05 6.588687e-05  22.61      2.221  21.4542   0.0050\r\n",
      "   217.1575    916.0545         84   5.3059913303e+01  -2.7727148840e+01     1.488     0.656 -64.88 5.094274e-05 2.758119e-05  78.52      2.620  24.7728   0.0407\r\n",
      "     1.3353    913.9955         85   5.3051537004e+01  -2.7729185387e+01     0.712     0.472 -89.82 2.534284e-05  1.68257e-05 -74.25      0.471  23.8429   0.0117\r\n",
      "   470.4814    909.3293         86   5.3069643818e+01  -2.7724444576e+01     2.024     1.304  33.93 7.013768e-05 4.938681e-05 -23.09      1.852  21.3318   0.0039\r\n",
      "   131.2135    910.8401         87   5.3056529288e+01  -2.7727809327e+01     1.033     0.791  72.37 3.705071e-05 2.785139e-05 -60.23      0.866  23.5954   0.0152\r\n",
      "   494.2638    910.5376         88   5.3070577605e+01  -2.7724253686e+01     2.083     0.742  19.54 7.150077e-05  3.30834e-05  -4.34      3.209  24.0814   0.0280\r\n",
      "   935.9573    902.8296         89   5.3087586780e+01  -2.7719674458e+01     1.374     1.321  23.07 4.877867e-05 4.722915e-05  -8.80      1.343  20.9359   0.0025\r\n",
      "   500.8565    901.6066         90   5.3070734220e+01  -2.7723883317e+01     1.190     0.856  80.90 4.266237e-05 3.008725e-05 -66.70      2.267  24.7149   0.0400\r\n",
      "  1090.4619    894.3948         91   5.3093472903e+01  -2.7717875560e+01     1.387     0.910  -6.15  4.96894e-05 3.198163e-05  20.99      1.964  24.1028   0.0265\r\n",
      "  1134.5826    893.3384         92   5.3095168652e+01  -2.7717408143e+01     1.225     1.124 -16.66 4.377591e-05  3.99241e-05  29.05      3.033  24.0282   0.0260\r\n",
      "   194.6594    889.4680         93   5.3058749245e+01  -2.7726457637e+01     1.133     0.944 -67.51 3.978907e-05 3.429665e-05  81.94      2.741  24.3036   0.0293\r\n",
      "   680.7101    887.2386         94   5.3077536420e+01  -2.7721634232e+01     2.325     1.327  16.03 8.084613e-05 5.058714e-05  -0.14      3.751  23.3354   0.0201\r\n",
      "   476.6702    882.2095         95   5.3069584114e+01  -2.7723455006e+01     2.014     1.869 -36.36 7.167218e-05 6.668291e-05  44.98      1.548  19.3521   0.0011\r\n",
      "   313.5609    885.0172         96   5.3063302179e+01  -2.7725144131e+01     1.741     1.303 -41.88 6.145154e-05 4.715356e-05  50.33      2.625  23.3707   0.0186\r\n",
      "    12.1429    886.1461         97   5.3051648190e+01  -2.7728125721e+01     0.825     0.677 -44.90 2.911925e-05 2.443332e-05  53.51      2.529  25.3917   0.0564\r\n",
      "   728.0964    882.8948         98   5.3079322399e+01  -2.7721022482e+01     1.553     0.739 -81.71 5.453942e-05 2.791997e-05 -81.76      3.107  24.4950   0.0349\r\n",
      "   217.7326    880.4760         99   5.3059543102e+01  -2.7725924279e+01     1.338     1.263 -22.79 4.774246e-05 4.492471e-05  33.69      1.620  22.6161   0.0090\r\n",
      "  1204.5378    878.3306        100   5.3097710092e+01  -2.7716210239e+01     1.083     0.945  41.55 3.827277e-05  3.40289e-05 -32.49      2.314  24.4340   0.0320\r\n",
      "  1039.5293    876.4869        101   5.3091304160e+01  -2.7717759850e+01     0.503     0.496  48.22 1.789436e-05 1.769347e-05 -39.76      1.733  26.0751   0.0748\r\n",
      "  1162.0190    873.5301        102   5.3096011695e+01  -2.7716461384e+01     1.052     0.944   6.14   3.7395e-05 3.372422e-05  10.35      1.890  24.1158   0.0246\r\n",
      "   927.5904    872.8209        103   5.3086931724e+01  -2.7718728161e+01     0.738     0.452  70.54 2.655466e-05  1.56425e-05 -58.84      1.374  25.7880   0.0642\r\n",
      "   935.4786    871.4867        104   5.3087222267e+01  -2.7718605374e+01     0.890     0.868  71.53 3.172205e-05 3.089304e-05 -59.59      1.351  24.5022   0.0304\r\n",
      "  1206.9460    856.2689        105   5.3097559684e+01  -2.7715430915e+01     1.536     1.288   8.70 5.442562e-05 4.624679e-05   7.84      1.956  22.9307   0.0126\r\n",
      "   811.3425    854.7847        106   5.3082233847e+01  -2.7719246135e+01     1.115     0.865 -66.56 3.897608e-05  3.17443e-05  80.73      2.757  24.6849   0.0389\r\n",
      "     1.8174    851.1879        107   5.3050863007e+01  -2.7727028799e+01     0.747     0.567 -45.16 2.630402e-05 2.059929e-05  53.79      1.400  25.5296   0.0555\r\n",
      "   110.3456    849.0930        108   5.3055040542e+01  -2.7725897540e+01     1.034     0.837 -36.88 3.671023e-05 2.994408e-05  45.46      2.625  24.8249   0.0410\r\n",
      "   958.0823    841.2296        109   5.3087763024e+01  -2.7717347925e+01     1.120     1.044  40.24 3.969227e-05 3.740586e-05 -30.95      1.302  23.3697   0.0145\r\n",
      "   815.6832    829.1636        110   5.3082119053e+01  -2.7718325969e+01     2.636     2.485 -80.62  9.36951e-05  8.87507e-05 -82.86      4.322  21.6521   0.0070\r\n",
      "   802.4434    831.8281        111   5.3081636079e+01  -2.7718546613e+01     1.610     1.314 -61.99 5.641336e-05 4.792955e-05  74.72      4.292  23.4320   0.0191\r\n",
      "  1171.1436    830.4816        112   5.3095889490e+01  -2.7714897446e+01     1.067     0.943 -16.03 3.813993e-05 3.342778e-05  28.58      2.097  24.4056   0.0311\r\n",
      "   656.8826    828.3104        113   5.3075963963e+01  -2.7719848153e+01     0.991     0.742 -79.07  3.49175e-05  2.69361e-05 -84.47      1.559  24.7384   0.0362\r\n",
      "  1229.5068    816.4511        114   5.3097993078e+01  -2.7713846320e+01     1.829     1.092 -59.41  6.30967e-05 4.215589e-05  71.30      2.151  23.3344   0.0170\r\n",
      "   805.6010    812.6148        115   5.3081546223e+01  -2.7717857532e+01     2.285     2.119  37.03 8.091515e-05 7.602504e-05 -27.04      2.217  20.6946   0.0032\r\n",
      "    57.3296    812.8033        116   5.3052588324e+01  -2.7725171783e+01     1.635     1.564   9.00 5.813639e-05 5.582416e-05   7.51      1.166  19.3878   0.0010\r\n",
      "  1092.5208    812.7787        117   5.3092651518e+01  -2.7715059424e+01     0.982     0.952 -30.66 3.500696e-05 3.389436e-05  40.00      1.849  24.5604   0.0347\r\n",
      "  1036.9628    808.1725        118   5.3090450680e+01  -2.7715444595e+01     1.282     0.759  81.74 4.603484e-05 2.640756e-05 -67.35      2.224  24.6289   0.0370\r\n",
      "   533.1207    799.8826        119   5.3070860517e+01  -2.7720083131e+01     0.842     0.660  42.67 2.962443e-05 2.399909e-05 -33.78      2.143  25.3410   0.0538\r\n",
      "   115.1106    793.3812        120   5.3054610524e+01  -2.7723942270e+01     0.895     0.689 -68.08 3.129053e-05 2.527966e-05  82.66      2.295  25.0140   0.0422\r\n",
      "   280.6862    792.5506        121   5.3061009784e+01  -2.7722297190e+01     1.014     0.698 -32.14 3.612323e-05 2.485567e-05  41.24      2.304  25.3149   0.0557\r\n",
      "   261.6097    789.2974        122   5.3060235574e+01  -2.7722372003e+01     1.548     1.302  69.89 5.539748e-05 4.608384e-05 -58.36      2.085  22.9693   0.0128\r\n",
      "   139.9665    789.4559        123   5.3055529264e+01  -2.7723565118e+01     1.569     0.986  55.36 5.576302e-05 3.536487e-05 -46.58      2.151  23.8045   0.0226\r\n",
      "   158.2252    787.9803        124   5.3056219676e+01  -2.7723336300e+01     0.700     0.418  89.19 2.494603e-05 1.483636e-05 -73.40      1.822  26.0706   0.0745\r\n",
      "  1101.3807    781.7675        125   5.3092652017e+01  -2.7713910445e+01     1.377     0.967 -74.69 4.821439e-05 3.563064e-05 -89.29      2.303  24.1298   0.0279\r\n",
      "   576.8395    775.3452        126   5.3072281757e+01  -2.7718815459e+01     4.127     3.089 -38.32 0.0001462147 0.0001110998  46.82      5.327  21.0035   0.0051\r\n",
      "   404.1426    776.6245        127   5.3065612210e+01  -2.7720545979e+01     1.431     1.106  77.59 5.130145e-05 3.896496e-05 -64.17      1.890  23.3226   0.0157\r\n",
      "  1229.9456    764.9991        128   5.3097441959e+01  -2.7712079398e+01     0.600     0.565  -0.07 2.139268e-05 2.013087e-05  15.99      0.467  25.1655   0.0362\r\n",
      "   352.8628    757.0671        129   5.3063411808e+01  -2.7720376710e+01     3.079     1.092 -67.64 0.0001052966 4.959817e-05  82.10      4.151  23.0915   0.0171\r\n",
      "  1017.5149    760.4850        130   5.3089171661e+01  -2.7714000952e+01     0.503     0.496 -44.98 1.790908e-05 1.769937e-05  53.61      1.993  26.2693   0.0895\r\n",
      "   773.1629    759.0364        131   5.3079699567e+01  -2.7716338902e+01     1.267     1.163 -20.99 4.523091e-05 4.131398e-05  32.32      1.751  23.4234   0.0163\r\n",
      "    33.6466    756.6859        132   5.3051052806e+01  -2.7723480313e+01     2.085     1.029  33.27 7.160263e-05  4.16346e-05 -22.25      2.546  23.4854   0.0198\r\n",
      "   614.1296    748.7504        133   5.3073431463e+01  -2.7717540085e+01     2.385     1.173 -27.16 8.556965e-05 4.057605e-05  37.13      2.937  22.9145   0.0140\r\n",
      "   178.2183    750.4379        134   5.3056579418e+01  -2.7721854860e+01     0.875     0.754 -21.62 3.129643e-05 2.671113e-05  32.80      1.874  25.0495   0.0436\r\n",
      "   569.2552    749.6987        135   5.3071705258e+01  -2.7718010895e+01     0.934     0.758  40.49 3.285403e-05 2.752624e-05 -31.25      3.206  25.0126   0.0445\r\n",
      "   562.6736    739.2850        136   5.3071335646e+01  -2.7717718412e+01     2.284     2.207  33.31 8.112132e-05 7.887408e-05 -22.29      2.165  20.1391   0.0021\r\n",
      "    61.0848    743.4898        137   5.3051969264e+01  -2.7722760347e+01     1.400     0.900 -15.74 5.039176e-05 3.126706e-05  28.34      1.937  24.1536   0.0278\r\n",
      "   534.0934    739.1837        138   5.3070228448e+01  -2.7717994089e+01     2.011     1.035  63.64 7.219836e-05 3.581955e-05 -53.51      2.391  23.4718   0.0183\r\n",
      "  1103.8232    735.2000        139   5.3092232448e+01  -2.7712291253e+01     1.503     1.014  41.20  5.25073e-05 3.761299e-05 -32.09      2.574  23.5775   0.0187\r\n",
      "   120.7576    731.9703        140   5.3054151803e+01  -2.7721783126e+01     1.293     0.979 -47.24 4.543851e-05 3.572221e-05  56.11      2.447  24.4755   0.0354\r\n",
      "  1090.4645    728.1913        141   5.3091638131e+01  -2.7712181708e+01     2.713     1.272 -30.23 9.695791e-05 4.463763e-05  39.64      4.554  23.3277   0.0204\r\n",
      "   825.4807    731.5118        142   5.3081420457e+01  -2.7714884790e+01     0.507     0.492 -45.44 1.804053e-05 1.756301e-05  54.11      1.816  26.1044   0.0769\r\n",
      "   164.7101    728.1388        143   5.3055810664e+01  -2.7721222753e+01     1.003     0.735 -14.02 3.601833e-05   2.5811e-05  27.04      1.839  24.7803   0.0377\r\n",
      "   511.7277    724.1340        144   5.3069196829e+01  -2.7717696935e+01     1.649     0.918 -21.18 5.937041e-05 3.153783e-05  32.46      3.012  24.1226   0.0284\r\n",
      "  1161.7908    717.7361        145   5.3094282799e+01  -2.7711126429e+01     1.087     0.704 -38.51 3.844627e-05 2.552551e-05  47.01      2.761  25.1556   0.0507\r\n",
      "   491.7307    717.4984        146   5.3068349715e+01  -2.7717664901e+01     1.317     0.654  72.81 4.750486e-05 2.205046e-05 -60.56      3.482  25.1096   0.0510\r\n",
      "   219.5970    714.0267        147   5.3057779315e+01  -2.7720203376e+01     3.019     1.633 -10.11 0.0001086453 5.609809e-05  24.07      3.912  22.5292   0.0122\r\n",
      "   194.8409    713.6367        148   5.3056816880e+01  -2.7720431723e+01     1.629     1.606 -59.25 5.796897e-05  5.72966e-05  71.08      2.549  22.9822   0.0142\r\n",
      "   622.9305    709.1830        149   5.3073335475e+01  -2.7716098553e+01     2.331     1.596  61.50 8.336318e-05 5.639259e-05 -51.80      2.499  21.7511   0.0063\r\n",
      "   847.9188    708.9191        150   5.3082039437e+01  -2.7713891559e+01     1.277     1.003  59.05  4.55286e-05 3.566451e-05 -49.77      2.092  24.0824   0.0267\r\n",
      "   361.1110    702.2582        151   5.3063126426e+01  -2.7718418385e+01     1.229     0.892 -16.79 4.413083e-05 3.128053e-05  29.13      2.205  24.4493   0.0335\r\n",
      "  1041.0879    700.2925        152   5.3089419430e+01  -2.7711708487e+01     2.745     1.187  30.40   9.3845e-05 5.041653e-05 -18.45      4.520  23.5671   0.0241\r\n",
      "   392.9263    693.0912        153   5.3064256605e+01  -2.7717793633e+01     3.530     1.284  72.55 0.0001276215 4.025653e-05 -60.37      4.262  22.6914   0.0137\r\n",
      "   715.4922    690.5759        154   5.3076712255e+01  -2.7714556898e+01     0.501     0.493  20.65  1.78208e-05  1.75954e-05  -5.73      1.225  25.8817   0.0626\r\n",
      "   412.3519    667.9826        155   5.3064731421e+01  -2.7716743699e+01     3.695     1.503  62.04 0.0001325118 5.133029e-05 -52.24      4.265  22.0959   0.0095\r\n",
      "  1098.7537    669.7521        156   5.3091313773e+01  -2.7710098674e+01     0.958     0.843  14.40  3.38981e-05 3.031806e-05   1.75      1.584  24.5862   0.0329\r\n",
      "   951.9579    668.2826        157   5.3085617029e+01  -2.7711482842e+01     0.733     0.674   2.18 2.611262e-05  2.40141e-05  14.01      1.632  25.4702   0.0567\r\n",
      "   737.6331    659.2703        158   5.3077223630e+01  -2.7713268092e+01     1.252     0.901  78.46  4.49398e-05 3.163535e-05 -64.83      1.735  23.9190   0.0218\r\n",
      "   395.9458    656.7045        159   5.3063972075e+01  -2.7716517521e+01     1.987     0.992  27.82 6.814278e-05 4.016386e-05 -15.04      2.784  23.9001   0.0257\r\n",
      "   256.1847    655.2943        160   5.3058547559e+01  -2.7717833918e+01     1.051     0.863  21.93 3.689808e-05 3.141168e-05  -7.36      1.744  24.3966   0.0298\r\n",
      "   906.6785    652.8419        161   5.3083694415e+01  -2.7711396293e+01     0.908     0.681 -22.60 3.254312e-05  2.39775e-05  33.55      1.619  25.0641   0.0442\r\n",
      "   533.7606    650.5952        162   5.3069238182e+01  -2.7714962298e+01     0.721     0.461  17.55  2.51216e-05 1.731568e-05  -1.93      1.375  25.6327   0.0557\r\n",
      "   793.3564    638.3933        163   5.3079149651e+01  -2.7712008481e+01     2.144     1.634 -54.33 7.493771e-05 6.004481e-05  64.68      2.829  21.9870   0.0074\r\n",
      "  1071.7245    640.9044        164   5.3089949405e+01  -2.7709374547e+01     1.614     0.768 -14.45 5.825234e-05 2.573706e-05  27.38      2.210  24.2491   0.0295\r\n",
      "  1230.5333    629.6844        165   5.3095970737e+01  -2.7707438064e+01     3.492     1.620 -83.98 0.0001231262 6.038076e-05 -79.54      4.713  22.0885   0.0093\r\n",
      "   680.2050    633.6383        166   5.3074718400e+01  -2.7712950952e+01     2.082     1.350  14.42 7.279251e-05 5.014876e-05   1.72      4.021  23.3843   0.0203\r\n",
      "   785.4944    632.1768        167   5.3078776806e+01  -2.7711872317e+01     1.364     1.105 -33.26 4.857543e-05 3.939049e-05  42.21      2.707  23.8909   0.0240\r\n",
      "   334.0087    633.4803        168   5.3061318864e+01  -2.7716326664e+01     0.786     0.500  -0.49 2.799962e-05 1.777306e-05  16.33      1.971  25.6172   0.0601\r\n",
      "   946.5124    630.4880        169   5.3084989156e+01  -2.7710241257e+01     0.507     0.493  45.02 1.802143e-05 1.759036e-05 -36.40      1.923  26.2172   0.0853\r\n",
      "   296.5234    625.7540        170   5.3059782913e+01  -2.7716427975e+01     2.207     1.375  88.33 7.879199e-05 4.873029e-05 -72.67      2.712  22.5393   0.0106\r\n",
      "  1057.6926    620.1289        171   5.3089177100e+01  -2.7708799937e+01     2.846     2.609  30.21 0.0001006108  9.37891e-05 -18.20      3.169  20.7077   0.0036\r\n",
      "   974.6999    622.6550        172   5.3085993468e+01  -2.7709697478e+01     2.212     1.686 -56.84 7.723751e-05 6.204665e-05  67.91      4.941  23.0850   0.0175\r\n",
      "   591.4197    623.7916        173   5.3071173850e+01  -2.7713480846e+01     0.760     0.447 -70.19 2.632587e-05 1.714445e-05  85.32      1.827  25.7632   0.0628\r\n",
      "  1104.1118    620.3802        174   5.3090976101e+01  -2.7708354909e+01     2.078     1.175 -53.13 7.182975e-05 4.550834e-05  63.17      2.285  22.7658   0.0116\r\n",
      "   267.3908    619.1943        175   5.3058583093e+01  -2.7716487688e+01     1.621     0.906  41.69 5.634693e-05 3.462518e-05 -32.66      2.229  23.8229   0.0225\r\n",
      "   328.7227    614.6320        176   5.3060906390e+01  -2.7715732523e+01     1.132     0.949 -47.44  3.99345e-05 3.427503e-05  56.34      1.776  23.9691   0.0222\r\n",
      "  1158.2876    611.1736        177   5.3092970830e+01  -2.7707510042e+01     2.000     1.455  -8.53 7.170448e-05 5.124074e-05  22.87      2.244  21.9398   0.0065\r\n",
      "   501.8343    612.9747        178   5.3067587599e+01  -2.7713985232e+01     1.561     0.823 -35.81 5.532848e-05 2.983861e-05  44.47      2.251  24.2278   0.0298\r\n",
      "  1053.1184    601.7866        179   5.3088797632e+01  -2.7708216260e+01     3.664     2.147 -50.73 0.0001271372 8.198358e-05  60.21      5.402  21.9000   0.0092\r\n",
      "   825.4714    608.5194        180   5.3080062759e+01  -2.7710671269e+01     0.503     0.496 -46.70 1.790609e-05 1.767571e-05  55.51      1.298  26.0286   0.0717\r\n",
      "    39.5883    606.2351        181   5.3049623719e+01  -2.7718267640e+01     1.849     1.209  35.42 6.417378e-05 4.555426e-05 -25.02      2.173  22.9363   0.0130\r\n",
      "   286.6541    593.1017        182   5.3059040818e+01  -2.7715405645e+01     1.009     0.745 -16.38 3.621051e-05 2.616342e-05  28.82      2.239  24.8002   0.0383\r\n",
      "    82.0933    591.6666        183   5.3051108130e+01  -2.7717353581e+01     1.023     0.747 -72.79 3.579161e-05 2.747607e-05  88.47      2.148  25.0059   0.0464\r\n",
      "   295.5907    589.6917        184   5.3059349063e+01  -2.7715201559e+01     1.357     1.219 -42.13 4.815538e-05 4.364266e-05  50.58      1.883  23.0826   0.0130\r\n",
      "  1231.7427    589.8224        185   5.3095577452e+01  -2.7706060653e+01     0.709     0.418  77.04 2.553152e-05   1.4417e-05 -63.74      0.929  24.8392   0.0268\r\n",
      "   221.1813    586.2269        186   5.3056431116e+01  -2.7715809360e+01     1.461     1.365  73.61 5.217025e-05 4.851269e-05 -61.16      2.173  23.0264   0.0135\r\n",
      "   241.9185    581.1075        187   5.3057177215e+01  -2.7715431502e+01     1.341     1.018 -12.11 4.808914e-05 3.582438e-05  25.60      1.968  23.7686   0.0210\r\n",
      "  1090.6561    569.8667        188   5.3089897838e+01  -2.7706755899e+01     4.846     1.788  53.90 0.0001715064 6.663208e-05 -45.25      4.419  20.5744   0.0032\r\n",
      "  1103.0143    571.0288        189   5.3090388867e+01  -2.7706674939e+01     1.267     1.202  14.92 4.497907e-05 4.297977e-05   1.15      1.214  20.9972   0.0024\r\n",
      "   663.4919    579.5094        190   5.3073474381e+01  -2.7711259770e+01     0.504     0.496  44.91 1.792773e-05 1.769102e-05 -36.28      2.526  26.2172   0.0853\r\n",
      "   804.1492    570.5576        191   5.3078818726e+01  -2.7709579037e+01     0.993     0.869  68.91 3.550518e-05 3.079896e-05 -57.60      1.675  24.5931   0.0345\r\n",
      "    38.5209    571.0000        192   5.3049193883e+01  -2.7717070847e+01     4.064     0.750  -1.27 0.0001451085  2.48378e-05  16.99      6.213  23.0358   0.0176\r\n",
      "    22.9937    571.0000        193   5.3048592937e+01  -2.7717222412e+01     1.750     0.762   2.18 6.211392e-05 2.765459e-05  13.99      5.168  24.2206   0.0288\r\n",
      "    13.0117    571.0000        194   5.3048206609e+01  -2.7717319846e+01     3.116     0.836  -0.15  0.000111045 2.967431e-05  16.03      5.184  23.4881   0.0198\r\n",
      "     7.0085    571.0000        195   5.3047974267e+01  -2.7717378443e+01     1.748     0.795   0.91 6.216864e-05 2.850012e-05  15.12      2.533  24.2106   0.0277\r\n",
      "   763.1302    564.0986        196   5.3077160126e+01  -2.7709758485e+01     1.310     1.148  46.13 4.640524e-05 4.120922e-05 -37.59      3.073  24.1340   0.0294\r\n",
      "   360.0529    564.1074        197   5.3061561600e+01  -2.7713695586e+01     1.222     0.747 -82.67  4.31111e-05 2.732509e-05 -80.82      1.773  24.2874   0.0270\r\n",
      "   742.9109    549.3228        198   5.3076214650e+01  -2.7709449794e+01     4.380     2.812 -80.97 0.0001542167 0.0001029561 -82.51      3.543  19.5757   0.0018\r\n",
      "   266.6624    538.1631        199   5.3057661200e+01  -2.7713718596e+01     5.400     2.228  87.17 0.0001931852  7.73376e-05 -71.71      4.620  20.2437   0.0029\r\n",
      "   469.8633    545.3784        200   5.3065604644e+01  -2.7711981595e+01     1.149     0.932  13.28 4.051958e-05 3.371734e-05   2.98      1.688  24.0067   0.0230\r\n",
      "   766.5133    534.5204        201   5.3076964664e+01  -2.7708712104e+01     1.770     1.325 -81.75 6.255018e-05 4.786518e-05 -81.72      3.252  23.2319   0.0168\r\n",
      "   835.9921    532.0155        202   5.3079625633e+01  -2.7707947523e+01     0.791     0.754 -47.64 2.808009e-05 2.693756e-05  56.57      1.398  24.6569   0.0304\r\n",
      "   488.5955    531.1640        203   5.3066172762e+01  -2.7711311670e+01     0.761     0.445 -70.46 2.637501e-05 1.707034e-05  85.65      2.167  25.9001   0.0712\r\n",
      "    40.7019    531.0243        204   5.3048837506e+01  -2.7715679925e+01     0.740     0.664 -88.99 2.635367e-05 2.366073e-05 -74.97      1.600  25.3851   0.0524\r\n",
      "   256.4683    529.8359        205   5.3057174842e+01  -2.7713532829e+01     1.001     0.739   0.49 3.564055e-05 2.633947e-05  15.48      3.530  25.2433   0.0550\r\n",
      "   128.2085    530.5847        206   5.3052219318e+01  -2.7714810657e+01     0.747     0.451 -19.52 2.689265e-05 1.558919e-05  31.19      2.224  25.7789   0.0637\r\n",
      "   776.4155    526.7604        207   5.3077262220e+01  -2.7708349514e+01     1.650     1.259  -3.66 5.893576e-05 4.462971e-05  18.99      4.339  23.5361   0.0214\r\n",
      "    54.5781    527.0476        208   5.3049330693e+01  -2.7715408228e+01     1.256     0.753 -76.11 4.384693e-05 2.826441e-05 -87.71      2.383  24.7380   0.0394\r\n",
      "   997.9432    523.4015        209   5.3085797418e+01  -2.7706070060e+01     1.480     0.974  53.94 5.248891e-05  3.50175e-05 -45.29      2.252  23.8125   0.0223\r\n",
      "   824.4383    524.6993        210   5.3079097804e+01  -2.7707809752e+01     0.982     0.479  81.34 3.532154e-05 1.632811e-05 -67.04      1.938  25.4251   0.0544\r\n",
      "   745.3802    522.7794        211   5.3076017322e+01  -2.7708516308e+01     0.747     0.451 -72.36  2.59738e-05 1.708645e-05  87.97      1.856  25.6589   0.0570\r\n",
      "   812.4559    514.3053        212   5.3078519428e+01  -2.7707570725e+01     2.134     1.510  54.20 7.575432e-05 5.414808e-05 -45.53      3.119  22.5797   0.0114\r\n",
      "    80.4590    515.4968        213   5.3050204964e+01  -2.7714759844e+01     0.502     0.496  54.18 1.787418e-05 1.769001e-05 -45.52      1.612  26.1075   0.0771\r\n",
      "   375.1891    513.4731        214   5.3061588875e+01  -2.7711813025e+01     0.984     0.922 -14.08 3.514323e-05 3.278199e-05  27.09      1.303  23.9957   0.0213\r\n",
      "  1230.8843    510.8885        215   5.3094672834e+01  -2.7703364929e+01     1.206     0.320 -89.45 4.291876e-05 1.154965e-05 -74.55      1.824  25.3414   0.0466\r\n",
      "  1207.5161    508.2426        216   5.3093739423e+01  -2.7703502683e+01     1.141     0.896  56.70 4.060689e-05 3.196197e-05 -47.75      1.984  24.2499   0.0279\r\n",
      "   324.6720    504.8090        217   5.3059538320e+01  -2.7712009455e+01     3.594     1.248 -33.57 0.0001277921 4.513172e-05  42.48      4.490  22.7678   0.0147\r\n",
      "  1147.2469    507.0931        218   5.3091394682e+01  -2.7704052330e+01     2.066     1.069 -13.34 7.450068e-05 3.631883e-05  26.54      3.126  23.4229   0.0190\r\n",
      "   201.4928    507.0442        219   5.3054795902e+01  -2.7713288696e+01     0.789     0.500 -89.15 2.808493e-05 1.785271e-05 -74.84      2.021  25.5467   0.0563\r\n",
      "  1136.2013    502.2521        220   5.3090913845e+01  -2.7703994434e+01     1.127     0.887 -66.73 3.943556e-05 3.247995e-05  80.94      2.028  24.2093   0.0260\r\n",
      "   640.7410    495.5695        221   5.3071667845e+01  -2.7708606233e+01     1.661     1.103 -75.93 5.814825e-05 4.080451e-05 -87.89      4.861  24.0541   0.0297\r\n",
      "   578.7281    496.1480        222   5.3069274473e+01  -2.7709231743e+01     1.795     0.919 -61.54 6.161588e-05 3.695652e-05  74.11      2.166  23.7440   0.0219\r\n",
      "   100.9413    494.2850        223   5.3050763765e+01  -2.7713833158e+01     1.491     0.788  10.05 5.226967e-05 2.964031e-05   6.43      3.070  24.6624   0.0394\r\n",
      "   495.8395    491.2271        224   5.3066012545e+01  -2.7709872677e+01     1.378     1.359  50.17 4.905858e-05 4.843319e-05 -41.73      2.343  23.3217   0.0165\r\n",
      "   432.9120    488.7383        225   5.3063549882e+01  -2.7710401932e+01     1.033     0.651  28.60 3.571057e-05 2.485689e-05 -16.07      2.256  25.2209   0.0511\r\n",
      "  1205.5323    482.0637        226   5.3093373675e+01  -2.7702625229e+01     0.997     0.871  39.56 3.517688e-05 3.138058e-05 -30.14      1.284  24.1758   0.0243\r\n",
      "  1219.3190    469.8766        227   5.3093772592e+01  -2.7702072977e+01     2.693     1.268  20.28 9.274129e-05 5.144985e-05  -5.25      3.254  22.7664   0.0132\r\n",
      "   221.0056    460.7060        228   5.3055040049e+01  -2.7711510592e+01     4.754     3.816  26.26 0.0001664237  0.000139491 -12.98      3.947  19.1702   0.0016\r\n",
      "   238.4779    456.5102        229   5.3055669955e+01  -2.7711196258e+01     4.115     1.562 -23.96 0.0001482348  5.11157e-05  34.60      4.822  21.7729   0.0073\r\n",
      "   977.5339    466.5560        230   5.3084380300e+01  -2.7704322028e+01     1.003     0.990 -27.15 3.575059e-05 3.524995e-05  37.12      1.885  24.0438   0.0230\r\n",
      "  1021.4957    466.5005        231   5.3086080778e+01  -2.7703890564e+01     0.508     0.492  45.03 1.806712e-05  1.75535e-05 -36.41      1.438  25.8474   0.0607\r\n",
      "   894.8378    457.3004        232   5.3081078224e+01  -2.7704812929e+01     3.559     2.821  16.64 0.0001250795 0.0001026261  -0.84      3.060  19.8850   0.0022\r\n",
      "   786.8666    462.9968        233   5.3076963059e+01  -2.7706062916e+01     1.080     1.056   6.05 3.846259e-05 3.765354e-05  10.43      1.211  22.7292   0.0082\r\n",
      "   257.3541    464.1245        234   5.3056484433e+01  -2.7711272842e+01     0.910     0.687 -22.53 3.261192e-05 2.421026e-05  33.49      2.173  25.1179   0.0465\r\n",
      "  1228.7294    454.3497        235   5.3093965311e+01  -2.7701449081e+01     0.825     0.443 -86.92 2.925417e-05 1.601734e-05 -76.80      0.758  24.8112   0.0286\r\n",
      "   131.2521    454.3837        236   5.3051496841e+01  -2.7712170193e+01     0.746     0.452  17.53 2.592805e-05 1.712752e-05  -1.92      1.641  25.6402   0.0560\r\n",
      "  1179.0049    450.5154        237   5.3091998990e+01  -2.7701803706e+01     0.809     0.694 -88.38 2.880023e-05 2.475066e-05 -75.49      1.889  25.1668   0.0458\r\n",
      "   525.4988    448.5017        238   5.3066688998e+01  -2.7708119240e+01     0.984     0.409 -71.28 3.389471e-05 1.713222e-05  86.65      2.451  25.6706   0.0631\r\n",
      "   530.3818    442.8293        239   5.3066815386e+01  -2.7707877216e+01     2.853     0.926  41.23 9.836405e-05 4.174295e-05 -32.13      4.121  23.8484   0.0268\r\n",
      "   306.5176    443.0335        240   5.3058154435e+01  -2.7710070234e+01     0.787     0.500  89.81 2.804724e-05 1.779179e-05 -73.93      1.687  25.5591   0.0570\r\n",
      "   672.4402    436.6208        241   5.3072244153e+01  -2.7706277039e+01     0.999     0.852 -46.13 3.529431e-05 3.067981e-05  54.87      1.844  24.5895   0.0343\r\n",
      "   806.3976    431.1197        242   5.3077367093e+01  -2.7704780024e+01     0.880     0.680 -21.04 3.155545e-05 2.395168e-05  32.36      1.321  24.8382   0.0359\r\n",
      "   650.4827    420.5047        243   5.3071216671e+01  -2.7705939373e+01     0.503     0.497  46.42 1.789628e-05 1.771685e-05 -37.91      1.310  25.6595   0.0510\r\n",
      "   737.6348    418.7428        244   5.3074569695e+01  -2.7705027723e+01     1.019     0.584 -19.27 3.670017e-05 2.008887e-05  31.01      2.176  25.4526   0.0596\r\n",
      "   328.3472    405.5795        245   5.3058586152e+01  -2.7708573887e+01     0.982     0.862 -45.70 3.473802e-05  3.09863e-05  54.39      3.320  24.5751   0.0339\r\n",
      "   432.8155    402.5949        246   5.3062595982e+01  -2.7707451558e+01     1.074     0.730 -50.50   3.7462e-05 2.715554e-05  59.93      3.458  24.9338   0.0434\r\n",
      "    26.6409    400.1100        247   5.3046849902e+01  -2.7711331823e+01     1.375     1.122 -25.04 4.917478e-05 3.973119e-05  35.44      2.975  23.8086   0.0227\r\n",
      "   328.4834    400.4904        248   5.3058535299e+01  -2.7708398198e+01     0.500     0.500  54.56 1.781561e-05 1.779627e-05 -45.87      2.520  26.1715   0.0818\r\n",
      "   452.6589    397.6642        249   5.3063309494e+01  -2.7707088858e+01     1.424     1.255  75.26 5.091043e-05 4.450193e-05 -62.41      1.942  23.2483   0.0154\r\n",
      "  1007.7434    396.2232        250   5.3084773033e+01  -2.7701617329e+01     1.104     0.770 -19.11 3.966122e-05 2.694916e-05  30.90      1.489  24.4751   0.0309\r\n",
      "   429.3600    389.8401        251   5.3062321578e+01  -2.7707048315e+01     3.037     2.597  26.71 0.0001067944 9.414679e-05 -13.57      2.752  20.2001   0.0025\r\n",
      "   422.5978    375.2831        252   5.3061899342e+01  -2.7706615615e+01     2.338     1.598  70.44 8.400334e-05  5.58379e-05 -58.77      4.313  22.6996   0.0133\r\n",
      "   475.7730    391.0064        253   5.3064130519e+01  -2.7706635042e+01     0.687     0.419  89.72 2.449653e-05 1.490847e-05 -73.85      1.664  26.0247   0.0714\r\n",
      "    37.0045    387.2529        254   5.3047109228e+01  -2.7710790162e+01     1.011     0.616 -65.38 3.492009e-05 2.363904e-05  79.17      4.405  25.5364   0.0644\r\n",
      "  1035.2047    383.4848        255   5.3085695030e+01  -2.7700912594e+01     0.973     0.922  68.93 3.472845e-05 3.279784e-05 -57.62      1.596  24.3182   0.0278\r\n",
      "  1072.5907    378.2570        256   5.3087083924e+01  -2.7700368176e+01     0.949     0.913  -3.62 3.382335e-05 3.251477e-05  18.95      1.360  24.1223   0.0232\r\n",
      "  1039.7849    376.5812        257   5.3085796062e+01  -2.7700631333e+01     0.765     0.446  19.74 2.651219e-05 1.713642e-05  -4.58      1.982  25.9177   0.0724\r\n",
      "   485.2523    370.6004        258   5.3064272260e+01  -2.7705843354e+01     2.364     1.314  64.36 8.486991e-05 4.561102e-05 -54.09      2.928  22.7496   0.0126\r\n",
      "   951.0971    369.1591        259   5.3082282496e+01  -2.7701243623e+01     1.456     1.381  44.17 5.171086e-05 4.936349e-05 -35.47      2.089  22.8641   0.0121\r\n",
      "   429.1313    366.3383        260   5.3062053514e+01  -2.7706245362e+01     1.937     1.056 -28.10 6.937378e-05 3.692371e-05  37.88      4.669  24.0872   0.0312\r\n",
      "    74.3413    365.3554        261   5.3048312744e+01  -2.7709675476e+01     0.882     0.515 -44.98 3.083594e-05 1.929889e-05  53.59      1.690  25.4837   0.0532\r\n",
      "  1077.1405    363.7967        262   5.3087100373e+01  -2.7699828327e+01     0.734     0.649  41.64 2.596365e-05 2.334314e-05 -32.60      0.580  24.3600   0.0218\r\n",
      "  1037.9502    359.6761        263   5.3085538500e+01  -2.7700070112e+01     0.738     0.656   8.93 2.618801e-05 2.348778e-05   7.59      1.523  25.2180   0.0450\r\n",
      "  1200.4370    357.1945        264   5.3091798159e+01  -2.7698397237e+01     0.937     0.899  11.67 3.332345e-05 3.211346e-05   4.74      1.189  24.0933   0.0226\r\n",
      "    47.9872    343.4634        265   5.3047051476e+01  -2.7709182655e+01     5.311     3.169 -66.67 0.0001835325 0.0001219102  80.84      4.462  19.6772   0.0022\r\n",
      "  1154.3857    350.4024        266   5.3089941367e+01  -2.7698614604e+01     1.035     0.873  40.58 3.646346e-05 3.154278e-05 -31.36      1.986  24.6950   0.0378\r\n",
      "   114.0943    350.6352        267   5.3049688875e+01  -2.7708783101e+01     0.949     0.692  68.24 3.405133e-05   2.4321e-05 -57.10      3.048  25.3285   0.0564\r\n",
      "   732.4746    346.2736        268   5.3073570470e+01  -2.7702595358e+01     1.719     1.242  86.82 6.141755e-05 4.401965e-05 -71.41      2.163  22.9482   0.0129\r\n",
      "     7.6032    344.6685        269   5.3045501899e+01  -2.7709618111e+01     2.666     1.461 -71.75 9.236003e-05 5.657613e-05  87.22      6.891  23.7481   0.0263\r\n",
      "  1192.9309    347.4993        270   5.3091400720e+01  -2.7698138454e+01     1.215     0.857  27.58 4.221689e-05  3.19894e-05 -14.72      2.169  24.5424   0.0353\r\n",
      "   147.8091    326.9913        271   5.3050732920e+01  -2.7707643916e+01     2.271     1.025  71.57 8.199768e-05 3.401762e-05 -59.63      2.416  22.9455   0.0131\r\n",
      "   802.3258    327.9362        272   5.3076071034e+01  -2.7701284794e+01     1.506     1.230 -34.31 5.357218e-05 4.388891e-05  43.13      1.772  22.7331   0.0103\r\n",
      "   771.3363    317.1505        273   5.3074752912e+01  -2.7701218005e+01     2.530     1.022  68.34 9.128987e-05 3.342759e-05 -57.17      2.746  22.8821   0.0131\r\n",
      "   181.6421    313.5352        274   5.3051893846e+01  -2.7706852619e+01     1.593     1.509  71.67 5.685025e-05 5.365156e-05 -59.70      1.752  21.5986   0.0047\r\n",
      "   137.8159    311.6028        275   5.3050176519e+01  -2.7707214231e+01     0.743     0.450  18.90 2.578016e-05 1.711564e-05  -3.58      1.431  25.7406   0.0615\r\n",
      "   685.9639    305.1936        276   5.3071317523e+01  -2.7701642272e+01     0.922     0.471 -35.27 3.271904e-05 1.705725e-05  43.99      1.797  25.5695   0.0575\r\n",
      "   361.3660    296.6288        277   5.3058662363e+01  -2.7704518750e+01     5.952     1.014  44.56 0.0002060962 6.161239e-05 -35.90      8.710  22.8274   0.0157\r\n",
      "   336.5793    272.2120        278   5.3057433918e+01  -2.7703924220e+01     3.160     3.081 -27.45 0.0001126359  0.000109705  37.36      1.532  15.3862   0.0001\r\n",
      "   312.4214    248.8136        279   5.3056241054e+01  -2.7703358426e+01     5.465     1.049  43.68 0.0001889067 6.015559e-05 -34.93      8.049  22.6747   0.0140\r\n",
      "   360.2537    248.0077        280   5.3058083124e+01  -2.7702863807e+01     5.937     1.107 -45.98 0.0002053586 6.418319e-05  54.69      7.518  22.7771   0.0155\r\n",
      "   700.7968    295.7847        281   5.3071787685e+01  -2.7701175046e+01     2.018     1.535 -85.73 7.161241e-05 5.503507e-05 -77.90      1.900  20.9993   0.0032\r\n",
      "   391.4326    297.3283        282   5.3059833567e+01  -2.7704249144e+01     1.776     1.072  48.46 6.247676e-05 3.947618e-05 -40.02      3.041  23.6532   0.0217\r\n",
      "    17.0868    297.6551        283   5.3045350614e+01  -2.7707914781e+01     1.028     0.749 -74.17 3.601363e-05 2.748868e-05 -89.91      2.699  24.9480   0.0439\r\n",
      "   188.5254    292.9840        284   5.3051933617e+01  -2.7706081310e+01     0.797     0.499  88.79 2.842911e-05 1.771979e-05 -73.06      2.064  25.6114   0.0598\r\n",
      "    54.8983    292.7067        285   5.3046759346e+01  -2.7707376183e+01     1.099     0.904 -18.12  3.93509e-05 3.195491e-05  30.13      1.299  23.9420   0.0216\r\n",
      "   441.1663    288.8737        286   5.3061664858e+01  -2.7703473859e+01     0.808     0.678  47.58 2.859456e-05 2.437307e-05 -39.11      1.822  25.2013   0.0473\r\n",
      "   760.5613    286.2316        287   5.3073994857e+01  -2.7700263987e+01     1.172     0.896  57.13 4.174852e-05 3.193033e-05 -48.13      1.584  23.8795   0.0204\r\n",
      "   483.9672    285.7323        288   5.3063286455e+01  -2.7702948283e+01     0.733     0.673   4.35 2.606459e-05 2.400956e-05  12.02      1.629  25.3971   0.0530\r\n",
      "   695.7969    285.1590        289   5.3071476991e+01  -2.7700859847e+01     0.763     0.564 -47.63 2.675681e-05 2.063927e-05  56.55      2.198  25.6033   0.0593\r\n",
      "   545.5147    284.6401        290   5.3065656053e+01  -2.7702309820e+01     1.029     0.630   6.28 3.635583e-05 2.293936e-05  10.20      2.531  25.1762   0.0490\r\n",
      "  1214.9972    282.2180        291   5.3091533945e+01  -2.7695686377e+01     0.796     0.711 -89.19 2.835275e-05 2.532357e-05 -74.78      0.605  24.0981   0.0192\r\n",
      "   370.3243    280.9141        292   5.3058835719e+01  -2.7703892882e+01     0.887     0.693  26.35 3.099966e-05 2.544116e-05 -13.10      2.683  25.0316   0.0429\r\n",
      "   553.1219    277.3597        293   5.3065870115e+01  -2.7701986101e+01     1.449     1.149  87.56 5.168914e-05 4.083664e-05 -72.03      1.983  23.2454   0.0149\r\n",
      "   384.6814    273.7207        294   5.3059311963e+01  -2.7703506246e+01     4.778     0.930  -0.96 0.0001705012 3.154061e-05  16.73      7.725  22.7676   0.0134\r\n",
      "   509.5312    274.0000        295   5.3064146280e+01  -2.7702296689e+01     2.438     0.981   2.65 8.646389e-05  3.59293e-05  13.58      2.926  22.9800   0.0130\r\n",
      "   503.9742    274.0000        296   5.3063931246e+01  -2.7702350956e+01     1.192     1.140   6.49 4.240003e-05 4.065929e-05  10.00      1.626  23.7510   0.0192\r\n",
      "   432.0098    274.0000        297   5.3061146494e+01  -2.7703053686e+01     2.120     1.008  -0.70 7.561687e-05 3.576212e-05  16.50      2.334  22.9570   0.0120\r\n",
      "   426.4539    274.0000        298   5.3060931500e+01  -2.7703107937e+01     2.478     1.000   4.00 8.764645e-05 3.711687e-05  12.35      3.110  23.0347   0.0122\r\n",
      "   491.1161    274.0000        299   5.3063433688e+01  -2.7702476519e+01     7.022     1.094   0.85 0.0002497605 4.152262e-05  15.17      6.705  21.6483   0.0067\r\n",
      "   417.9877    274.0000        300   5.3060603885e+01  -2.7703190606e+01     1.723     0.980  -8.46 6.192314e-05 3.395641e-05  22.80      2.096  23.2747   0.0133\r\n",
      "   412.9502    274.0000        301   5.3060408954e+01  -2.7703239793e+01     1.813     0.976   0.35 6.456835e-05 3.482663e-05  15.61      2.029  22.9819   0.0110\r\n",
      "   406.4779    274.0000        302   5.3060158496e+01  -2.7703302991e+01     2.115     0.976   0.58 7.527578e-05 3.492576e-05  15.41      2.362  22.9938   0.0118\r\n",
      "   398.4980    274.0000        303   5.3059849702e+01  -2.7703380909e+01     2.461     0.949  -0.54 8.774811e-05 3.361441e-05  16.37      2.655  22.8659   0.0114\r\n",
      "   466.9423    273.7661        304   5.3062495676e+01  -2.7702704567e+01     4.386     1.508  -2.12 0.0001568121 5.211861e-05  17.71      3.580  21.8633   0.0074\r\n",
      "   476.0557    274.0000        305   5.3062850908e+01  -2.7702623586e+01     3.074     0.702  -2.13 0.0001099398 2.313206e-05  17.71      2.685  22.5643   0.0077\r\n",
      "   455.4933    274.0000        306   5.3062055220e+01  -2.7702824377e+01     2.932     0.932   0.37 0.0001043744 3.340441e-05  15.59      2.853  22.4129   0.0082\r\n",
      "   446.5295    274.0000        307   5.3061708354e+01  -2.7702911906e+01     1.972     1.054  -2.25 7.044792e-05 3.714714e-05  17.81      2.203  22.8376   0.0111\r\n",
      "   440.0234    274.0000        308   5.3061456592e+01  -2.7702975437e+01     2.052     0.993   4.36 7.259374e-05 3.641006e-05  12.01      2.085  22.7952   0.0102\r\n",
      "   136.5412    273.3587        309   5.3049705523e+01  -2.7705916375e+01     0.958     0.758   9.02  3.38606e-05 2.733223e-05   7.49      1.337  24.4274   0.0272\r\n",
      "   244.1998    270.7488        310   5.3053842934e+01  -2.7704775992e+01     1.141     0.806  44.25 4.003242e-05 2.952637e-05 -35.56      2.087  24.6825   0.0374\r\n",
      "   643.4788    268.9971        311   5.3069274260e+01  -2.7700817138e+01     1.853     0.963  27.90 6.364477e-05 3.854175e-05 -15.14      3.510  23.6996   0.0218\r\n",
      "   895.1104    254.7721        312   5.3078853961e+01  -2.7697871813e+01     2.325     2.287  54.00 8.280768e-05 8.149886e-05 -45.35      2.998  21.2877   0.0048\r\n",
      "   187.2587    257.7646        313   5.3051496264e+01  -2.7704887011e+01     0.745     0.556 -44.47 2.624295e-05 2.022568e-05  53.04      1.444  25.4463   0.0514\r\n",
      "   228.9684    254.9005        314   5.3053078761e+01  -2.7704381707e+01     1.231     0.864 -35.94 4.369337e-05 3.099424e-05  44.59      1.862  24.2781   0.0286\r\n",
      "  1042.7289    238.1780        315   5.3084382573e+01  -2.7695861044e+01     3.165     1.909 -46.62 0.0001104986 7.162578e-05  55.41      3.547  21.4648   0.0057\r\n",
      "  1201.0151    236.7184        316   5.3090490766e+01  -2.7694264281e+01     1.177     0.434  55.73 4.180996e-05 1.581637e-05 -46.90      2.434  25.4344   0.0549\r\n",
      "   296.9615    235.3470        317   5.3055494301e+01  -2.7703047986e+01     1.176     0.992  42.66 4.149145e-05 3.580945e-05 -33.78      1.803  23.6465   0.0179\r\n",
      "   910.4435    232.4793        318   5.3079201265e+01  -2.7696958281e+01     0.500     0.496 -68.65 1.780324e-05  1.76922e-05  83.40      1.671  25.9828   0.0687\r\n",
      "   470.8085    232.0209        319   5.3062184870e+01  -2.7701236598e+01     0.809     0.506  34.78 2.803048e-05 1.926923e-05 -24.19      2.014  25.8424   0.0675\r\n",
      "   745.2634    220.4821        320   5.3072677550e+01  -2.7698160859e+01     0.978     0.969 -53.32 3.480987e-05 3.453187e-05  63.40      2.478  24.5550   0.0345\r\n",
      "   544.5195    221.0532        321   5.3064916181e+01  -2.7700141031e+01     0.980     0.770  -2.58 3.496392e-05 2.736042e-05  18.09      1.388  24.4089   0.0279\r\n",
      "   168.1720    212.9671        322   5.3050263725e+01  -2.7703538499e+01     1.836     1.254 -81.12  6.47323e-05    4.564e-05 -82.37      2.362  22.9211   0.0130\r\n",
      "   845.9877    209.6877        323   5.3076455819e+01  -2.7696807139e+01     0.745     0.677   7.28 2.646805e-05 2.420219e-05   9.24      2.442  25.5903   0.0633\r\n",
      "   334.5189    204.5093        324   5.3056607597e+01  -2.7701624771e+01     0.502     0.497 -46.58 1.788174e-05 1.772711e-05  55.36      1.541  26.0901   0.0759\r\n",
      "   505.7454    199.3921        325   5.3063176903e+01  -2.7699777557e+01     1.181     1.079  40.73 4.182334e-05 3.872778e-05 -31.54      2.007  23.7490   0.0201\r\n",
      "   231.4720    196.9429        326   5.3052536587e+01  -2.7702371563e+01     1.176     0.924 -88.16 4.184201e-05 3.299384e-05 -75.70      2.308  24.4868   0.0347\r\n",
      "   610.0192    194.2069        327   5.3067154564e+01  -2.7698581604e+01     0.881     0.746 -87.53  3.13537e-05 2.663665e-05 -76.26      1.407  24.6829   0.0328\r\n",
      "   281.6206    184.8811        328   5.3054344182e+01  -2.7701468736e+01     6.156     1.795 -51.69 0.0002110273 8.752551e-05  61.37      4.982  20.9559   0.0049\r\n",
      "   880.6967    190.4509        329   5.3077586561e+01  -2.7695809025e+01     1.174     1.056 -88.97 4.179115e-05 3.762975e-05 -74.98      1.531  23.5028   0.0164\r\n",
      "   473.8630    177.4766        330   5.3061701507e+01  -2.7699338050e+01     1.867     1.746 -87.80 6.646886e-05 6.223574e-05 -76.02      2.149  21.6437   0.0055\r\n",
      "   683.5809    176.6520        331   5.3069807320e+01  -2.7697261721e+01     1.432     1.372 -17.79 5.106899e-05 4.881556e-05  29.89      1.604  21.6625   0.0045\r\n",
      "   689.4996    175.4816        332   5.3070023424e+01  -2.7697163815e+01     0.719     0.711  19.49 2.558775e-05 2.535252e-05  -4.29      2.363  25.5273   0.0553\r\n",
      "  1182.9891    175.0001        333   5.3089112158e+01  -2.7692326071e+01     0.631     0.605  90.00 2.246988e-05 2.153936e-05 -74.08      1.537  25.8506   0.0680\r\n",
      "   228.5333    173.1088        334   5.3052160075e+01  -2.7701583661e+01     3.493     1.005 -22.92 0.0001260394 2.966641e-05  33.79      4.464  23.0400   0.0168\r\n",
      "    59.0389   1024.1283        335   5.3054985210e+01  -2.7732395352e+01     0.796     0.709  89.86 2.836125e-05 2.524876e-05 -73.98      0.529  24.1719   0.0205\r\n",
      "   493.1429    169.8172        336   5.3062363067e+01  -2.7698887368e+01     0.811     0.668  42.16 2.857254e-05 2.417817e-05 -33.21      1.303  24.9994   0.0393\r\n",
      "   103.5968    166.2534        337   5.3047249806e+01  -2.7702568340e+01     1.817     0.837 -73.15   6.2842e-05 3.363103e-05  88.89      2.757  24.0872   0.0281\r\n",
      "   509.0838    165.2914        338   5.3062929986e+01  -2.7698576649e+01     1.045     0.958  63.45 3.727785e-05 3.406246e-05 -53.37      1.896  24.1466   0.0253\r\n",
      "   698.9902    163.2899        339   5.3070256161e+01  -2.7696653435e+01     0.739     0.670  -2.69 2.634431e-05 2.385703e-05  18.19      2.305  25.4674   0.0566\r\n",
      "   378.1846    159.5129        340   5.3057801093e+01  -2.7699656821e+01     2.960     1.001  53.66  0.000104689  3.78097e-05 -45.04      3.512  23.2832   0.0185\r\n",
      "   263.8066    153.8397        341   5.3053312571e+01  -2.7700579128e+01     4.047     3.149  39.46 0.0001419688 0.0001149691 -30.03      5.896  21.3043   0.0067\r\n",
      "   110.4603    150.1619        342   5.3047338007e+01  -2.7701950022e+01     1.515     1.069 -56.40 5.269847e-05 3.983409e-05  67.32      1.694  23.1324   0.0134\r\n",
      "   472.8497    146.1007        343   5.3061316267e+01  -2.7698272985e+01     1.800     1.457  12.53 6.351621e-05  5.26641e-05   3.80      1.970  21.9020   0.0062\r\n",
      "   394.5319    149.5471        344   5.3058323761e+01  -2.7699155776e+01     0.501     0.496 -38.68 1.784769e-05 1.766129e-05  47.16      1.652  25.9520   0.0668\r\n",
      "   162.0161    147.7707        345   5.3049306706e+01  -2.7701364859e+01     1.094     1.070 -87.53 3.895655e-05 3.811315e-05 -76.27      1.220  22.7265   0.0084\r\n",
      "   922.6267    146.1629        346   5.3078720275e+01  -2.7693882120e+01     0.915     0.668  18.73 3.198783e-05 2.462155e-05  -3.35      1.484  25.0643   0.0442\r\n",
      "   710.7336    141.1325        347   5.3070466135e+01  -2.7695779623e+01     1.207     1.007 -51.58 4.246788e-05  3.64907e-05  61.24      1.546  23.7609   0.0203\r\n",
      "   310.3774    138.6436        348   5.3054947120e+01  -2.7699603838e+01     2.618     1.462 -45.27 9.145476e-05 5.523514e-05  53.91      4.459  23.2011   0.0195\r\n",
      "   803.0425    136.4185        349   5.3073985813e+01  -2.7694716478e+01     2.157     1.802  44.50  7.61643e-05 6.498037e-05 -35.83      3.237  22.4686   0.0110\r\n",
      "   770.0118    135.9873        350   5.3072703015e+01  -2.7695024349e+01     2.200     0.880 -45.09 7.652606e-05 3.563482e-05  53.72      3.071  23.6843   0.0223\r\n",
      "    97.8778    136.3378        351   5.3046698695e+01  -2.7701599198e+01     0.906     0.687  70.63 3.251488e-05 2.416044e-05 -58.92      1.954  25.1441   0.0476\r\n",
      "  1109.5817    133.7852        352   5.3085817159e+01  -2.7691631437e+01     1.446     1.109  21.26 5.057015e-05 4.068282e-05  -6.49      2.007  23.7556   0.0221\r\n",
      "   583.8652    127.4870        353   5.3065406641e+01  -2.7696551182e+01     1.412     1.406  84.41 5.029617e-05 5.008201e-05 -69.46      1.495  21.1581   0.0031\r\n",
      "   515.3690    126.2160        354   5.3062742233e+01  -2.7697176530e+01     0.757     0.445  72.35 2.726096e-05 1.534899e-05 -60.22      1.716  25.6617   0.0572\r\n",
      "  1166.7448    125.1159        355   5.3087933127e+01  -2.7690775859e+01     1.037     0.637 -21.54 3.730719e-05 2.212859e-05  32.74      0.631  24.1124   0.0213\r\n",
      "   438.3607    123.0009        356   5.3059726978e+01  -2.7697818334e+01     1.408     0.635 -55.95 4.829928e-05  2.63921e-05  66.75      2.034  24.7180   0.0387\r\n",
      "   416.2073    120.6049        357   5.3058843330e+01  -2.7697952553e+01     1.294     1.037 -26.67 4.626401e-05 3.672547e-05  36.73      2.469  24.1511   0.0284\r\n",
      "   259.1708    119.8507        358   5.3052758420e+01  -2.7699459877e+01     0.748     0.567 -48.58 2.624886e-05 2.070653e-05  57.65      1.578  25.5177   0.0548\r\n",
      "   596.4968    115.0113        359   5.3065757805e+01  -2.7696000404e+01     0.893     0.672 -37.45 3.168064e-05 2.412527e-05  45.99      2.753  24.6346   0.0384\r\n",
      "   784.8420    113.0811        360   5.3073024141e+01  -2.7694094731e+01     1.013     0.799  52.00 3.592148e-05 2.867019e-05 -43.48      2.185  24.9128   0.0425\r\n",
      "   782.7389     94.8740        361   5.3072741912e+01  -2.7693491504e+01     1.211     1.021  72.76 4.336322e-05 3.612648e-05 -60.52      1.870  23.8847   0.0223\r\n",
      "  1153.7299     92.4529        362   5.3087069124e+01  -2.7689784049e+01     0.968     0.481   8.78 3.398818e-05 1.811208e-05   7.75      1.423  25.2763   0.0474\r\n",
      "   792.0959     92.0484        363   5.3073072782e+01  -2.7693303301e+01     0.785     0.756  50.23 2.793428e-05 2.696011e-05 -41.78      1.352  24.9128   0.0385\r\n",
      "   744.2554     90.4347        364   5.3071203929e+01  -2.7693715305e+01     1.518     0.865  53.76 5.378992e-05 3.129149e-05 -45.13      2.015  24.0061   0.0249\r\n",
      "   532.5478     86.5233        365   5.3062969188e+01  -2.7695648886e+01     2.255     1.115  26.82 7.735829e-05 4.526305e-05 -13.72      3.082  23.1134   0.0157\r\n",
      "   952.8607     85.4824        366   5.3079220553e+01  -2.7691507881e+01     1.586     1.282 -75.90 5.588711e-05 4.643295e-05 -87.92      2.785  23.5926   0.0212\r\n",
      "   353.5327     83.7445        367   5.3056011681e+01  -2.7697301607e+01     2.234     1.996  83.74 7.974233e-05 7.090714e-05 -68.93      3.636  22.3270   0.0105\r\n",
      "   196.3292     83.5290        368   5.3049926243e+01  -2.7698828892e+01     0.958     0.930 -60.09 3.402641e-05 3.323089e-05  72.17      1.405  24.1931   0.0247\r\n",
      "  1134.5144     81.8170        369   5.3086208315e+01  -2.7689607447e+01     1.600     0.943  64.41 5.742674e-05 3.287854e-05 -54.12      3.017  24.1654   0.0295\r\n",
      "   728.6215     80.7669        370   5.3070492376e+01  -2.7693536786e+01     0.731     0.455  73.05 2.630821e-05  1.57803e-05 -60.74      1.653  25.7195   0.0603\r\n",
      "   109.8344     80.2526        371   5.3046543098e+01  -2.7699560915e+01     0.756     0.657  34.01 2.663505e-05 2.375455e-05 -23.20      0.849  24.5760   0.0266\r\n",
      "  1229.9783   1018.9931        372   5.3100247834e+01  -2.7720780324e+01     0.706     0.703  41.01 2.513672e-05 2.504121e-05 -31.87      0.405  23.9199   0.0154\r\n",
      "   162.4056     77.6068        373   5.3048548244e+01  -2.7698957126e+01     0.960     0.852  -5.13 3.426615e-05 3.029267e-05  20.16      0.838  22.8971   0.0085\r\n",
      "  1211.8500     75.1342        374   5.3089126613e+01  -2.7688622782e+01     0.780     0.756  29.11 2.770792e-05 2.703162e-05 -16.75      0.573  23.7401   0.0144\r\n",
      "   953.1226     73.1378        375   5.3079094487e+01  -2.7691082404e+01     0.820     0.673 -45.45 2.894118e-05 2.429148e-05  54.12      1.731  25.3258   0.0531\r\n",
      "  1106.9415     71.1365        376   5.3085023672e+01  -2.7689510970e+01     1.192     0.762 -25.17 4.274787e-05 2.669723e-05  35.55      1.577  24.3170   0.0277\r\n",
      "   876.0602     70.1631        377   5.3076080053e+01  -2.7691733330e+01     1.301     1.015 -48.07 4.572374e-05 3.692602e-05  57.06      1.609  23.5850   0.0177\r\n",
      "    85.1864     69.7084        378   5.3045473067e+01  -2.7699440226e+01     0.833     0.567  30.30 2.888404e-05 2.131022e-05 -18.33      1.018  25.1661   0.0429\r\n",
      "   707.1802     66.2173        379   5.3069502274e+01  -2.7693247737e+01     2.079     0.873  87.03 7.440514e-05 3.030909e-05 -71.59      3.234  23.9126   0.0255\r\n",
      "  1186.7429     68.3913        380   5.3088080836e+01  -2.7688637134e+01     0.715     0.460 -17.39 2.571734e-05 1.597803e-05  29.60      1.090  25.5288   0.0506\r\n",
      "   136.3833     56.9806        381   5.3047313893e+01  -2.7698504439e+01     3.275     1.610 -68.04 0.0001126704 6.485486e-05  82.60      3.745  22.2964   0.0104\r\n",
      "    90.2571     60.4654        382   5.3045567394e+01  -2.7699074052e+01     1.392     0.792  17.41 4.831889e-05 3.036161e-05  -1.77      1.127  22.1890   0.0050\r\n",
      "   274.5543     54.7912        383   5.3052636366e+01  -2.7697080675e+01     1.044     0.921  72.13 3.731756e-05 3.266925e-05 -60.05      1.811  24.2228   0.0263\r\n",
      "  1106.2880     53.3239        384   5.3084801824e+01  -2.7688907119e+01     1.472     0.934 -57.00 5.093546e-05 3.550927e-05  68.13      2.067  23.8287   0.0222\r\n",
      "   710.8192     49.5054        385   5.3069458734e+01  -2.7692639646e+01     1.449     0.745 -89.78 5.160984e-05 2.655644e-05 -74.28      1.976  24.3723   0.0312\r\n",
      "   102.2508     50.0066        386   5.3045916216e+01  -2.7698598650e+01     0.841     0.709   0.30 2.996929e-05 2.525508e-05  15.64      0.513  23.0279   0.0078\r\n",
      "   140.9034     48.8561        387   5.3047399239e+01  -2.7698181961e+01     0.766     0.640 -46.51 2.704565e-05 2.310025e-05  55.28      0.622  24.7848   0.0322\r\n",
      "  1166.5356     46.4525        388   5.3087056927e+01  -2.7688083007e+01     0.984     0.835  40.51 3.467698e-05 3.016848e-05 -31.27      0.762  24.3031   0.0264\r\n",
      "  1166.3300     43.0614        389   5.3087011549e+01  -2.7687968840e+01     0.973     0.705 -10.93 3.492473e-05 2.477265e-05  24.71      0.692  22.5011   0.0052\r\n",
      "  1089.1353     44.3052        390   5.3084038681e+01  -2.7688765748e+01     0.916     0.781  86.36  3.26878e-05 2.774489e-05 -71.03      0.724  22.8634   0.0075\r\n",
      "  1179.8242     41.1250        391   5.3087512254e+01  -2.7687770638e+01     2.482     0.987 -49.99 8.556393e-05  4.16394e-05  59.32      2.322  22.9112   0.0125\r\n",
      "  1130.4835     43.8508        392   5.3085633399e+01  -2.7688346161e+01     0.888     0.697 -14.57 3.183538e-05 2.455296e-05  27.47      0.774  24.0248   0.0188\r\n",
      "  1213.0013     43.0076        393   5.3088816609e+01  -2.7687510924e+01     0.708     0.704  68.07  2.52082e-05 2.508415e-05 -56.96      0.413  22.0611   0.0028\r\n",
      "  1111.3689     36.2738        394   5.3084810257e+01  -2.7688273356e+01     0.849     0.787  32.46 3.004398e-05    2.826e-05 -21.18      0.741  23.8070   0.0167\r\n",
      "  1207.0895   1017.4442        395   5.3099344945e+01  -2.7720951008e+01     0.993     0.792  74.37 3.558403e-05 2.792342e-05 -61.73      0.685  21.7104   0.0029\r\n",
      "   107.0821   1031.6719        396   5.3056928042e+01  -2.7732184749e+01     0.686     0.634  -5.87 2.449196e-05 2.253811e-05  20.75      0.682  24.9575   0.0354\r\n",
      "  1157.6495   1017.0934        397   5.3097427770e+01  -2.7721422263e+01     3.478     2.813  61.33 0.0001241804 9.985309e-05 -51.65      3.215  19.8362   0.0020\r\n",
      "   898.4491     28.0022        398   5.3076481165e+01  -2.7690070205e+01     1.033     0.665  28.54 3.573091e-05 2.525301e-05 -15.99      2.818  24.9988   0.0439\r\n",
      "   193.9089   1018.3423        399   5.3060141793e+01  -2.7730880305e+01     1.044     0.923 -31.60 3.720433e-05 3.287616e-05  40.78      2.108  24.7779   0.0408\r\n",
      "   106.8182     26.9630        400   5.3045838932e+01  -2.7697764554e+01     0.751     0.632 -37.07 2.667502e-05 2.258995e-05  45.63      0.525  24.6695   0.0290\r\n",
      "  1151.1909   1031.9552        401   5.3097341927e+01  -2.7721994528e+01     0.876     0.790  83.23 3.126495e-05 2.805424e-05 -68.51      0.890  23.9314   0.0180\r\n",
      "   130.6009   1016.9105        402   5.3057675558e+01  -2.7731449384e+01     0.789     0.665 -22.77 2.822182e-05  2.35458e-05  33.68      0.650  24.4147   0.0243\r\n",
      "   871.9097   1022.7484        403   5.3086431847e+01  -2.7724408568e+01     1.268     1.165  12.38 4.497632e-05 4.169824e-05   3.97      1.301  22.0769   0.0056\r\n",
      "  1199.9362   1016.0676        404   5.3099052914e+01  -2.7720973775e+01     0.725     0.653  44.81 2.570719e-05 2.342251e-05 -36.17      0.366  22.5056   0.0042\r\n",
      "   509.8522   1013.1403        405   5.3072313092e+01  -2.7727616580e+01     1.153     0.713  -9.79 4.143187e-05 2.480551e-05  23.83      1.855  24.7602   0.0386\r\n",
      "     1.2986    993.1382        406   5.3052408425e+01  -2.7731897284e+01     0.690     0.436  74.94  2.48475e-05 1.512445e-05 -62.17      0.537  25.0329   0.0320\r\n",
      "     2.2464   1013.6339        407   5.3052671162e+01  -2.7732590239e+01     0.690     0.478   6.59 2.438658e-05 1.730032e-05   9.89      0.554  23.5393   0.0089\r\n",
      "   409.7966   1007.4984        408   5.3068378233e+01  -2.7728400547e+01     0.964     0.719  89.32 3.438018e-05 2.557614e-05 -73.51      1.932  24.8784   0.0393\r\n",
      "     7.8434   1005.2211        409   5.3052795021e+01  -2.7732247368e+01     0.822     0.764 -53.90 2.911573e-05 2.740307e-05  64.12      0.588  23.3665   0.0111\r\n",
      "   408.2617    999.8705        410   5.3068234664e+01  -2.7728154206e+01     1.542     0.554  70.94 5.573499e-05 1.735067e-05 -59.15      4.153  25.0142   0.0467\r\n",
      "  1103.1222   1001.5232        411   5.3095145644e+01  -2.7721421832e+01     0.742     0.499   1.82 2.636979e-05 1.786139e-05  14.33      0.868  24.9704   0.0331\r\n",
      "   529.0667    998.9760        412   5.3072900469e+01  -2.7726943633e+01     1.473     1.135 -71.96 5.165183e-05 4.148875e-05  87.48      2.122  23.6840   0.0211\r\n",
      "   132.0326    998.9993        413   5.3057533405e+01  -2.7730821753e+01     0.730     0.691 -48.11 2.591504e-05 2.472667e-05  57.10      0.420  24.7317   0.0326\r\n"
     ]
    }
   ],
   "source": [
    "os.system(\"cp ../cookbook_data/cookbook.cat .\")\n",
    "!cat cookbook.cat"
   ]
  },
  {
   "cell_type": "markdown",
   "metadata": {},
   "source": [
    "We can now run aXe"
   ]
  },
  {
   "cell_type": "markdown",
   "metadata": {},
   "source": [
    "We start by setting up some necessary environment variables that point to the various aXe directories."
   ]
  },
  {
   "cell_type": "markdown",
   "metadata": {},
   "source": [
    "Create a directory called CONF and copy the WFC3 G141 IR Calibration files in there."
   ]
  },
  {
   "cell_type": "code",
   "execution_count": 13,
   "metadata": {},
   "outputs": [
    {
     "data": {
      "text/plain": [
       "0"
      ]
     },
     "execution_count": 13,
     "metadata": {},
     "output_type": "execute_result"
    }
   ],
   "source": [
    "os.chdir(cwd)\n",
    "\n",
    "if os.path.isdir(\"CONF\"):\n",
    "    shutil.rmtree(\"CONF\")\n",
    "os.mkdir(\"CONF\")\n",
    "\n",
    "os.system(\"cp cookbook_data/CONF/* CONF/\")"
   ]
  },
  {
   "cell_type": "markdown",
   "metadata": {},
   "source": [
    "Set up some work directories and environment variables required by aXe:"
   ]
  },
  {
   "cell_type": "code",
   "execution_count": 14,
   "metadata": {},
   "outputs": [
    {
     "name": "stdout",
     "output_type": "stream",
     "text": [
      "--> variable AXE_IMAGE_PATH   set to \"./DATA/\"\n",
      "--> variable AXE_CONFIG_PATH  set to \"./CONF/\"\n",
      "--> variable AXE_OUTPUT_PATH  set to \"./OUTPUT/\"\n",
      "Length of AXE_IMAGE_PATH is 7 characters\n"
     ]
    }
   ],
   "source": [
    "import os\n",
    "\n",
    "os.chdir(cwd)\n",
    "\n",
    "if os.path.isdir(\"DATA\"):\n",
    "    shutil.rmtree(\"DATA\")\n",
    "os.mkdir(\"DATA\")\n",
    "os.environ['AXE_IMAGE_PATH'] = './DATA/' \n",
    "print ('--> variable AXE_IMAGE_PATH   set to \"./DATA/\"')\n",
    "\n",
    "os.environ['AXE_CONFIG_PATH'] = './CONF/'\n",
    "print ('--> variable AXE_CONFIG_PATH  set to \"./CONF/\"')\n",
    "\n",
    "if os.path.isdir(\"OUTPUT\"):\n",
    "    shutil.rmtree(\"OUTPUT\")\n",
    "os.mkdir(\"OUTPUT\")\n",
    "os.environ['AXE_OUTPUT_PATH'] = './OUTPUT/'\n",
    "print ('--> variable AXE_OUTPUT_PATH  set to \"./OUTPUT/\"')\n",
    "\n",
    "print (\"Length of AXE_IMAGE_PATH is\",len(os.environ['AXE_IMAGE_PATH']),\"characters\")\n"
   ]
  },
  {
   "cell_type": "markdown",
   "metadata": {},
   "source": [
    "We define the FOV boundaries for the WFC3 IR observations"
   ]
  },
  {
   "cell_type": "code",
   "execution_count": 15,
   "metadata": {},
   "outputs": [],
   "source": [
    "dimension_info = \"183,85,50,50\""
   ]
  },
  {
   "cell_type": "markdown",
   "metadata": {},
   "source": [
    "We copy the G141 FLT files and the F140W FLT files in the DATA directory"
   ]
  },
  {
   "cell_type": "markdown",
   "metadata": {},
   "source": [
    "You can either use the original data or optionally the FLT files used to create the G141 mosaic earlier, which will have some extra bad pixels flagging"
   ]
  },
  {
   "cell_type": "code",
   "execution_count": 16,
   "metadata": {},
   "outputs": [
    {
     "data": {
      "text/plain": [
       "0"
      ]
     },
     "execution_count": 16,
     "metadata": {},
     "output_type": "execute_result"
    }
   ],
   "source": [
    "os.system(\"cp G141/*flt.fits DATA/\")\n",
    "os.system(\"cp F140W/*flt.fits DATA/\")"
   ]
  },
  {
   "cell_type": "markdown",
   "metadata": {},
   "source": [
    "We use the iolprep aXe task to generate individual F140W catalogs"
   ]
  },
  {
   "cell_type": "markdown",
   "metadata": {},
   "source": [
    "This task will create the individual F140W extraction catalogs, one for each of the files listed in the F140W.lis file. \n",
    "We pass the F140W mosaic to it, as it contains all the information about all the individual F140W FLT file."
   ]
  },
  {
   "cell_type": "code",
   "execution_count": 17,
   "metadata": {},
   "outputs": [],
   "source": [
    "os.chdir(cwd)\n",
    "os.chdir(\"F140W\")\n",
    "\n",
    "axetasks.iolprep(drizzle_image='F140W_drz.fits',\n",
    "                     input_cat='cookbook.cat',\n",
    "                     dimension_in=dimension_info)"
   ]
  },
  {
   "cell_type": "markdown",
   "metadata": {},
   "source": [
    "We copy the newly create catalog files into the DATA directory"
   ]
  },
  {
   "cell_type": "code",
   "execution_count": 18,
   "metadata": {},
   "outputs": [
    {
     "data": {
      "text/plain": [
       "0"
      ]
     },
     "execution_count": 18,
     "metadata": {},
     "output_type": "execute_result"
    }
   ],
   "source": [
    "os.system(\"cp ib6o23*_1.cat ../DATA/\")"
   ]
  },
  {
   "cell_type": "markdown",
   "metadata": {},
   "source": [
    "We are almost ready to extract the spectra.\n",
    "We need to create an file aXe.lis containing the G141 images, expected catalog names and associated F140W direct images"
   ]
  },
  {
   "cell_type": "markdown",
   "metadata": {},
   "source": [
    "The G141 mosaic we created earlier is not used directly during the aXe extraction process. However, the F140W mosaic was used to create an object master catalog. This catalog will be processed to generate individual object catalogs for the files used to create the F140W mosaic. The aXe.lis file lists which F140W images are logically associated with a particular G141 image. Ideally, these are images taken in the same HST visit so that we can be sure that the WCS of both files are consistent.\n",
    "\n",
    "The aXe.lis file is a simple text file, with a slightly different format than the one above. In this file, each line contains 3 items:\n",
    "- The name of a G141 FLT file (e.g. [grism_rootname]_flt.fits\n",
    "- A catalog name with a name of [direct_rootname]_flt_1.cat\n",
    "- The name of the direct imaging file [direct_rootname]_flt.fits associated with the G141 data and the catalog. \n",
    "    \n",
    "At this stage, we only have items 1 and 2."
   ]
  },
  {
   "cell_type": "code",
   "execution_count": 19,
   "metadata": {},
   "outputs": [
    {
     "name": "stdout",
     "output_type": "stream",
     "text": [
      "ib6o23rsq_flt.fits ib6o23rtq_flt_1.cat ib6o23rtq_flt.fits\r\n",
      "ib6o23ruq_flt.fits ib6o23rwq_flt_1.cat ib6o23rwq_flt.fits\r\n",
      "ib6o23ryq_flt.fits ib6o23rzq_flt_1.cat ib6o23rzq_flt.fits\r\n",
      "ib6o23s0q_flt.fits ib6o23s2q_flt_1.cat ib6o23s2q_flt.fits\r\n",
      "\r\n"
     ]
    }
   ],
   "source": [
    "os.chdir(cwd)\n",
    "os.system(\"cp cookbook_data/aXe.lis .\")\n",
    "!cat aXe.lis"
   ]
  },
  {
   "cell_type": "markdown",
   "metadata": {},
   "source": [
    "We run aXeprep. This task will amongst other things take care of background subtracting the G141 data using a single master sky."
   ]
  },
  {
   "cell_type": "code",
   "execution_count": 20,
   "metadata": {},
   "outputs": [
    {
     "name": "stderr",
     "output_type": "stream",
     "text": [
      "WARNING: VerifyWarning: Card is too long, comment will be truncated. [astropy.io.fits.card]\n",
      "WARNING: VerifyWarning: Card is too long, comment will be truncated. [astropy.io.fits.card]\n",
      "WARNING: VerifyWarning: Card is too long, comment will be truncated. [astropy.io.fits.card]\n",
      "WARNING: VerifyWarning: Card is too long, comment will be truncated. [astropy.io.fits.card]\n"
     ]
    }
   ],
   "source": [
    "os.chdir(cwd)\n",
    "\n",
    "axetasks.axeprep(inlist=\"aXe.lis\",\n",
    "                     configs=\"G141.F140W.V4.31.conf\",\n",
    "                     backgr=True,\n",
    "                     backims=\"WFC3.IR.G141.sky.V1.0.fits\",\n",
    "                     norm=False,\n",
    "                     mfwhm=3.0)\n"
   ]
  },
  {
   "cell_type": "markdown",
   "metadata": {},
   "source": [
    "We can now proceed with a simple box extraction of our G141 spectra. This will not combine individual 1D spectra and we create one extracted spectrum per object and get G141 FLT file we are processing. \n",
    "The contamination is estimated using the Gaussian model of each object that is included in the  SExtractor object catalog test.cat."
   ]
  },
  {
   "cell_type": "markdown",
   "metadata": {},
   "source": [
    "For each of the G141 input FLT file, this will create the following in the OUTPUT/ directory:\n",
    "- [rootname]_flt_2.cat : Object catalog for the FLT file [rootname]_flt.fits\n",
    "- [rootname]_flt_2.OAF : Aperture file\n",
    "- [rootname]_flt_2.PET.fits : The Pixel Extraction Table, containing all the unbinned information about each spectrum\n",
    "- [rootname]_flt_2.SPC.fits : 1D extracted spectra\n",
    "- [rootname]_flt_2.CONT.fits : Contamination estimate for eact of the spectra\n",
    "- [rootname]_flt_2_opt.SPC.fits : Optimally extracted version of the 1D spectra\n",
    "\n",
    "While running the next notebook cell, please check the main terminal window as the aXe routines will output things in there. It will take a few minutes to run\n"
   ]
  },
  {
   "cell_type": "code",
   "execution_count": 21,
   "metadata": {},
   "outputs": [
    {
     "name": "stdout",
     "output_type": "stream",
     "text": [
      "\n",
      "Writing non-linear coefficients to file\n",
      "\n",
      "\n",
      "Storing non-linear coefficients: \n",
      "WFC3: IR\n",
      "\n",
      "DRZSCALE set to: 0.1282500028610229\n",
      "\n",
      "Writing non-linear coefficients to file\n",
      "\n",
      "\n",
      "Storing non-linear coefficients: \n",
      "WFC3: IR\n",
      "\n",
      "DRZSCALE set to: 0.1282500028610229\n",
      "\n",
      "Writing non-linear coefficients to file\n",
      "\n",
      "\n",
      "Storing non-linear coefficients: \n",
      "WFC3: IR\n",
      "\n",
      "DRZSCALE set to: 0.1282500028610229\n",
      "\n",
      "Writing non-linear coefficients to file\n",
      "\n",
      "\n",
      "Storing non-linear coefficients: \n",
      "WFC3: IR\n",
      "\n",
      "DRZSCALE set to: 0.1282500028610229\n"
     ]
    }
   ],
   "source": [
    "axetasks.axecore('aXe.lis',\n",
    "                 \"G141.F140W.V4.31.conf\",\n",
    "                 extrfwhm=4.,\n",
    "                 drzfwhm=3.,\n",
    "                 backfwhm=0.,\n",
    "                 orient=False,\n",
    "                 weights=True,\n",
    "                 slitless_geom=False,\n",
    "                 cont_model='gauss',\n",
    "                 sampling='drizzle',\n",
    "                 exclude=True)\n"
   ]
  },
  {
   "cell_type": "markdown",
   "metadata": {},
   "source": [
    "Results are in the directory pointed to by os.environ['AXE_OUTPUT_PATH'], i.e. ./OUTPUT \n",
    "1D and 2D spectra extracted from individual FLT files are available. These are not combined.\n",
    "SPC files contained 1D spectra, opt.SPC files contained optimally extracted spectra (using gaussian profiles), STP files contain 2D stamps. CONT files contain the contamination estimate (gaussian based)"
   ]
  },
  {
   "cell_type": "code",
   "execution_count": 22,
   "metadata": {},
   "outputs": [
    {
     "name": "stdout",
     "output_type": "stream",
     "text": [
      "OUTPUT/ib6o23rsq_flt_2.SPC.fits     OUTPUT/ib6o23ryq_flt_2.SPC.fits\n",
      "OUTPUT/ib6o23rsq_flt_2_opt.SPC.fits OUTPUT/ib6o23ryq_flt_2_opt.SPC.fits\n",
      "OUTPUT/ib6o23ruq_flt_2.SPC.fits     OUTPUT/ib6o23s0q_flt_2.SPC.fits\n",
      "OUTPUT/ib6o23ruq_flt_2_opt.SPC.fits OUTPUT/ib6o23s0q_flt_2_opt.SPC.fits\n",
      "OUTPUT/ib6o23rsq_flt_2.STP.fits OUTPUT/ib6o23ryq_flt_2.STP.fits\n",
      "OUTPUT/ib6o23ruq_flt_2.STP.fits OUTPUT/ib6o23s0q_flt_2.STP.fits\n"
     ]
    }
   ],
   "source": [
    "!ls OUTPUT/*SPC.fits\n",
    "!ls OUTPUT/*STP.fits"
   ]
  },
  {
   "cell_type": "markdown",
   "metadata": {},
   "source": [
    "We can examine individual 2D spectra from the STP files. Note that the STP files are meant for quality control and are not calibrated versions of the 2D spectra. "
   ]
  },
  {
   "cell_type": "code",
   "execution_count": 23,
   "metadata": {},
   "outputs": [
    {
     "data": {
      "image/png": "[encoded data removed]",
      "text/plain": [
       "<Figure size 1080x216 with 4 Axes>"
      ]
     },
     "metadata": {
      "needs_background": "light"
     },
     "output_type": "display_data"
    }
   ],
   "source": [
    "ID = 160\n",
    "\n",
    "plt.rcParams[\"figure.figsize\"] = (15,3)\n",
    "plt.subplot(2,2,1)\n",
    "try:\n",
    "    d1 = fits.open(\"OUTPUT/ib6o23rsq_flt_2.STP.fits\")[\"BEAM_%dA\" % (ID)].data\n",
    "    im1 = plt.imshow(d1,origin=\"lower\")\n",
    "    im1.set_clim(0,.1)\n",
    "except:\n",
    "    pass\n",
    "\n",
    "plt.subplot(2,2,2)\n",
    "try:\n",
    "    d1 = fits.open(\"OUTPUT/ib6o23ryq_flt_2.STP.fits\")[\"BEAM_%dA\" % (ID)].data\n",
    "    im1 = plt.imshow(d1,origin=\"lower\")\n",
    "    im1.set_clim(0,.1)\n",
    "except:\n",
    "    pass\n",
    "\n",
    "plt.subplot(2,2,3)\n",
    "try:\n",
    "    d1 = fits.open(\"OUTPUT/ib6o23ruq_flt_2.STP.fits\")[\"BEAM_%dA\" % (ID)].data\n",
    "    im1 = plt.imshow(d1,origin=\"lower\")\n",
    "    im1.set_clim(0,.1)\n",
    "except:\n",
    "    pass\n",
    "\n",
    "plt.subplot(2,2,4)\n",
    "try:\n",
    "    d1 = fits.open(\"OUTPUT/ib6o23s0q_flt_2.STP.fits\")[\"BEAM_%dA\" % (ID)].data\n",
    "    im1 = plt.imshow(d1,origin=\"lower\")\n",
    "    im1.set_clim(0,.1)\n",
    "except:\n",
    "    pass\n",
    "\n"
   ]
  },
  {
   "cell_type": "markdown",
   "metadata": {},
   "source": [
    "We now examine the calibrated 1D spectra of one of the sources:"
   ]
  },
  {
   "cell_type": "code",
   "execution_count": 24,
   "metadata": {},
   "outputs": [
    {
     "name": "stdout",
     "output_type": "stream",
     "text": [
      "OUTPUT/ib6o23rsq_flt_2.SPC.fits\n",
      "OUTPUT/ib6o23ruq_flt_2.SPC.fits\n",
      "OUTPUT/ib6o23ryq_flt_2.SPC.fits\n",
      "OUTPUT/ib6o23s0q_flt_2.SPC.fits\n"
     ]
    },
    {
     "data": {
      "image/png": "[encoded data removed]",
      "text/plain": [
       "<Figure size 1080x216 with 1 Axes>"
      ]
     },
     "metadata": {
      "needs_background": "light"
     },
     "output_type": "display_data"
    }
   ],
   "source": [
    "import glob\n",
    "for s in glob.glob(\"OUTPUT/ib6o2*2.SPC.fits\"):\n",
    "    print( s)\n",
    "    d1 = fits.open(s)[\"BEAM_%dA\" % (ID)].data\n",
    "    w = d1[\"LAMBDA\"]\n",
    "    f = d1[\"FLUX\"]\n",
    "    e = d1[\"FERROR\"]\n",
    "    vg = (w>11500) & (w<16000)\n",
    "    plt.errorbar(w[vg],f[vg],e[vg])\n",
    "plt.xlabel(r'Wavelength ($\\AA$)')\n",
    "plt.ylabel(r'Flux ($erg/s/cm^2/\\AA/s$)');"
   ]
  },
  {
   "cell_type": "markdown",
   "metadata": {},
   "source": [
    "Contamination is not automatically removed but has been estimated and we can plot it"
   ]
  },
  {
   "cell_type": "code",
   "execution_count": 25,
   "metadata": {},
   "outputs": [
    {
     "name": "stdout",
     "output_type": "stream",
     "text": [
      "OUTPUT/ib6o23rsq_flt_2.SPC.fits\n",
      "OUTPUT/ib6o23ruq_flt_2.SPC.fits\n",
      "OUTPUT/ib6o23ryq_flt_2.SPC.fits\n",
      "OUTPUT/ib6o23s0q_flt_2.SPC.fits\n"
     ]
    },
    {
     "data": {
      "image/png": "[encoded data removed]",
      "text/plain": [
       "<Figure size 1080x216 with 1 Axes>"
      ]
     },
     "metadata": {
      "needs_background": "light"
     },
     "output_type": "display_data"
    }
   ],
   "source": [
    "import glob\n",
    "for s in glob.glob(\"OUTPUT/ib6o2*2.SPC.fits\"):\n",
    "    print (s)\n",
    "    d1 = fits.open(s)[\"BEAM_%dA\" % (ID)].data\n",
    "    w = d1[\"LAMBDA\"]\n",
    "    c = d1[\"CONTAM\"]\n",
    "    vg = (w>11500) & (w<16000)\n",
    "    plt.plot(w[vg],c[vg],label=s)\n",
    "plt.legend()\n",
    "plt.xlabel(r'Wavelength ($\\AA$)')\n",
    "plt.ylabel(r'Flux ($erg/s/cm^2/\\AA/s$)');"
   ]
  },
  {
   "cell_type": "markdown",
   "metadata": {},
   "source": [
    "<h1>More advanced extraction"
   ]
  },
  {
   "cell_type": "markdown",
   "metadata": {},
   "source": [
    "We now use the aXe Fluxcube extraction"
   ]
  },
  {
   "cell_type": "markdown",
   "metadata": {},
   "source": [
    "- This method uses multiple mosaics, generated with the same WCS as the G141 mosaic and the SeXtractor segmentation file seg.fits which was generated above when we created the catalog, to generate more accurate contamination estimates and weighted extraction.\n",
    "- The use of aXedrizzle allows us to combine 2D and 1D spectra taken at the same orientation, which is the case of the data in this example.\n",
    "- In this example, we use the actual segmenation map to determine the shape of objects. This is done via a set of Fluxcube files was we need to first generate"
   ]
  },
  {
   "cell_type": "markdown",
   "metadata": {},
   "source": [
    "We create a new directory called DRIZZLE that we will need:"
   ]
  },
  {
   "cell_type": "code",
   "execution_count": 26,
   "metadata": {},
   "outputs": [
    {
     "name": "stdout",
     "output_type": "stream",
     "text": [
      "--> variable AXE_DRIZZLE_PATH  set to \"./DRIZZLE/\"\n"
     ]
    }
   ],
   "source": [
    "\n",
    "if os.path.isdir(\"DRIZZLE\"):\n",
    "    shutil.rmtree(\"DRIZZLE\")\n",
    "os.mkdir(\"DRIZZLE\")\n",
    "os.environ['AXE_DRIZZLE_PATH'] = './DRIZZLE/' \n",
    "print ('--> variable AXE_DRIZZLE_PATH  set to \"./DRIZZLE/\"')"
   ]
  },
  {
   "cell_type": "markdown",
   "metadata": {},
   "source": [
    "We already have an F140W mosaic and we now create an F125W mosaic with the same final WCS as the G141 mosaic"
   ]
  },
  {
   "cell_type": "code",
   "execution_count": 27,
   "metadata": {},
   "outputs": [],
   "source": [
    "os.chdir(cwd)\n",
    "\n",
    "if os.path.isdir(\"F125W\"):\n",
    "    shutil.rmtree(\"F125W\")\n",
    "\n",
    "os.mkdir(\"F125W\")\n"
   ]
  },
  {
   "cell_type": "code",
   "execution_count": 28,
   "metadata": {},
   "outputs": [
    {
     "name": "stdout",
     "output_type": "stream",
     "text": [
      "ib6o03n9q_flt.fits\r\n",
      "ib6o03nbq_flt.fits\r\n",
      "ib6o03nfq_flt.fits\r\n",
      "ib6o03niq_flt.fits\r\n",
      "ib6o03nmq_flt.fits\r\n",
      "ib6o03npq_flt.fits\r\n",
      "ib6o04tuq_flt.fits\r\n",
      "ib6o04twq_flt.fits\r\n",
      "ib6o04u7q_flt.fits\r\n",
      "ib6o04uaq_flt.fits\r\n",
      "ib6o04ueq_flt.fits\r\n",
      "ib6o04uwq_flt.fits\r\n",
      "ib6o09h7q_flt.fits\r\n",
      "ib6o09h9q_flt.fits\r\n",
      "ib6o09hdq_flt.fits\r\n",
      "ib6o09hwq_flt.fits\r\n",
      "ib6o09i0q_flt.fits\r\n",
      "ib6o09i3q_flt.fits\r\n",
      "ib6oa8viq_flt.fits\r\n",
      "ib6oa8vlq_flt.fits\r\n",
      "ib6oa8vpq_flt.fits\r\n",
      "ib6ob8vtq_flt.fits\r\n"
     ]
    }
   ],
   "source": [
    "os.system(\"cp cookbook_data/F125W/*flt.fits F125W/\")\n",
    "os.system(\"cp cookbook_data/F125W/F125W.lis F125W/\")\n",
    "os.chdir(\"F125W\")\n",
    "!cat F125W.lis"
   ]
  },
  {
   "cell_type": "code",
   "execution_count": 29,
   "metadata": {},
   "outputs": [
    {
     "name": "stdout",
     "output_type": "stream",
     "text": [
      "Setting up logfile :  astrodrizzle.log\n",
      "AstroDrizzle Version 3.1.8 (2020-07-27 10:34:52 -0400) started at: 11:00:44.414 (03/11/2020)\n",
      "\n",
      "==== Processing Step  Initialization  started at  11:00:44.41 (03/11/2020)\n",
      "\n",
      "Preserving original of:  ib6o03n9q_flt.fits as  OrIg_files/ib6o03n9q_flt.fits\n",
      "Preserving original of:  ib6o03nbq_flt.fits as  OrIg_files/ib6o03nbq_flt.fits\n",
      "Preserving original of:  ib6o03nfq_flt.fits as  OrIg_files/ib6o03nfq_flt.fits\n",
      "Preserving original of:  ib6o03niq_flt.fits as  OrIg_files/ib6o03niq_flt.fits\n",
      "Preserving original of:  ib6o03nmq_flt.fits as  OrIg_files/ib6o03nmq_flt.fits\n",
      "Preserving original of:  ib6o03npq_flt.fits as  OrIg_files/ib6o03npq_flt.fits\n",
      "Preserving original of:  ib6o04tuq_flt.fits as  OrIg_files/ib6o04tuq_flt.fits\n",
      "Preserving original of:  ib6o04twq_flt.fits as  OrIg_files/ib6o04twq_flt.fits\n",
      "Preserving original of:  ib6o04u7q_flt.fits as  OrIg_files/ib6o04u7q_flt.fits\n",
      "Preserving original of:  ib6o04uaq_flt.fits as  OrIg_files/ib6o04uaq_flt.fits\n",
      "Preserving original of:  ib6o04ueq_flt.fits as  OrIg_files/ib6o04ueq_flt.fits\n",
      "Preserving original of:  ib6o04uwq_flt.fits as  OrIg_files/ib6o04uwq_flt.fits\n",
      "Preserving original of:  ib6o09h7q_flt.fits as  OrIg_files/ib6o09h7q_flt.fits\n",
      "Preserving original of:  ib6o09h9q_flt.fits as  OrIg_files/ib6o09h9q_flt.fits\n",
      "Preserving original of:  ib6o09hdq_flt.fits as  OrIg_files/ib6o09hdq_flt.fits\n",
      "Preserving original of:  ib6o09hwq_flt.fits as  OrIg_files/ib6o09hwq_flt.fits\n",
      "Preserving original of:  ib6o09i0q_flt.fits as  OrIg_files/ib6o09i0q_flt.fits\n",
      "Preserving original of:  ib6o09i3q_flt.fits as  OrIg_files/ib6o09i3q_flt.fits\n",
      "Preserving original of:  ib6oa8viq_flt.fits as  OrIg_files/ib6oa8viq_flt.fits\n",
      "Preserving original of:  ib6oa8vlq_flt.fits as  OrIg_files/ib6oa8vlq_flt.fits\n",
      "Preserving original of:  ib6oa8vpq_flt.fits as  OrIg_files/ib6oa8vpq_flt.fits\n",
      "Preserving original of:  ib6ob8vtq_flt.fits as  OrIg_files/ib6ob8vtq_flt.fits\n",
      "##############################################################################\n",
      "#                                                                            #\n",
      "# “minmed” is highly recommended for three images,                           #\n",
      "#  and is good for four to six images,                                       #\n",
      "#  but should be avoided for ten or more images.                             #\n",
      "#                                                                            #\n",
      "##############################################################################\n",
      "Creating OUTPUT WCS from ../G141/G141_drz.fits[1]\n",
      "WCS Keywords\n",
      "\n",
      "CD_11  CD_12: 3.42598763584752e-05 9.76737188430952e-06\n",
      "CD_21  CD_22: 9.76737188430952e-06 -3.4259876358475e-05\n",
      "CRVAL    : 53.07112904468524 -27.70959857751279\n",
      "CRPIX    : 620.0 519.0\n",
      "NAXIS    : 1240 1038\n",
      "Plate Scale : 0.1282500028610227\n",
      "ORIENTAT : 164.08733290095458\n",
      "********************************************************************************\n",
      "*\n",
      "*  Estimated memory usage:  up to 496 Mb.\n",
      "*  Output image size:       1240 X 1038 pixels. \n",
      "*  Output image file:       ~ 14 Mb. \n",
      "*  Cores available:         22\n",
      "*\n",
      "********************************************************************************\n",
      "==== Processing Step Initialization finished at 11:00:50.264 (03/11/2020)\n",
      "==== Processing Step  Static Mask  started at  11:00:50.269 (03/11/2020)\n",
      "\n",
      "==== Processing Step Static Mask finished at 11:00:51.030 (03/11/2020)\n",
      "==== Processing Step  Subtract Sky  started at  11:00:51.032 (03/11/2020)\n",
      "\n",
      "***** skymatch started on 2020-11-03 11:00:51.637169\n",
      "      Version 1.0.5\n",
      "\n",
      "'skymatch' task will apply computed sky differences to input image file(s).\n",
      "\n",
      "NOTE: Computed sky values WILL NOT be subtracted from image data ('subtractsky'=False).\n",
      "'MDRIZSKY' header keyword will represent sky value *computed* from data.\n",
      "\n",
      "-----  User specified keywords:  -----\n",
      "       Sky Value Keyword:  'MDRIZSKY'\n",
      "       Data Units Keyword: 'BUNIT'\n",
      "\n",
      "\n",
      "-----  Input file list:  -----\n",
      "\n",
      "   **  Input image: 'ib6o03n9q_flt.fits'\n",
      "       EXT: 'SCI',1;\tMASK: ib6o03n9q_skymatch_mask_sci1.fits[0]\n",
      "\n",
      "   **  Input image: 'ib6o03nbq_flt.fits'\n",
      "       EXT: 'SCI',1;\tMASK: ib6o03nbq_skymatch_mask_sci1.fits[0]\n",
      "\n",
      "   **  Input image: 'ib6o03nfq_flt.fits'\n",
      "       EXT: 'SCI',1;\tMASK: ib6o03nfq_skymatch_mask_sci1.fits[0]\n",
      "\n",
      "   **  Input image: 'ib6o03niq_flt.fits'\n",
      "       EXT: 'SCI',1;\tMASK: ib6o03niq_skymatch_mask_sci1.fits[0]\n",
      "\n",
      "   **  Input image: 'ib6o03nmq_flt.fits'\n",
      "       EXT: 'SCI',1;\tMASK: ib6o03nmq_skymatch_mask_sci1.fits[0]\n",
      "\n",
      "   **  Input image: 'ib6o03npq_flt.fits'\n",
      "       EXT: 'SCI',1;\tMASK: ib6o03npq_skymatch_mask_sci1.fits[0]\n",
      "\n",
      "   **  Input image: 'ib6o04tuq_flt.fits'\n",
      "       EXT: 'SCI',1;\tMASK: ib6o04tuq_skymatch_mask_sci1.fits[0]\n",
      "\n",
      "   **  Input image: 'ib6o04twq_flt.fits'\n",
      "       EXT: 'SCI',1;\tMASK: ib6o04twq_skymatch_mask_sci1.fits[0]\n",
      "\n",
      "   **  Input image: 'ib6o04u7q_flt.fits'\n",
      "       EXT: 'SCI',1;\tMASK: ib6o04u7q_skymatch_mask_sci1.fits[0]\n",
      "\n",
      "   **  Input image: 'ib6o04uaq_flt.fits'\n",
      "       EXT: 'SCI',1;\tMASK: ib6o04uaq_skymatch_mask_sci1.fits[0]\n",
      "\n",
      "   **  Input image: 'ib6o04ueq_flt.fits'\n",
      "       EXT: 'SCI',1;\tMASK: ib6o04ueq_skymatch_mask_sci1.fits[0]\n",
      "\n",
      "   **  Input image: 'ib6o04uwq_flt.fits'\n",
      "       EXT: 'SCI',1;\tMASK: ib6o04uwq_skymatch_mask_sci1.fits[0]\n",
      "\n",
      "   **  Input image: 'ib6o09h7q_flt.fits'\n",
      "       EXT: 'SCI',1;\tMASK: ib6o09h7q_skymatch_mask_sci1.fits[0]\n",
      "\n",
      "   **  Input image: 'ib6o09h9q_flt.fits'\n",
      "       EXT: 'SCI',1;\tMASK: ib6o09h9q_skymatch_mask_sci1.fits[0]\n",
      "\n",
      "   **  Input image: 'ib6o09hdq_flt.fits'\n",
      "       EXT: 'SCI',1;\tMASK: ib6o09hdq_skymatch_mask_sci1.fits[0]\n",
      "\n",
      "   **  Input image: 'ib6o09hwq_flt.fits'\n",
      "       EXT: 'SCI',1;\tMASK: ib6o09hwq_skymatch_mask_sci1.fits[0]\n",
      "\n",
      "   **  Input image: 'ib6o09i0q_flt.fits'\n",
      "       EXT: 'SCI',1;\tMASK: ib6o09i0q_skymatch_mask_sci1.fits[0]\n",
      "\n",
      "   **  Input image: 'ib6o09i3q_flt.fits'\n",
      "       EXT: 'SCI',1;\tMASK: ib6o09i3q_skymatch_mask_sci1.fits[0]\n",
      "\n",
      "   **  Input image: 'ib6oa8viq_flt.fits'\n",
      "       EXT: 'SCI',1;\tMASK: ib6oa8viq_skymatch_mask_sci1.fits[0]\n",
      "\n",
      "   **  Input image: 'ib6oa8vlq_flt.fits'\n",
      "       EXT: 'SCI',1;\tMASK: ib6oa8vlq_skymatch_mask_sci1.fits[0]\n",
      "\n",
      "   **  Input image: 'ib6oa8vpq_flt.fits'\n",
      "       EXT: 'SCI',1;\tMASK: ib6oa8vpq_skymatch_mask_sci1.fits[0]\n",
      "\n",
      "   **  Input image: 'ib6ob8vtq_flt.fits'\n",
      "       EXT: 'SCI',1;\tMASK: ib6ob8vtq_skymatch_mask_sci1.fits[0]\n",
      "\n",
      "-----  Sky statistics parameters:  -----\n",
      "       statistics function: 'median'\n",
      "       lower = None\n",
      "       upper = None\n",
      "       nclip = 5\n",
      "       lsigma = 4.0\n",
      "       usigma = 4.0\n",
      "       binwidth = 0.1\n",
      "\n",
      "-----  Data->Brightness conversion parameters for input files:  -----\n",
      "\n",
      "   *   Image: ib6o03n9q_flt.fits\n",
      "       EXT = 'SCI',1\n",
      "             Data units type: COUNT-RATE\n",
      "             Conversion factor (data->brightness):  60.797431635711504\n",
      "\n",
      "   *   Image: ib6o03nbq_flt.fits\n",
      "       EXT = 'SCI',1\n",
      "             Data units type: COUNT-RATE\n",
      "             Conversion factor (data->brightness):  60.797431635711504\n",
      "\n",
      "   *   Image: ib6o03nfq_flt.fits\n",
      "       EXT = 'SCI',1\n",
      "             Data units type: COUNT-RATE\n",
      "             Conversion factor (data->brightness):  60.797431635711504\n",
      "\n",
      "   *   Image: ib6o03niq_flt.fits\n",
      "       EXT = 'SCI',1\n",
      "             Data units type: COUNT-RATE\n",
      "             Conversion factor (data->brightness):  60.797431635711504\n",
      "\n",
      "   *   Image: ib6o03nmq_flt.fits\n",
      "       EXT = 'SCI',1\n",
      "             Data units type: COUNT-RATE\n",
      "             Conversion factor (data->brightness):  60.797431635711504\n",
      "\n",
      "   *   Image: ib6o03npq_flt.fits\n",
      "       EXT = 'SCI',1\n",
      "             Data units type: COUNT-RATE\n",
      "             Conversion factor (data->brightness):  60.797431635711504\n",
      "\n",
      "   *   Image: ib6o04tuq_flt.fits\n",
      "       EXT = 'SCI',1\n",
      "             Data units type: COUNT-RATE\n",
      "             Conversion factor (data->brightness):  60.797431635711504\n",
      "\n",
      "   *   Image: ib6o04twq_flt.fits\n",
      "       EXT = 'SCI',1\n",
      "             Data units type: COUNT-RATE\n",
      "             Conversion factor (data->brightness):  60.797431635711504\n",
      "\n",
      "   *   Image: ib6o04u7q_flt.fits\n",
      "       EXT = 'SCI',1\n",
      "             Data units type: COUNT-RATE\n",
      "             Conversion factor (data->brightness):  60.797431635711504\n",
      "\n",
      "   *   Image: ib6o04uaq_flt.fits\n",
      "       EXT = 'SCI',1\n",
      "             Data units type: COUNT-RATE\n",
      "             Conversion factor (data->brightness):  60.797431635711504\n",
      "\n",
      "   *   Image: ib6o04ueq_flt.fits\n",
      "       EXT = 'SCI',1\n"
     ]
    },
    {
     "name": "stdout",
     "output_type": "stream",
     "text": [
      "             Data units type: COUNT-RATE\n",
      "             Conversion factor (data->brightness):  60.797431635711504\n",
      "\n",
      "   *   Image: ib6o04uwq_flt.fits\n",
      "       EXT = 'SCI',1\n",
      "             Data units type: COUNT-RATE\n",
      "             Conversion factor (data->brightness):  60.797431635711504\n",
      "\n",
      "   *   Image: ib6o09h7q_flt.fits\n",
      "       EXT = 'SCI',1\n",
      "             Data units type: COUNT-RATE\n",
      "             Conversion factor (data->brightness):  60.797431635711504\n",
      "\n",
      "   *   Image: ib6o09h9q_flt.fits\n",
      "       EXT = 'SCI',1\n",
      "             Data units type: COUNT-RATE\n",
      "             Conversion factor (data->brightness):  60.797431635711504\n",
      "\n",
      "   *   Image: ib6o09hdq_flt.fits\n",
      "       EXT = 'SCI',1\n",
      "             Data units type: COUNT-RATE\n",
      "             Conversion factor (data->brightness):  60.797431635711504\n",
      "\n",
      "   *   Image: ib6o09hwq_flt.fits\n",
      "       EXT = 'SCI',1\n",
      "             Data units type: COUNT-RATE\n",
      "             Conversion factor (data->brightness):  60.797431635711504\n",
      "\n",
      "   *   Image: ib6o09i0q_flt.fits\n",
      "       EXT = 'SCI',1\n",
      "             Data units type: COUNT-RATE\n",
      "             Conversion factor (data->brightness):  60.797431635711504\n",
      "\n",
      "   *   Image: ib6o09i3q_flt.fits\n",
      "       EXT = 'SCI',1\n",
      "             Data units type: COUNT-RATE\n",
      "             Conversion factor (data->brightness):  60.797431635711504\n",
      "\n",
      "   *   Image: ib6oa8viq_flt.fits\n",
      "       EXT = 'SCI',1\n",
      "             Data units type: COUNT-RATE\n",
      "             Conversion factor (data->brightness):  60.797431635711504\n",
      "\n",
      "   *   Image: ib6oa8vlq_flt.fits\n",
      "       EXT = 'SCI',1\n",
      "             Data units type: COUNT-RATE\n",
      "             Conversion factor (data->brightness):  60.797431635711504\n",
      "\n",
      "   *   Image: ib6oa8vpq_flt.fits\n",
      "       EXT = 'SCI',1\n",
      "             Data units type: COUNT-RATE\n",
      "             Conversion factor (data->brightness):  60.797431635711504\n",
      "\n",
      "   *   Image: ib6ob8vtq_flt.fits\n",
      "       EXT = 'SCI',1\n",
      "             Data units type: COUNT-RATE\n",
      "             Conversion factor (data->brightness):  60.797431635711504\n",
      "\n",
      "\n",
      "-----  Computing sky values requested image extensions (detector chips):  -----\n",
      "\n",
      "   *   Image:   'ib6o03n9q_flt.fits['SCI',1]'  --  SKY = 34.856591957334544 (brightness units)\n",
      "       Sky change (data units):\n",
      "      - EXT = 'SCI',1   delta(MDRIZSKY) = 0.573323   NEW MDRIZSKY = 0.573323\n",
      "   *   Image:   'ib6o03nbq_flt.fits['SCI',1]'  --  SKY = 32.32703172627115 (brightness units)\n",
      "       Sky change (data units):\n",
      "      - EXT = 'SCI',1   delta(MDRIZSKY) = 0.531717   NEW MDRIZSKY = 0.531717\n",
      "   *   Image:   'ib6o03nfq_flt.fits['SCI',1]'  --  SKY = 34.10882977642597 (brightness units)\n",
      "       Sky change (data units):\n",
      "      - EXT = 'SCI',1   delta(MDRIZSKY) = 0.561024   NEW MDRIZSKY = 0.561024\n",
      "   *   Image:   'ib6o03niq_flt.fits['SCI',1]'  --  SKY = 31.645349708238065 (brightness units)\n",
      "       Sky change (data units):\n",
      "      - EXT = 'SCI',1   delta(MDRIZSKY) = 0.520505   NEW MDRIZSKY = 0.520505\n",
      "   *   Image:   'ib6o03nmq_flt.fits['SCI',1]'  --  SKY = 31.077890159842234 (brightness units)\n",
      "       Sky change (data units):\n",
      "      - EXT = 'SCI',1   delta(MDRIZSKY) = 0.511171   NEW MDRIZSKY = 0.511171\n",
      "   *   Image:   'ib6o03npq_flt.fits['SCI',1]'  --  SKY = 31.83578088778875 (brightness units)\n",
      "       Sky change (data units):\n",
      "      - EXT = 'SCI',1   delta(MDRIZSKY) = 0.523637   NEW MDRIZSKY = 0.523637\n",
      "   *   Image:   'ib6o04tuq_flt.fits['SCI',1]'  --  SKY = 30.559757903854468 (brightness units)\n",
      "       Sky change (data units):\n",
      "      - EXT = 'SCI',1   delta(MDRIZSKY) = 0.502649   NEW MDRIZSKY = 0.502649\n",
      "   *   Image:   'ib6o04twq_flt.fits['SCI',1]'  --  SKY = 30.872137514503912 (brightness units)\n",
      "       Sky change (data units):\n",
      "      - EXT = 'SCI',1   delta(MDRIZSKY) = 0.507787   NEW MDRIZSKY = 0.507787\n",
      "   *   Image:   'ib6o04u7q_flt.fits['SCI',1]'  --  SKY = 30.89789917493066 (brightness units)\n",
      "       Sky change (data units):\n",
      "      - EXT = 'SCI',1   delta(MDRIZSKY) = 0.508211   NEW MDRIZSKY = 0.508211\n",
      "   *   Image:   'ib6o04uaq_flt.fits['SCI',1]'  --  SKY = 30.378275721409402 (brightness units)\n",
      "       Sky change (data units):\n",
      "      - EXT = 'SCI',1   delta(MDRIZSKY) = 0.499664   NEW MDRIZSKY = 0.499664\n",
      "   *   Image:   'ib6o04ueq_flt.fits['SCI',1]'  --  SKY = 30.503248221382282 (brightness units)\n",
      "       Sky change (data units):\n",
      "      - EXT = 'SCI',1   delta(MDRIZSKY) = 0.501719   NEW MDRIZSKY = 0.501719\n",
      "   *   Image:   'ib6o04uwq_flt.fits['SCI',1]'  --  SKY = 30.979453003585053 (brightness units)\n",
      "       Sky change (data units):\n",
      "      - EXT = 'SCI',1   delta(MDRIZSKY) = 0.509552   NEW MDRIZSKY = 0.509552\n",
      "   *   Image:   'ib6o09h7q_flt.fits['SCI',1]'  --  SKY = 30.388313673214455 (brightness units)\n",
      "       Sky change (data units):\n",
      "      - EXT = 'SCI',1   delta(MDRIZSKY) = 0.499829   NEW MDRIZSKY = 0.499829\n",
      "   *   Image:   'ib6o09h9q_flt.fits['SCI',1]'  --  SKY = 29.68991502280711 (brightness units)\n",
      "       Sky change (data units):\n",
      "      - EXT = 'SCI',1   delta(MDRIZSKY) = 0.488342   NEW MDRIZSKY = 0.488342\n",
      "   *   Image:   'ib6o09hdq_flt.fits['SCI',1]'  --  SKY = 31.558613832261933 (brightness units)\n",
      "       Sky change (data units):\n",
      "      - EXT = 'SCI',1   delta(MDRIZSKY) = 0.519078   NEW MDRIZSKY = 0.519078\n",
      "   *   Image:   'ib6o09hwq_flt.fits['SCI',1]'  --  SKY = 30.578558226585372 (brightness units)\n",
      "       Sky change (data units):\n",
      "      - EXT = 'SCI',1   delta(MDRIZSKY) = 0.502958   NEW MDRIZSKY = 0.502958\n",
      "   *   Image:   'ib6o09i0q_flt.fits['SCI',1]'  --  SKY = 30.22533284923173 (brightness units)\n",
      "       Sky change (data units):\n",
      "      - EXT = 'SCI',1   delta(MDRIZSKY) = 0.497148   NEW MDRIZSKY = 0.497148\n",
      "   *   Image:   'ib6o09i3q_flt.fits['SCI',1]'  --  SKY = 30.19842062934718 (brightness units)\n",
      "       Sky change (data units):\n",
      "      - EXT = 'SCI',1   delta(MDRIZSKY) = 0.496706   NEW MDRIZSKY = 0.496706\n",
      "   *   Image:   'ib6oa8viq_flt.fits['SCI',1]'  --  SKY = 31.080151416855355 (brightness units)\n",
      "       Sky change (data units):\n",
      "      - EXT = 'SCI',1   delta(MDRIZSKY) = 0.511208   NEW MDRIZSKY = 0.511208\n",
      "   *   Image:   'ib6oa8vlq_flt.fits['SCI',1]'  --  SKY = 31.011052620819722 (brightness units)\n",
      "       Sky change (data units):\n",
      "      - EXT = 'SCI',1   delta(MDRIZSKY) = 0.510072   NEW MDRIZSKY = 0.510072\n",
      "   *   Image:   'ib6oa8vpq_flt.fits['SCI',1]'  --  SKY = 30.6014208395594 (brightness units)\n",
      "       Sky change (data units):\n",
      "      - EXT = 'SCI',1   delta(MDRIZSKY) = 0.503334   NEW MDRIZSKY = 0.503334\n",
      "   *   Image:   'ib6ob8vtq_flt.fits['SCI',1]'  --  SKY = 31.130953599654994 (brightness units)\n",
      "       Sky change (data units):\n",
      "      - EXT = 'SCI',1   delta(MDRIZSKY) = 0.512044   NEW MDRIZSKY = 0.512044\n",
      "***** skymatch ended on 2020-11-03 11:00:53.793923\n",
      "TOTAL RUN TIME: 0:00:02.156754\n",
      "==== Processing Step Subtract Sky finished at 11:00:54.432 (03/11/2020)\n",
      "==== Processing Step  Separate Drizzle  started at  11:00:54.434 (03/11/2020)\n",
      "\n",
      "WCS Keywords\n",
      "\n",
      "CD_11  CD_12: 3.42598763584752e-05 9.76737188430952e-06\n",
      "CD_21  CD_22: 9.76737188430952e-06 -3.4259876358475e-05\n",
      "CRVAL    : 53.07112904468524 -27.70959857751279\n",
      "CRPIX    : 620.0 519.0\n",
      "NAXIS    : 1240 1038\n",
      "Plate Scale : 0.1282500028610227\n",
      "ORIENTAT : 164.08733290095458\n",
      "-Generating simple FITS output: ib6o03n9q_single_sci.fits\n",
      "Writing out image to disk: ib6o03n9q_single_sci.fits\n",
      "-Generating simple FITS output: ib6o03nbq_single_sci.fits\n",
      "-Generating simple FITS output: ib6o03niq_single_sci.fits\n",
      "Writing out image to disk: ib6o03nbq_single_sci.fits\n",
      "-Generating simple FITS output: ib6o03nmq_single_sci.fits\n",
      "-Generating simple FITS output: ib6o03nfq_single_sci.fits\n",
      "-Generating simple FITS output: ib6o03npq_single_sci.fits\n",
      "Writing out image to disk: ib6o03niq_single_sci.fits\n",
      "Writing out image to disk: ib6o03n9q_single_wht.fits\n",
      "-Generating simple FITS output: ib6o04u7q_single_sci.fits\n",
      "Writing out image to disk: ib6o03nfq_single_sci.fits\n",
      "Writing out image to disk: ib6o03nmq_single_sci.fits\n",
      "-Generating simple FITS output: ib6o04twq_single_sci.fits\n",
      "-Generating simple FITS output: ib6o09i0q_single_sci.fits\n",
      "-Generating simple FITS output: ib6ob8vtq_single_sci.fits\n",
      "-Generating simple FITS output: ib6o09hwq_single_sci.fits\n",
      "-Generating simple FITS output: ib6oa8vlq_single_sci.fits\n",
      "-Generating simple FITS output: ib6o09i3q_single_sci.fits\n",
      "-Generating simple FITS output: ib6oa8vpq_single_sci.fits\n",
      "Writing out image to disk: ib6o03nbq_single_wht.fits\n"
     ]
    },
    {
     "name": "stdout",
     "output_type": "stream",
     "text": [
      "-Generating simple FITS output: ib6o09hdq_single_sci.fits\n",
      "Writing out image to disk: ib6o03npq_single_sci.fits\n",
      "-Generating simple FITS output: ib6o09h7q_single_sci.fits\n",
      "-Generating simple FITS output: ib6o09h9q_single_sci.fits\n",
      "-Generating simple FITS output: ib6oa8viq_single_sci.fits\n",
      "-Generating simple FITS output: ib6o04tuq_single_sci.fits\n",
      "-Generating simple FITS output: ib6o04uaq_single_sci.fits\n",
      "Writing out image to disk: ib6o03niq_single_wht.fits\n",
      "Writing out image to disk: ib6o04u7q_single_sci.fits\n",
      "-Generating simple FITS output: ib6o04ueq_single_sci.fits\n",
      "-Generating simple FITS output: ib6o04uwq_single_sci.fits\n",
      "Writing out image to disk: ib6o04twq_single_sci.fits\n",
      "Writing out image to disk: ib6oa8vlq_single_sci.fits\n",
      "Writing out image to disk: ib6ob8vtq_single_sci.fits\n",
      "Writing out image to disk: ib6o09hwq_single_sci.fits\n",
      "Writing out image to disk: ib6oa8vpq_single_sci.fits\n",
      "Writing out image to disk: ib6o09i0q_single_sci.fits\n",
      "Writing out image to disk: ib6o09i3q_single_sci.fits\n",
      "Writing out image to disk: ib6o09hdq_single_sci.fits\n",
      "Writing out image to disk: ib6o09h9q_single_sci.fits\n",
      "Writing out image to disk: ib6o09h7q_single_sci.fits\n",
      "Writing out image to disk: ib6oa8viq_single_sci.fits\n",
      "Writing out image to disk: ib6o03nfq_single_wht.fits\n",
      "Writing out image to disk: ib6o03nmq_single_wht.fits\n",
      "Writing out image to disk: ib6o04tuq_single_sci.fits\n",
      "Writing out image to disk: ib6o03npq_single_wht.fits\n",
      "Writing out image to disk: ib6o04uaq_single_sci.fits\n",
      "Writing out image to disk: ib6o04u7q_single_wht.fits\n",
      "Writing out image to disk: ib6o04ueq_single_sci.fits\n",
      "Writing out image to disk: ib6o04uwq_single_sci.fits\n",
      "Writing out image to disk: ib6o04twq_single_wht.fits\n",
      "Writing out image to disk: ib6ob8vtq_single_wht.fits\n",
      "Writing out image to disk: ib6oa8vlq_single_wht.fits\n",
      "Writing out image to disk: ib6oa8vpq_single_wht.fits\n",
      "Writing out image to disk: ib6o09hwq_single_wht.fits\n",
      "Writing out image to disk: ib6o09i3q_single_wht.fits\n",
      "Writing out image to disk: ib6o09hdq_single_wht.fits\n",
      "Writing out image to disk: ib6o09i0q_single_wht.fits\n",
      "Writing out image to disk: ib6o09h7q_single_wht.fits\n",
      "Writing out image to disk: ib6o09h9q_single_wht.fits\n",
      "Writing out image to disk: ib6o04tuq_single_wht.fits\n",
      "Writing out image to disk: ib6o04ueq_single_wht.fits\n",
      "Writing out image to disk: ib6o04uwq_single_wht.fits\n",
      "Writing out image to disk: ib6o04uaq_single_wht.fits\n",
      "Writing out image to disk: ib6oa8viq_single_wht.fits\n",
      "==== Processing Step Separate Drizzle finished at 11:00:57.477 (03/11/2020)\n",
      "==== Processing Step  Create Median  started at  11:00:57.482 (03/11/2020)\n",
      "\n",
      "reference sky value for image 'ib6o03n9q_flt.fits' is 460.3413055568077\n",
      "reference sky value for image 'ib6o03nbq_flt.fits' is 480.1059767450802\n",
      "reference sky value for image 'ib6o03nfq_flt.fits' is 450.46581861801576\n",
      "reference sky value for image 'ib6o03niq_flt.fits' is 417.9313232149398\n",
      "reference sky value for image 'ib6o03nmq_flt.fits' is 461.55430961642577\n",
      "reference sky value for image 'ib6o03npq_flt.fits' is 420.44629478532136\n",
      "reference sky value for image 'ib6o04tuq_flt.fits' is 403.5942144940581\n",
      "reference sky value for image 'ib6o04twq_flt.fits' is 458.4985674253553\n",
      "reference sky value for image 'ib6o04u7q_flt.fits' is 408.05995211925074\n",
      "reference sky value for image 'ib6o04uaq_flt.fits' is 401.1974298369603\n",
      "reference sky value for image 'ib6o04ueq_flt.fits' is 453.0199959349505\n",
      "reference sky value for image 'ib6o04uwq_flt.fits' is 409.1370108288879\n",
      "reference sky value for image 'ib6o09h7q_flt.fits' is 401.32999827178344\n",
      "reference sky value for image 'ib6o09h9q_flt.fits' is 440.94075113983376\n",
      "reference sky value for image 'ib6o09hdq_flt.fits' is 416.78582664905815\n",
      "reference sky value for image 'ib6o09hwq_flt.fits' is 403.8425051221673\n",
      "reference sky value for image 'ib6o09i0q_flt.fits' is 448.8925266291194\n",
      "reference sky value for image 'ib6o09i3q_flt.fits' is 398.82213370955037\n",
      "reference sky value for image 'ib6oa8viq_flt.fits' is 410.4669067375038\n",
      "reference sky value for image 'ib6oa8vlq_flt.fits' is 409.5543381760569\n",
      "reference sky value for image 'ib6oa8vpq_flt.fits' is 454.47800980825156\n",
      "reference sky value for image 'ib6ob8vtq_flt.fits' is 411.13783702190295\n",
      "Saving output median image to: 'F125W_med.fits'\n",
      "==== Processing Step Create Median finished at 11:00:59.88 (03/11/2020)\n",
      "==== Processing Step  Blot  started at  11:00:59.891 (03/11/2020)\n",
      "\n",
      "    Blot: creating blotted image:  ib6o03n9q_flt.fits[sci,1]\n",
      "Using default C-based coordinate transformation...\n",
      "-Generating simple FITS output: ib6o03n9q_sci1_blt.fits\n",
      "Writing out image to disk: ib6o03n9q_sci1_blt.fits\n",
      "    Blot: creating blotted image:  ib6o03nbq_flt.fits[sci,1]\n",
      "Using default C-based coordinate transformation...\n",
      "-Generating simple FITS output: ib6o03nbq_sci1_blt.fits\n",
      "Writing out image to disk: ib6o03nbq_sci1_blt.fits\n",
      "    Blot: creating blotted image:  ib6o03nfq_flt.fits[sci,1]\n",
      "Using default C-based coordinate transformation...\n",
      "-Generating simple FITS output: ib6o03nfq_sci1_blt.fits\n",
      "Writing out image to disk: ib6o03nfq_sci1_blt.fits\n",
      "    Blot: creating blotted image:  ib6o03niq_flt.fits[sci,1]\n",
      "Using default C-based coordinate transformation...\n",
      "-Generating simple FITS output: ib6o03niq_sci1_blt.fits\n",
      "Writing out image to disk: ib6o03niq_sci1_blt.fits\n",
      "    Blot: creating blotted image:  ib6o03nmq_flt.fits[sci,1]\n",
      "Using default C-based coordinate transformation...\n",
      "-Generating simple FITS output: ib6o03nmq_sci1_blt.fits\n",
      "Writing out image to disk: ib6o03nmq_sci1_blt.fits\n",
      "    Blot: creating blotted image:  ib6o03npq_flt.fits[sci,1]\n",
      "Using default C-based coordinate transformation...\n",
      "-Generating simple FITS output: ib6o03npq_sci1_blt.fits\n",
      "Writing out image to disk: ib6o03npq_sci1_blt.fits\n",
      "    Blot: creating blotted image:  ib6o04tuq_flt.fits[sci,1]\n",
      "Using default C-based coordinate transformation...\n",
      "-Generating simple FITS output: ib6o04tuq_sci1_blt.fits\n",
      "Writing out image to disk: ib6o04tuq_sci1_blt.fits\n",
      "    Blot: creating blotted image:  ib6o04twq_flt.fits[sci,1]\n",
      "Using default C-based coordinate transformation...\n",
      "-Generating simple FITS output: ib6o04twq_sci1_blt.fits\n",
      "Writing out image to disk: ib6o04twq_sci1_blt.fits\n",
      "    Blot: creating blotted image:  ib6o04u7q_flt.fits[sci,1]\n",
      "Using default C-based coordinate transformation...\n",
      "-Generating simple FITS output: ib6o04u7q_sci1_blt.fits\n",
      "Writing out image to disk: ib6o04u7q_sci1_blt.fits\n",
      "    Blot: creating blotted image:  ib6o04uaq_flt.fits[sci,1]\n",
      "Using default C-based coordinate transformation...\n",
      "-Generating simple FITS output: ib6o04uaq_sci1_blt.fits\n",
      "Writing out image to disk: ib6o04uaq_sci1_blt.fits\n",
      "    Blot: creating blotted image:  ib6o04ueq_flt.fits[sci,1]\n",
      "Using default C-based coordinate transformation...\n",
      "-Generating simple FITS output: ib6o04ueq_sci1_blt.fits\n",
      "Writing out image to disk: ib6o04ueq_sci1_blt.fits\n",
      "    Blot: creating blotted image:  ib6o04uwq_flt.fits[sci,1]\n",
      "Using default C-based coordinate transformation...\n",
      "-Generating simple FITS output: ib6o04uwq_sci1_blt.fits\n",
      "Writing out image to disk: ib6o04uwq_sci1_blt.fits\n",
      "    Blot: creating blotted image:  ib6o09h7q_flt.fits[sci,1]\n",
      "Using default C-based coordinate transformation...\n",
      "-Generating simple FITS output: ib6o09h7q_sci1_blt.fits\n",
      "Writing out image to disk: ib6o09h7q_sci1_blt.fits\n",
      "    Blot: creating blotted image:  ib6o09h9q_flt.fits[sci,1]\n",
      "Using default C-based coordinate transformation...\n",
      "-Generating simple FITS output: ib6o09h9q_sci1_blt.fits\n",
      "Writing out image to disk: ib6o09h9q_sci1_blt.fits\n",
      "    Blot: creating blotted image:  ib6o09hdq_flt.fits[sci,1]\n",
      "Using default C-based coordinate transformation...\n",
      "-Generating simple FITS output: ib6o09hdq_sci1_blt.fits\n",
      "Writing out image to disk: ib6o09hdq_sci1_blt.fits\n",
      "    Blot: creating blotted image:  ib6o09hwq_flt.fits[sci,1]\n",
      "Using default C-based coordinate transformation...\n",
      "-Generating simple FITS output: ib6o09hwq_sci1_blt.fits\n",
      "Writing out image to disk: ib6o09hwq_sci1_blt.fits\n",
      "    Blot: creating blotted image:  ib6o09i0q_flt.fits[sci,1]\n",
      "Using default C-based coordinate transformation...\n",
      "-Generating simple FITS output: ib6o09i0q_sci1_blt.fits\n",
      "Writing out image to disk: ib6o09i0q_sci1_blt.fits\n",
      "    Blot: creating blotted image:  ib6o09i3q_flt.fits[sci,1]\n",
      "Using default C-based coordinate transformation...\n"
     ]
    },
    {
     "name": "stdout",
     "output_type": "stream",
     "text": [
      "-Generating simple FITS output: ib6o09i3q_sci1_blt.fits\n",
      "Writing out image to disk: ib6o09i3q_sci1_blt.fits\n",
      "    Blot: creating blotted image:  ib6oa8viq_flt.fits[sci,1]\n",
      "Using default C-based coordinate transformation...\n",
      "-Generating simple FITS output: ib6oa8viq_sci1_blt.fits\n",
      "Writing out image to disk: ib6oa8viq_sci1_blt.fits\n",
      "    Blot: creating blotted image:  ib6oa8vlq_flt.fits[sci,1]\n",
      "Using default C-based coordinate transformation...\n",
      "-Generating simple FITS output: ib6oa8vlq_sci1_blt.fits\n",
      "Writing out image to disk: ib6oa8vlq_sci1_blt.fits\n",
      "    Blot: creating blotted image:  ib6oa8vpq_flt.fits[sci,1]\n",
      "Using default C-based coordinate transformation...\n",
      "-Generating simple FITS output: ib6oa8vpq_sci1_blt.fits\n",
      "Writing out image to disk: ib6oa8vpq_sci1_blt.fits\n",
      "    Blot: creating blotted image:  ib6ob8vtq_flt.fits[sci,1]\n",
      "Using default C-based coordinate transformation...\n",
      "-Generating simple FITS output: ib6ob8vtq_sci1_blt.fits\n",
      "Writing out image to disk: ib6ob8vtq_sci1_blt.fits\n",
      "==== Processing Step Blot finished at 11:01:05.972 (03/11/2020)\n",
      "==== Processing Step  Driz_CR  started at  11:01:05.974 (03/11/2020)\n",
      "\n",
      "Creating output: ib6o03n9q_sci1_crmask.fits\n",
      "Creating output: ib6o03nbq_sci1_crmask.fits\n",
      "Creating output: ib6o03nfq_sci1_crmask.fits\n",
      "Creating output: ib6o03niq_sci1_crmask.fits\n",
      "Creating output: ib6o03nmq_sci1_crmask.fits\n",
      "Creating output: ib6o04tuq_sci1_crmask.fits\n",
      "Creating output: ib6o03npq_sci1_crmask.fits\n",
      "Creating output: ib6o04u7q_sci1_crmask.fits\n",
      "Creating output: ib6o04twq_sci1_crmask.fits\n",
      "Creating output: ib6o04uaq_sci1_crmask.fits\n",
      "Creating output: ib6o04ueq_sci1_crmask.fits\n",
      "Creating output: ib6o04uwq_sci1_crmask.fits\n",
      "Creating output: ib6o09h7q_sci1_crmask.fits\n",
      "Creating output: ib6o09h9q_sci1_crmask.fits\n",
      "Creating output: ib6o09hdq_sci1_crmask.fits\n",
      "Creating output: ib6o09hwq_sci1_crmask.fits\n",
      "Creating output: ib6o09i0q_sci1_crmask.fits\n",
      "Creating output: ib6o09i3q_sci1_crmask.fits\n",
      "Creating output: ib6oa8vpq_sci1_crmask.fits\n",
      "Creating output: ib6oa8viq_sci1_crmask.fits\n",
      "Created CR corrected file: 'ib6o03n9q_crclean.fits'\n",
      "Creating output: ib6oa8vlq_sci1_crmask.fits\n",
      "Creating output: ib6ob8vtq_sci1_crmask.fits\n",
      "Created CR corrected file: 'ib6o03nbq_crclean.fits'\n",
      "Created CR corrected file: 'ib6o03nfq_crclean.fits'\n",
      "Created CR corrected file: 'ib6o03niq_crclean.fits'\n",
      "Created CR corrected file: 'ib6o03nmq_crclean.fits'\n",
      "Created CR corrected file: 'ib6o04tuq_crclean.fits'\n",
      "Created CR corrected file: 'ib6o03npq_crclean.fits'\n",
      "Created CR corrected file: 'ib6o04u7q_crclean.fits'\n",
      "Created CR corrected file: 'ib6o04twq_crclean.fits'\n",
      "Created CR corrected file: 'ib6o04uaq_crclean.fits'\n",
      "Created CR corrected file: 'ib6o04ueq_crclean.fits'\n",
      "Created CR corrected file: 'ib6o04uwq_crclean.fits'\n",
      "Created CR corrected file: 'ib6o09h7q_crclean.fits'\n",
      "Created CR corrected file: 'ib6o09h9q_crclean.fits'\n",
      "Created CR corrected file: 'ib6o09hdq_crclean.fits'\n",
      "Created CR corrected file: 'ib6o09hwq_crclean.fits'\n",
      "Created CR corrected file: 'ib6o09i0q_crclean.fits'\n",
      "Created CR corrected file: 'ib6oa8viq_crclean.fits'\n",
      "Created CR corrected file: 'ib6o09i3q_crclean.fits'\n",
      "Created CR corrected file: 'ib6oa8vpq_crclean.fits'\n",
      "Created CR corrected file: 'ib6ob8vtq_crclean.fits'\n",
      "Created CR corrected file: 'ib6oa8vlq_crclean.fits'\n",
      "==== Processing Step Driz_CR finished at 11:01:08.859 (03/11/2020)\n",
      "==== Processing Step  Final Drizzle  started at  11:01:08.874 (03/11/2020)\n",
      "\n",
      "WCS Keywords\n",
      "\n",
      "CD_11  CD_12: 3.42598763584752e-05 9.76737188430952e-06\n",
      "CD_21  CD_22: 9.76737188430952e-06 -3.4259876358475e-05\n",
      "CRVAL    : 53.07112904468524 -27.70959857751279\n",
      "CRPIX    : 620.0 519.0\n",
      "NAXIS    : 1240 1038\n",
      "Plate Scale : 0.1282500028610227\n",
      "ORIENTAT : 164.08733290095458\n",
      "-Generating multi-extension output file:  F125W_drz.fits\n",
      "Writing out to disk: F125W_drz.fits\n",
      "==== Processing Step Final Drizzle finished at 11:01:18.434 (03/11/2020)\n",
      "\n",
      "AstroDrizzle Version 3.1.8 is finished processing at 11:01:18.437 (03/11/2020).\n",
      "\n",
      "\n",
      "\n",
      "   --------------------          --------------------\n",
      "                   Step          Elapsed time\n",
      "   --------------------          --------------------\n",
      "\n",
      "         Initialization          5.8457 sec.\n",
      "            Static Mask          0.7610 sec.\n",
      "           Subtract Sky          3.3998 sec.\n",
      "       Separate Drizzle          3.0435 sec.\n",
      "          Create Median          2.4073 sec.\n",
      "                   Blot          6.0815 sec.\n",
      "                Driz_CR          2.8849 sec.\n",
      "          Final Drizzle          9.5597 sec.\n",
      "   ====================          ====================\n",
      "                  Total          33.9834 sec.\n",
      "\n",
      "Trailer file written to:  astrodrizzle.log\n"
     ]
    }
   ],
   "source": [
    "ref = \"../G141/G141_drz.fits[1]\"\n",
    "astrodrizzle.AstroDrizzle(\"@F125W.lis\",output=\"F125W\",in_memory=False,skysub=\"yes\",build=True,driz_cr_corr=True,driz_cr=True,final_wcs=True,driz_separate=True,driz_sep_wcs=True,driz_sep_refimage=ref,final_refimage=ref)"
   ]
  },
  {
   "cell_type": "markdown",
   "metadata": {},
   "source": [
    "We create a directory ./FLX/ to prepare our Fluxcubes:"
   ]
  },
  {
   "cell_type": "code",
   "execution_count": 30,
   "metadata": {},
   "outputs": [],
   "source": [
    "os.chdir(cwd)\n",
    "\n",
    "if os.path.isdir(\"FLX\"):\n",
    "    shutil.rmtree(\"FLX\")\n",
    "\n",
    "os.mkdir(\"FLX\")"
   ]
  },
  {
   "cell_type": "markdown",
   "metadata": {},
   "source": [
    "Copy the direct imaging and G141 mosaic in the Fluxcube directory:"
   ]
  },
  {
   "cell_type": "code",
   "execution_count": 31,
   "metadata": {},
   "outputs": [
    {
     "data": {
      "text/plain": [
       "0"
      ]
     },
     "execution_count": 31,
     "metadata": {},
     "output_type": "execute_result"
    }
   ],
   "source": [
    "os.chdir(\"FLX\")\n",
    "\n",
    "os.system(\"cp ../F125W/F125W_drz.fits ./\")\n",
    "os.system(\"cp ../F140W/F140W_drz.fits ./\")\n",
    "os.system(\"cp ../G141/G141_drz.fits ./\")"
   ]
  },
  {
   "cell_type": "markdown",
   "metadata": {},
   "source": [
    "We will need access to the G141 FLT files, and copy them here instead of working in the ./DATA directory"
   ]
  },
  {
   "cell_type": "code",
   "execution_count": 32,
   "metadata": {},
   "outputs": [
    {
     "data": {
      "text/plain": [
       "0"
      ]
     },
     "execution_count": 32,
     "metadata": {},
     "output_type": "execute_result"
    }
   ],
   "source": [
    "os.system(\"cp ../DATA/*flt.fits .\")"
   ]
  },
  {
   "cell_type": "markdown",
   "metadata": {},
   "source": [
    "We also need the segmenation file we created earlier. Here we copy one we already prepared."
   ]
  },
  {
   "cell_type": "code",
   "execution_count": 33,
   "metadata": {},
   "outputs": [
    {
     "data": {
      "text/plain": [
       "0"
      ]
     },
     "execution_count": 33,
     "metadata": {},
     "output_type": "execute_result"
    }
   ],
   "source": [
    "os.system(\"cp ../cookbook_data/catalog/seg.fits .\")"
   ]
  },
  {
   "cell_type": "markdown",
   "metadata": {},
   "source": [
    "Create a cubelist.lis file that contains a description of the mosaics we are using and populates the PHOTPLAM and AB magnitude zeropoints"
   ]
  },
  {
   "cell_type": "code",
   "execution_count": 34,
   "metadata": {},
   "outputs": [
    {
     "name": "stdout",
     "output_type": "stream",
     "text": [
      "F125W_drz.fits\n",
      "F140W_drz.fits\n",
      "F125W_drz.fits\n",
      "F140W_drz.fits\n"
     ]
    }
   ],
   "source": [
    "import glob\n",
    "\n",
    "dir_images = []\n",
    "for dir_image in glob.glob(\"F*drz.fits\"):\n",
    "    print (dir_image)\n",
    "    fname = dir_image.split(\"_\")[0]\n",
    "    dir_images.append(dir_image)\n",
    "        \n",
    "s = []\n",
    "for dir_image in dir_images:\n",
    "    print (dir_image)  \n",
    "    PHOTPLAM = fits.open(dir_image)[0].header[\"PHOTPLAM\"] # Wavelength of filter in A\n",
    "    PHOTFLAM = fits.open(dir_image)[0].header[\"PHOTFLAM\"] # Wavelength of filter in A\n",
    "    ABZP = -48.60 - 2.5*np.log10(PHOTFLAM * PHOTPLAM**2/3e8/1e10 )\n",
    "    ss = \"%s %f %f\\n\" % (dir_image, PHOTPLAM/10., ABZP)\n",
    "    s.append(ss)\n",
    "open(\"cubelist.lis\",\"w\").writelines(s)\n",
    "    "
   ]
  },
  {
   "cell_type": "code",
   "execution_count": 35,
   "metadata": {},
   "outputs": [
    {
     "name": "stdout",
     "output_type": "stream",
     "text": [
      "F125W_drz.fits 1248.606000 26.231020\r\n",
      "F140W_drz.fits 1392.290700 26.453120\r\n"
     ]
    }
   ],
   "source": [
    "!cat cubelist.lis"
   ]
  },
  {
   "cell_type": "markdown",
   "metadata": {},
   "source": [
    "We now can create the Flexcube"
   ]
  },
  {
   "cell_type": "markdown",
   "metadata": {},
   "source": [
    "This will combined the mosaics and segmentation file into a flexcube that can be used to compute the contamination and perform the extraction. A different one is generated for each G141 FLT file"
   ]
  },
  {
   "cell_type": "code",
   "execution_count": 36,
   "metadata": {},
   "outputs": [
    {
     "name": "stdout",
     "output_type": "stream",
     "text": [
      "Using default C-based coordinate transformation...\n",
      "Using default C-based coordinate transformation...\n",
      "Using default C-based coordinate transformation...\n",
      "Using default C-based coordinate transformation...\n",
      "Using default C-based coordinate transformation...\n",
      "Using default C-based coordinate transformation...\n",
      "Using default C-based coordinate transformation...\n",
      "Using default C-based coordinate transformation...\n",
      "Using default C-based coordinate transformation...\n",
      "Using default C-based coordinate transformation...\n",
      "Using default C-based coordinate transformation...\n",
      "Using default C-based coordinate transformation...\n"
     ]
    },
    {
     "data": {
      "text/plain": [
       "0"
      ]
     },
     "execution_count": 36,
     "metadata": {},
     "output_type": "execute_result"
    }
   ],
   "source": [
    "axetasks.fcubeprep(grism_image = os.path.join(\"G141_drz.fits\"),\n",
    "    segm_image = os.path.join(\"seg.fits\"),\n",
    "    filter_info = \"cubelist.lis\",\n",
    "    AB_zero = \"yes\",\n",
    "    dim_info = dimension_info)\n",
    "os.system(\"cp ib6o23*FLX.fits ../DATA/\")"
   ]
  },
  {
   "cell_type": "markdown",
   "metadata": {},
   "source": [
    "At this point, we should have generated 2 master FLX file, one for each input imaging mosaic, and four FLX files, one for each of our G141 FLT file.\n"
   ]
  },
  {
   "cell_type": "code",
   "execution_count": 37,
   "metadata": {},
   "outputs": [
    {
     "name": "stdout",
     "output_type": "stream",
     "text": [
      "nan\n"
     ]
    },
    {
     "data": {
      "image/png": "[encoded data removed]",
      "text/plain": [
       "<Figure size 720x504 with 3 Axes>"
      ]
     },
     "metadata": {
      "needs_background": "light"
     },
     "output_type": "display_data"
    }
   ],
   "source": [
    "plt.rcParams[\"figure.figsize\"] = (10,7)\n",
    "\n",
    "plt.subplot(1,3,1)\n",
    "print (np.max(fits.open(\"ib6o23ryq_flt_2.FLX.fits\")[1].data))\n",
    "\n",
    "im = plt.imshow(fits.open(\"ib6o23ryq_flt_2.FLX.fits\")[\"SEGM\"].data*1.,origin=\"lower\")\n",
    "im.set_clim(0,199)\n",
    "\n",
    "plt.subplot(1,3,2)\n",
    "im = plt.imshow(fits.open(\"ib6o23ryq_flt_2.FLX.fits\")[\"LAMBDA1248\"].data,origin=\"lower\")\n",
    "im.set_clim(0,1e-20)\n",
    "\n",
    "plt.subplot(1,3,3)\n",
    "im = plt.imshow(fits.open(\"ib6o23ryq_flt_2.FLX.fits\")[\"LAMBDA1392\"].data,origin=\"lower\")\n",
    "im.set_clim(0,1e-20)"
   ]
  },
  {
   "cell_type": "markdown",
   "metadata": {},
   "source": [
    "We want to work on the non background subtracted G141 data. The ones in the DATA directory have already been subtracted during our basic extraction, so we copy the original G141 data back into the DATA directory."
   ]
  },
  {
   "cell_type": "code",
   "execution_count": 38,
   "metadata": {},
   "outputs": [
    {
     "data": {
      "text/plain": [
       "0"
      ]
     },
     "execution_count": 38,
     "metadata": {},
     "output_type": "execute_result"
    }
   ],
   "source": [
    "os.chdir(cwd)\n",
    "\n",
    "os.system(\"cp G141/*flt.fits DATA/\")"
   ]
  },
  {
   "cell_type": "markdown",
   "metadata": {},
   "source": [
    "We run aXeprep on the data. This step also substracts the background."
   ]
  },
  {
   "cell_type": "code",
   "execution_count": 39,
   "metadata": {},
   "outputs": [],
   "source": [
    "!mkdir DRIZZLE/tmp # required for now"
   ]
  },
  {
   "cell_type": "code",
   "execution_count": 40,
   "metadata": {},
   "outputs": [
    {
     "name": "stderr",
     "output_type": "stream",
     "text": [
      "WARNING: VerifyWarning: Card is too long, comment will be truncated. [astropy.io.fits.card]\n",
      "WARNING: VerifyWarning: Card is too long, comment will be truncated. [astropy.io.fits.card]\n",
      "WARNING: VerifyWarning: Card is too long, comment will be truncated. [astropy.io.fits.card]\n",
      "WARNING: VerifyWarning: Card is too long, comment will be truncated. [astropy.io.fits.card]\n"
     ]
    }
   ],
   "source": [
    "axetasks.axeprep(inlist=\"aXe.lis\",\n",
    "                     configs=\"G141.F140W.V4.31.conf\",\n",
    "                     backgr=True,\n",
    "                     backims=\"WFC3.IR.G141.sky.V1.0.fits\",\n",
    "                     norm=False,\n",
    "                     mfwhm=3.0)"
   ]
  },
  {
   "cell_type": "markdown",
   "metadata": {},
   "source": [
    "Checking the background levels that were subtracted from each fo the G141 FLT files"
   ]
  },
  {
   "cell_type": "code",
   "execution_count": 41,
   "metadata": {},
   "outputs": [
    {
     "name": "stdout",
     "output_type": "stream",
     "text": [
      "0.8666695 e/s\n",
      "0.9323076 e/s\n",
      "0.8832059 e/s\n",
      "0.8736654 e/s\n"
     ]
    }
   ],
   "source": [
    "print( fits.open(\"DATA/ib6o23rsq_flt.fits\")[1].header[\"SKY_CPS\"],\"e/s\")\n",
    "print( fits.open(\"DATA/ib6o23ruq_flt.fits\")[1].header[\"SKY_CPS\"],\"e/s\")\n",
    "print( fits.open(\"DATA/ib6o23ryq_flt.fits\")[1].header[\"SKY_CPS\"],\"e/s\")\n",
    "print( fits.open(\"DATA/ib6o23s0q_flt.fits\")[1].header[\"SKY_CPS\"],\"e/s\")"
   ]
  },
  {
   "cell_type": "markdown",
   "metadata": {},
   "source": [
    "We run axecore using the flexcube models"
   ]
  },
  {
   "cell_type": "code",
   "execution_count": 42,
   "metadata": {},
   "outputs": [
    {
     "name": "stdout",
     "output_type": "stream",
     "text": [
      "\n",
      "Writing non-linear coefficients to file\n",
      "\n",
      "\n",
      "Storing non-linear coefficients: \n",
      "WFC3: IR\n",
      "\n",
      "DRZSCALE set to: 0.1282500028610229\n",
      "\n",
      "Writing non-linear coefficients to file\n",
      "\n",
      "\n",
      "Storing non-linear coefficients: \n",
      "WFC3: IR\n",
      "\n",
      "DRZSCALE set to: 0.1282500028610229\n",
      "\n",
      "Writing non-linear coefficients to file\n",
      "\n",
      "\n",
      "Storing non-linear coefficients: \n",
      "WFC3: IR\n",
      "\n",
      "DRZSCALE set to: 0.1282500028610229\n",
      "\n",
      "Writing non-linear coefficients to file\n",
      "\n",
      "\n",
      "Storing non-linear coefficients: \n",
      "WFC3: IR\n",
      "\n",
      "DRZSCALE set to: 0.1282500028610229\n"
     ]
    }
   ],
   "source": [
    "axetasks.axecore('aXe.lis',\n",
    "                 \"G141.F140W.V4.31.conf\",\n",
    "                 extrfwhm=4.,\n",
    "                 drzfwhm=3.,\n",
    "                 backfwhm=0.,\n",
    "                 orient=False,\n",
    "                 weights=True,\n",
    "                 slitless_geom=False,\n",
    "                 cont_model='fluxcube',\n",
    "                 sampling='drizzle',\n",
    "                 exclude=True)"
   ]
  },
  {
   "cell_type": "markdown",
   "metadata": {},
   "source": [
    "Now we use aXedrizzle to combine the dithered observations into single 2D and 1D spectra.\n",
    "We first run the drzprep routine and then the axedrizzle task. The latter will take several minutes to run."
   ]
  },
  {
   "cell_type": "markdown",
   "metadata": {},
   "source": [
    "<h2> Do a basic box extraction"
   ]
  },
  {
   "cell_type": "code",
   "execution_count": 43,
   "metadata": {},
   "outputs": [],
   "source": [
    "opt_extr=False"
   ]
  },
  {
   "cell_type": "code",
   "execution_count": 44,
   "metadata": {},
   "outputs": [],
   "source": [
    "axetasks.drzprep(inlist = \"aXe.lis\",\n",
    "            configs =  \"G141.F140W.V4.31.conf\",\n",
    "            back = False,opt_extr=opt_extr)"
   ]
  },
  {
   "cell_type": "code",
   "execution_count": null,
   "metadata": {
    "scrolled": true
   },
   "outputs": [
    {
     "name": "stdout",
     "output_type": "stream",
     "text": [
      "Deleting old directory...\n",
      "Creating temporary directory:  DRIZZLE/tmp\n",
      "Object ID36: 1 empty contributors deleted.\n",
      "Object ID380: 1 empty contributors deleted.\n",
      "Object ID61: 2 empty contributors deleted.\n",
      "Object ID77: 2 empty contributors deleted.\n",
      "Object ID379: 2 empty contributors deleted.\n",
      "Object ID139: 2 empty contributors deleted.\n",
      "Object ID57: 3 empty contributors deleted.\n",
      "Object ID174: 2 empty contributors deleted.\n",
      "Object ID41: 1 empty contributors deleted.\n",
      "Object ID40: 1 empty contributors deleted.\n",
      "Object ID17: 2 empty contributors deleted.\n",
      "Object ID266: 2 empty contributors deleted.\n",
      "Object ID374: 2 empty contributors deleted.\n",
      "Object ID227: 2 empty contributors deleted.\n",
      "Object ID362: 2 empty contributors deleted.\n",
      "Object ID21: 2 empty contributors deleted.\n",
      "Object ID397: 1 empty contributors deleted.\n",
      "Object ID76: 2 empty contributors deleted.\n",
      "Object ID378: 2 empty contributors deleted.\n",
      "Object ID401: 1 empty contributors deleted.\n",
      "Object ID114: 2 empty contributors deleted.\n",
      "Object ID381: 2 empty contributors deleted.\n",
      "Object ID60: 2 empty contributors deleted.\n",
      "Object ID102: 2 empty contributors deleted.\n",
      "Object ID37: 1 empty contributors deleted.\n",
      "Object ID220: 2 empty contributors deleted.\n",
      "Object ID92: 2 empty contributors deleted.\n",
      "Object ID164: 2 empty contributors deleted.\n",
      "Object ID125: 2 empty contributors deleted.\n",
      "Object ID410: 2 empty contributors deleted.\n",
      "Object ID386: 2 empty contributors deleted.\n",
      "Object ID369: 2 empty contributors deleted.\n",
      "Object ID67: 2 empty contributors deleted.\n",
      "Object ID406: 2 empty contributors deleted.\n",
      "Object ID390: 3 empty contributors deleted.\n",
      "Object ID128: 2 empty contributors deleted.\n",
      "Object ID256: 2 empty contributors deleted.\n",
      "Object ID352: 2 empty contributors deleted.\n",
      "Object ID145: 2 empty contributors deleted.\n",
      "Object ID391: 1 empty contributors deleted.\n",
      "Object ID112: 1 empty contributors deleted.\n",
      "Object ID387: 2 empty contributors deleted.\n",
      "Object ID66: 1 empty contributors deleted.\n",
      "Object ID411: 3 empty contributors deleted.\n",
      "Object ID165: 2 empty contributors deleted.\n",
      "Object ID372: 1 empty contributors deleted.\n",
      "Object ID189: 2 empty contributors deleted.\n",
      "Object ID218: 2 empty contributors deleted.\n",
      "Object ID388: 1 empty contributors deleted.\n",
      "Object ID185: 2 empty contributors deleted.\n",
      "Object ID392: 3 empty contributors deleted.\n",
      "Object ID65: 2 empty contributors deleted.\n",
      "Object ID384: 3 empty contributors deleted.\n",
      "Object ID412: 2 empty contributors deleted.\n",
      "Object ID413: 2 empty contributors deleted.\n",
      "Object ID64: 2 empty contributors deleted.\n",
      "Object ID385: 2 empty contributors deleted.\n",
      "Object ID393: 2 empty contributors deleted.\n",
      "Object ID215: 2 empty contributors deleted.\n",
      "Object ID68: 2 empty contributors deleted.\n",
      "Object ID389: 1 empty contributors deleted.\n",
      "Object ID91: 2 empty contributors deleted.\n",
      "Object ID235: 2 empty contributors deleted.\n",
      "Object ID409: 2 empty contributors deleted.\n",
      "Object ID262: 2 empty contributors deleted.\n",
      "Object ID188: 2 empty contributors deleted.\n",
      "Object ID59: 2 empty contributors deleted.\n",
      "Object ID75: 2 empty contributors deleted.\n",
      "Object ID394: 3 empty contributors deleted.\n",
      "Object ID117: 2 empty contributors deleted.\n",
      "Object ID63: 3 empty contributors deleted.\n",
      "Object ID382: 2 empty contributors deleted.\n",
      "Object ID156: 2 empty contributors deleted.\n",
      "Object ID43: 1 empty contributors deleted.\n",
      "Object ID377: 2 empty contributors deleted.\n",
      "Object ID38: 1 empty contributors deleted.\n",
      "Object ID39: 1 empty contributors deleted.\n",
      "Object ID376: 3 empty contributors deleted.\n",
      "Object ID177: 2 empty contributors deleted.\n",
      "Object ID42: 1 empty contributors deleted.\n",
      "Object ID291: 2 empty contributors deleted.\n",
      "Object ID35: 1 empty contributors deleted.\n",
      "Object ID62: 2 empty contributors deleted.\n",
      "Object ID383: 2 empty contributors deleted.\n",
      "Object ID74: 2 empty contributors deleted.\n",
      "Object ID141: 2 empty contributors deleted.\n",
      "Object ID58: 2 empty contributors deleted.\n",
      "Object ID11: 1 empty contributors deleted.\n",
      "Object ID13: 1 empty contributors deleted.\n",
      "Object ID8: 1 empty contributors deleted.\n",
      "Drizzling object : ID154 ... \n",
      "Done!\n",
      "Drizzling object : ID292 ... \n",
      "Done!\n",
      "Drizzling object : ID338 ... \n",
      "Done!\n",
      "Drizzling object : ID103 ... \n",
      "Done!\n",
      "Drizzling object : ID380 ... \n",
      "Done!\n",
      "Drizzling object : ID61 ... \n",
      "Done!\n",
      "Drizzling object : ID115 ... \n",
      "Done!\n",
      "Drizzling object : ID396 ... \n",
      "Done!\n",
      "Drizzling object : ID98 ... \n",
      "Done!\n",
      "Drizzling object : ID379 ... \n",
      "Done!\n",
      "Drizzling object : ID142 ... \n",
      "Done!\n",
      "Drizzling object : ID284 ... \n",
      "Done!\n",
      "Drizzling object : ID139 ... \n",
      "Done!\n",
      "Drizzling object : ID355 ... \n",
      "Done!\n",
      "Drizzling object : ID210 ... \n",
      "Done!\n",
      "Drizzling object : ID181 ... \n",
      "Done!\n",
      "Drizzling object : ID302 ... \n",
      "Done!\n",
      "Drizzling object : ID247 ... \n",
      "Done!\n",
      "Drizzling object : ID178 ... \n",
      "Done!\n",
      "Drizzling object : ID197 ... \n",
      "Done!\n",
      "Drizzling object : ID314 ... \n",
      "Done!\n",
      "Drizzling object : ID251 ... \n",
      "Done!\n",
      "Drizzling object : ID343 ... \n",
      "Done!\n",
      "Drizzling object : ID206 ... \n",
      "Done!\n",
      "Drizzling object : ID271 ... \n",
      "Done!\n",
      "Drizzling object : ID334 ... \n",
      "Done!\n",
      "Drizzling object : ID158 ... \n",
      "Done!\n",
      "Drizzling object : ID226 ... \n",
      "Done!\n",
      "Drizzling object : ID82 ... \n",
      "Done!\n",
      "Drizzling object : ID363 ... \n",
      "Done!\n",
      "Drizzling object : ID94 ... \n",
      "Done!\n",
      "Drizzling object : ID230 ... \n",
      "Done!\n",
      "Drizzling object : ID375 ... \n",
      "Done!\n",
      "Drizzling object : ID119 ... \n",
      "Done!\n",
      "Drizzling object : ID267 ... \n",
      "Done!\n",
      "Drizzling object : ID288 ... \n",
      "Done!\n",
      "Drizzling object : ID322 ... \n",
      "Done!\n",
      "Drizzling object : ID57 ... \n",
      "Done!\n",
      "Drizzling object : ID359 ... \n",
      "Done!\n",
      "Drizzling object : ID135 ... \n",
      "Done!\n",
      "Drizzling object : ID162 ... \n",
      "Done!\n",
      "Drizzling object : ID318 ... \n",
      "Done!\n",
      "Drizzling object : ID174 ... \n",
      "Done!\n",
      "Drizzling object : ID123 ... \n",
      "Done!\n",
      "Drizzling object : ID122 ... \n",
      "Done!\n",
      "Drizzling object : ID175 ... \n",
      "Done!\n",
      "Drizzling object : ID17 ... \n",
      "Done!\n",
      "Drizzling object : ID319 ... \n",
      "Done!\n",
      "Drizzling object : ID163 ... \n",
      "Done!\n",
      "Drizzling object : ID134 ... \n",
      "Done!\n",
      "Drizzling object : ID56 ... \n",
      "Done!\n",
      "Drizzling object : ID358 ... \n",
      "Done!\n",
      "Drizzling object : ID266 ... \n",
      "Done!\n",
      "Drizzling object : ID289 ... \n",
      "Done!\n",
      "Drizzling object : ID323 ... \n",
      "Done!\n",
      "Drizzling object : ID118 ... \n",
      "Done!\n",
      "Drizzling object : ID231 ... \n",
      "Done!\n",
      "Drizzling object : ID95 ... \n",
      "Done!\n",
      "Drizzling object : ID83 ... \n",
      "Done!\n",
      "Drizzling object : ID362 ... \n",
      "Done!\n",
      "Drizzling object : ID159 ... \n",
      "Done!\n",
      "Drizzling object : ID270 ... \n",
      "Done!\n",
      "Drizzling object : ID335 ... \n",
      "Done!\n",
      "Drizzling object : ID342 ... \n",
      "Done!\n",
      "Drizzling object : ID207 ... \n",
      "Done!\n",
      "Drizzling object : ID315 ... \n",
      "Done!\n",
      "Drizzling object : ID250 ... \n",
      "Done!\n",
      "Drizzling object : ID179 ... \n",
      "Done!\n",
      "Drizzling object : ID196 ... \n",
      "Done!\n",
      "Drizzling object : ID303 ... \n",
      "Done!\n",
      "Drizzling object : ID246 ... \n",
      "Done!\n",
      "Drizzling object : ID180 ... \n",
      "Done!\n",
      "Drizzling object : ID354 ... \n",
      "Done!\n",
      "Drizzling object : ID211 ... \n",
      "Done!\n",
      "Drizzling object : ID138 ... \n",
      "Done!\n",
      "Drizzling object : ID285 ... \n",
      "Done!\n",
      "Drizzling object : ID21 ... \n",
      "Done!\n",
      "Drizzling object : ID143 ... \n",
      "Done!\n",
      "Drizzling object : ID397 ... \n",
      "Done!\n",
      "Drizzling object : ID99 ... \n",
      "Done!\n",
      "Drizzling object : ID378 ... \n",
      "Done!\n",
      "Drizzling object : ID401 ... \n",
      "Done!\n",
      "Drizzling object : ID381 ... \n",
      "Done!\n",
      "Drizzling object : ID60 ... \n",
      "Done!\n",
      "Drizzling object : ID102 ... \n",
      "Done!\n",
      "Drizzling object : ID293 ... \n",
      "Done!\n",
      "Drizzling object : ID339 ... \n",
      "Done!\n",
      "Drizzling object : ID155 ... \n",
      "Done!\n",
      "Drizzling object : ID277 ... \n",
      "Done!\n",
      "Drizzling object : ID332 ... \n",
      "Done!\n",
      "Drizzling object : ID298 ... \n",
      "Done!\n",
      "Drizzling object : ID220 ... \n",
      "Done!\n",
      "Drizzling object : ID84 ... \n",
      "Done!\n",
      "Drizzling object : ID365 ... \n",
      "Done!\n",
      "Drizzling object : ID109 ... \n",
      "Done!\n",
      "Drizzling object : ID92 ... \n",
      "Done!\n",
      "Drizzling object : ID236 ... \n",
      "Done!\n",
      "Drizzling object : ID373 ... \n",
      "Done!\n",
      "Drizzling object : ID261 ... \n",
      "Done!\n",
      "Drizzling object : ID324 ... \n",
      "Done!\n",
      "Drizzling object : ID148 ... \n",
      "Done!\n",
      "Drizzling object : ID51 ... \n",
      "Done!\n",
      "Drizzling object : ID133 ... \n",
      "Done!\n",
      "Drizzling object : ID308 ... \n",
      "Done!\n",
      "Drizzling object : ID164 ... \n",
      "Done!\n",
      "Drizzling object : ID172 ... \n",
      "Done!\n",
      "Drizzling object : ID349 ... \n",
      "Done!\n",
      "Drizzling object : ID47 ... \n",
      "Done!\n",
      "Drizzling object : ID125 ... \n",
      "Done!\n",
      "Drizzling object : ID152 ... \n",
      "Done!\n",
      "Drizzling object : ID294 ... \n",
      "Done!\n",
      "Drizzling object : ID30 ... \n",
      "Done!\n",
      "Drizzling object : ID410 ... \n",
      "Done!\n",
      "Drizzling object : ID105 ... \n",
      "Done!\n",
      "Drizzling object : ID88 ... \n",
      "Done!\n",
      "Drizzling object : ID386 ... \n",
      "Done!\n",
      "Drizzling object : ID369 ... \n",
      "Done!\n",
      "Drizzling object : ID67 ... \n"
     ]
    },
    {
     "name": "stdout",
     "output_type": "stream",
     "text": [
      "Done!\n",
      "Drizzling object : ID406 ... \n",
      "Done!\n",
      "Drizzling object : ID113 ... \n",
      "Done!\n",
      "Drizzling object : ID390 ... \n",
      "Done!\n",
      "Drizzling object : ID71 ... \n",
      "Done!\n",
      "Drizzling object : ID144 ... \n",
      "Done!\n",
      "Drizzling object : ID328 ... \n",
      "Done!\n",
      "Drizzling object : ID26 ... \n",
      "Done!\n",
      "Drizzling object : ID282 ... \n",
      "Done!\n",
      "Drizzling object : ID353 ... \n",
      "Done!\n",
      "Drizzling object : ID216 ... \n",
      "Done!\n",
      "Drizzling object : ID168 ... \n",
      "Done!\n",
      "Drizzling object : ID187 ... \n",
      "Done!\n",
      "Drizzling object : ID304 ... \n",
      "Done!\n",
      "Drizzling object : ID241 ... \n",
      "Done!\n",
      "Drizzling object : ID191 ... \n",
      "Done!\n",
      "Drizzling object : ID312 ... \n",
      "Done!\n",
      "Drizzling object : ID257 ... \n",
      "Done!\n",
      "Drizzling object : ID129 ... \n",
      "Done!\n",
      "Drizzling object : ID345 ... \n",
      "Done!\n",
      "Drizzling object : ID200 ... \n",
      "Done!\n",
      "Drizzling object : ID344 ... \n",
      "Done!\n",
      "Drizzling object : ID201 ... \n",
      "Done!\n",
      "Drizzling object : ID313 ... \n",
      "Done!\n",
      "Drizzling object : ID256 ... \n",
      "Done!\n",
      "Drizzling object : ID190 ... \n",
      "Done!\n",
      "Drizzling object : ID305 ... \n",
      "Done!\n",
      "Drizzling object : ID240 ... \n",
      "Done!\n",
      "Drizzling object : ID169 ... \n",
      "Done!\n",
      "Drizzling object : ID186 ... \n",
      "Done!\n",
      "Drizzling object : ID352 ... \n",
      "Done!\n",
      "Drizzling object : ID217 ... \n",
      "Done!\n",
      "Drizzling object : ID329 ... \n",
      "Done!\n",
      "Drizzling object : ID283 ... \n",
      "Done!\n",
      "Drizzling object : ID27 ... \n",
      "Done!\n",
      "Drizzling object : ID145 ... \n",
      "Done!\n",
      "Drizzling object : ID391 ... \n",
      "Done!\n",
      "Drizzling object : ID70 ... \n",
      "Done!\n",
      "Drizzling object : ID407 ... \n",
      "Done!\n",
      "Drizzling object : ID112 ... \n",
      "Done!\n",
      "Drizzling object : ID89 ... \n",
      "Done!\n",
      "Drizzling object : ID387 ... \n",
      "Done!\n",
      "Drizzling object : ID368 ... \n",
      "Done!\n",
      "Drizzling object : ID66 ... \n",
      "Done!\n",
      "Drizzling object : ID411 ... \n",
      "Done!\n",
      "Drizzling object : ID104 ... \n",
      "Done!\n",
      "Drizzling object : ID31 ... \n",
      "Done!\n",
      "Drizzling object : ID295 ... \n",
      "Done!\n",
      "Drizzling object : ID153 ... \n",
      "Done!\n",
      "Drizzling object : ID124 ... \n",
      "Done!\n",
      "Drizzling object : ID348 ... \n",
      "Done!\n",
      "Drizzling object : ID46 ... \n",
      "Done!\n",
      "Drizzling object : ID173 ... \n",
      "Done!\n",
      "Drizzling object : ID309 ... \n",
      "Done!\n",
      "Drizzling object : ID132 ... \n",
      "Done!\n",
      "Drizzling object : ID50 ... \n",
      "Done!\n",
      "Drizzling object : ID149 ... \n",
      "Done!\n",
      "Drizzling object : ID260 ... \n",
      "Done!\n",
      "Drizzling object : ID325 ... \n",
      "Done!\n",
      "Drizzling object : ID237 ... \n",
      "Done!\n",
      "Drizzling object : ID93 ... \n",
      "Done!\n",
      "Drizzling object : ID108 ... \n",
      "Done!\n",
      "Drizzling object : ID85 ... \n",
      "Done!\n",
      "Drizzling object : ID221 ... \n",
      "Done!\n",
      "Drizzling object : ID364 ... \n",
      "Done!\n",
      "Drizzling object : ID276 ... \n",
      "Done!\n",
      "Drizzling object : ID333 ... \n",
      "Done!\n",
      "Drizzling object : ID299 ... \n",
      "Done!\n",
      "Drizzling object : ID127 ... \n",
      "Done!\n",
      "Drizzling object : ID170 ... \n",
      "Done!\n",
      "Drizzling object : ID259 ... \n"
     ]
    }
   ],
   "source": [
    "axetasks.axecrr(inlist=\"aXe.lis\",\n",
    "    configs=\"G141.F140W.V4.31.conf\",\n",
    "    infwhm = 4.0,\n",
    "    outfwhm = 3.0,\n",
    "    back = False,\n",
    "    driz_separate = 'yes',\n",
    "    opt_extr=opt_extr\n",
    "    )\n"
   ]
  },
  {
   "cell_type": "markdown",
   "metadata": {},
   "source": [
    "<h2> Do an Optimal extraction"
   ]
  },
  {
   "cell_type": "code",
   "execution_count": null,
   "metadata": {},
   "outputs": [],
   "source": [
    "opt_extr=True"
   ]
  },
  {
   "cell_type": "code",
   "execution_count": null,
   "metadata": {},
   "outputs": [],
   "source": [
    "axetasks.drzprep(inlist = \"aXe.lis\",\n",
    "            configs =  \"G141.F140W.V4.31.conf\",\n",
    "            back = True,opt_extr=opt_extr)"
   ]
  },
  {
   "cell_type": "code",
   "execution_count": null,
   "metadata": {},
   "outputs": [],
   "source": [
    "axetasks.axecrr(inlist=\"aXe.lis\",\n",
    "    configs=\"G141.F140W.V4.31.conf\",\n",
    "    infwhm = 4.0,\n",
    "    outfwhm = 3.0,\n",
    "    back = False,\n",
    "    driz_separate = 'yes',\n",
    "    opt_extr=opt_extr\n",
    "    )"
   ]
  },
  {
   "cell_type": "markdown",
   "metadata": {},
   "source": [
    "The extraction results are in the DRIZZLE directory we created, and we can examine a 2D, rectified and wavelength calibrated version of the spectrum we looked at earlier:"
   ]
  },
  {
   "cell_type": "code",
   "execution_count": null,
   "metadata": {},
   "outputs": [],
   "source": [
    "ID = 160\n",
    "d = fits.open(\"./DRIZZLE/aXeWFC3_G141_2.STP.fits\")[\"BEAM_%dA\" % (ID)].data\n",
    "im = plt.imshow(d)\n",
    "im.set_clim(0,0.1)"
   ]
  },
  {
   "cell_type": "markdown",
   "metadata": {},
   "source": [
    "We plot the extracted 1D spectra of our source and the estimate of the contamination:"
   ]
  },
  {
   "cell_type": "code",
   "execution_count": null,
   "metadata": {},
   "outputs": [],
   "source": [
    "fin = fits.open(\"./DRIZZLE/aXeWFC3_G141_2.SPC.fits\")\n",
    "tdata = fin[\"BEAM_%dA\" % (ID)].data\n",
    "x = tdata[\"LAMBDA\"]\n",
    "f = tdata[\"FLUX\"]\n",
    "e = tdata[\"FERROR\"]\n",
    "\n",
    "c = tdata[\"CONTAM\"]\n",
    "vg = (x>11500) & (x<16500)\n",
    "plt.plot(x[vg],f[vg])\n",
    "plt.errorbar(x[vg],f[vg],e[vg])\n",
    "\n",
    "plt.plot(x[vg],c[vg])"
   ]
  },
  {
   "cell_type": "markdown",
   "metadata": {},
   "source": [
    "The MEF files in the DRIZZLE directory contain the 2D version of the spectrum of a source as well as estimte of the contamination:"
   ]
  },
  {
   "cell_type": "code",
   "execution_count": null,
   "metadata": {},
   "outputs": [],
   "source": [
    "plt.subplot(3,1,1)\n",
    "d = fits.open(\"./DRIZZLE/aXeWFC3_G141_mef_ID%d.fits\" % (ID))[\"SCI\"].data\n",
    "im = plt.imshow(d,origin=\"lower\")\n",
    "im.set_clim(0,0.05)\n",
    "\n",
    "plt.subplot(3,1,2)\n",
    "d = fits.open(\"./DRIZZLE/aXeWFC3_G141_mef_ID%d.fits\" % (ID))[\"CON\"].data\n",
    "im = plt.imshow(d,origin=\"lower\")\n",
    "im.set_clim(0,0.05)"
   ]
  },
  {
   "cell_type": "markdown",
   "metadata": {},
   "source": [
    "The individually extracted spectra are in the OUTPUT directory and the combined ones in the DRIZZLE directory. We can plot and compare them:"
   ]
  },
  {
   "cell_type": "code",
   "execution_count": null,
   "metadata": {},
   "outputs": [],
   "source": [
    "import glob\n",
    "\n",
    "for s in glob.glob(\"OUTPUT/ib6o2*2.SPC.fits\"):\n",
    "    print (s)\n",
    "    d1 = fits.open(s)[\"BEAM_%dA\" % (ID)].data\n",
    "    w = d1[\"LAMBDA\"]\n",
    "    f = d1[\"FLUX\"]\n",
    "    e = d1[\"FERROR\"]\n",
    "    vg = (w>11500) & (w<16000)\n",
    "    plt.errorbar(w[vg],f[vg],e[vg])\n",
    "plt.xlabel(r'Wavelength ($\\AA$)')\n",
    "plt.ylabel(r'Flux ($erg/s/cm^2/\\AA/s$)');\n",
    "\n",
    "\n",
    "fin = fits.open(\"./DRIZZLE/aXeWFC3_G141_2.SPC.fits\")\n",
    "tdata = fin[\"BEAM_%dA\" % (ID)].data\n",
    "x = tdata[\"LAMBDA\"]\n",
    "f = tdata[\"FLUX\"]\n",
    "e = tdata[\"FERROR\"]\n",
    "\n",
    "c = tdata[\"CONTAM\"]\n",
    "vg = (x>11500) & (x<16500)\n",
    "#plt.errorbar(x[vg],y[vg],e[vg])\n",
    "plt.plot(x[vg],f[vg],color='k',lw=2)\n",
    "plt.errorbar(x[vg],f[vg],e[vg],color='k',lw=2)\n"
   ]
  },
  {
   "cell_type": "code",
   "execution_count": null,
   "metadata": {},
   "outputs": [],
   "source": []
  }
 ],
 "metadata": {
  "kernelspec": {
   "display_name": "Python 3",
   "language": "python",
   "name": "python3"
  },
  "language_info": {
   "codemirror_mode": {
    "name": "ipython",
    "version": 3
   },
   "file_extension": ".py",
   "mimetype": "text/x-python",
   "name": "python",
   "nbconvert_exporter": "python",
   "pygments_lexer": "ipython3",
   "version": "3.7.8"
  }
 },
 "nbformat": 4,
 "nbformat_minor": 2
}
